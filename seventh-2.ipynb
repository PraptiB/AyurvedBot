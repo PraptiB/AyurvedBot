{
  "cells": [
    {
      "cell_type": "markdown",
      "metadata": {
        "id": "wJpXpmjEYC_T"
      },
      "source": [
        "## Building a GPT\n",
        "\n",
        "Companion notebook to the [Zero To Hero](https://karpathy.ai/zero-to-hero.html) video on GPT."
      ]
    },
    {
      "cell_type": "code",
      "execution_count": null,
      "metadata": {
        "id": "h5hjCcLDr2WC"
      },
      "outputs": [],
      "source": []
    },
    {
      "cell_type": "code",
      "execution_count": null,
      "metadata": {
        "id": "O6medjfRsLD9"
      },
      "outputs": [],
      "source": [
        "# read it in to inspect it\n",
        "with open('books copy 2.txt', 'r', encoding='utf-8') as f:\n",
        "    text = f.read()"
      ]
    },
    {
      "cell_type": "code",
      "execution_count": null,
      "metadata": {
        "colab": {
          "base_uri": "https://localhost:8080/"
        },
        "id": "6xWI_VyAsN8F",
        "outputId": "bb259da5-161f-46a3-a4c9-a52fd9ba9874"
      },
      "outputs": [
        {
          "output_type": "stream",
          "name": "stdout",
          "text": [
            "length of dataset in characters:  24870\n"
          ]
        }
      ],
      "source": [
        "print(\"length of dataset in characters: \", len(text))"
      ]
    },
    {
      "cell_type": "code",
      "execution_count": null,
      "metadata": {
        "colab": {
          "base_uri": "https://localhost:8080/"
        },
        "id": "2c5V0FvqseE0",
        "outputId": "e2ce3b49-8973-40fb-baca-13a2a6fad109"
      },
      "outputs": [
        {
          "output_type": "stream",
          "name": "stdout",
          "text": [
            "\n",
            "Part I: The Science of Life\n",
            "\n",
            "Chapter 1: Ayurveda: Body, Mind, and Soul\n",
            "\n",
            "Ayurveda integrates science, philosophy, and religion to promote human happiness, health, and growth. It offers both theoretical knowledge and practical wisdom, emphasizing the interconnectedness of body, mind, and spirit. Understanding the fundamental principles of Ayurveda is essential for applying its practical recommendations effectively.\n",
            "\n",
            "The Universe and Our Connection\n",
            "\n",
            "According to Ayurveda, the universe emanates from universal Cosmic Consciousness, manifesting as male (Purusha) and female (Prakruti) energies. These energies permeate all living beings and inanimate objects, serving as the foundation of existence. Purusha represents pure awareness, while Prakruti is the creative force that gives rise to the universe.\n",
            "\n",
            "The Three Universal Qualities\n",
            "\n",
            "Ahamkar, or ego, arises from Prakruti and manifests through three universal qualities: Sattva (stability and purity), Rajas (dynamic movement), and Tamas (inertia\n"
          ]
        }
      ],
      "source": [
        "# let's look at the first 1000 characters\n",
        "print(text[:1000])"
      ]
    },
    {
      "cell_type": "code",
      "execution_count": null,
      "metadata": {
        "colab": {
          "base_uri": "https://localhost:8080/"
        },
        "id": "0e-Rbyr8sfM8",
        "outputId": "290645b6-ce5b-440e-ce46-eec16941f38c"
      },
      "outputs": [
        {
          "output_type": "stream",
          "name": "stdout",
          "text": [
            "\n",
            " !'(),-.0123568:;=?ABCDEFGHIJKLMNOPQRSTUVWYabcdefghijklmnopqrstuvwxyz–—’“”\n",
            "75\n"
          ]
        }
      ],
      "source": [
        "# here are all the unique characters that occur in this text\n",
        "chars = sorted(list(set(text)))\n",
        "vocab_size = len(chars)\n",
        "print(''.join(chars))\n",
        "print(vocab_size)"
      ]
    },
    {
      "cell_type": "code",
      "execution_count": null,
      "metadata": {
        "colab": {
          "base_uri": "https://localhost:8080/"
        },
        "id": "Yw1LKNCgwjj1",
        "outputId": "8dfa51fc-2307-43de-bf88-c200e9bfbe87"
      },
      "outputs": [
        {
          "output_type": "stream",
          "name": "stdout",
          "text": [
            "[51, 52, 52, 1, 63, 51, 48, 61, 48]\n",
            "hii there\n"
          ]
        }
      ],
      "source": [
        "# create a mapping from characters to integers\n",
        "stoi = { ch:i for i,ch in enumerate(chars) }\n",
        "itos = { i:ch for i,ch in enumerate(chars) }\n",
        "encode = lambda s: [stoi[c] for c in s] # encoder: take a string, output a list of integers\n",
        "decode = lambda l: ''.join([itos[i] for i in l]) # decoder: take a list of integers, output a string\n",
        "\n",
        "print(encode(\"hii there\"))\n",
        "print(decode(encode(\"hii there\")))"
      ]
    },
    {
      "cell_type": "code",
      "execution_count": null,
      "metadata": {
        "colab": {
          "base_uri": "https://localhost:8080/"
        },
        "id": "YJb0OXPwzvqg",
        "outputId": "cc2e3aed-8078-4d8b-f087-38f4669af220"
      },
      "outputs": [
        {
          "output_type": "stream",
          "name": "stdout",
          "text": [
            "torch.Size([24870]) torch.int64\n",
            "tensor([ 0, 35, 44, 61, 63,  1, 28, 16,  1, 39, 51, 48,  1, 38, 46, 52, 48, 57,\n",
            "        46, 48,  1, 58, 49,  1, 31, 52, 49, 48,  0,  0, 22, 51, 44, 59, 63, 48,\n",
            "        61,  1, 10, 16,  1, 20, 68, 64, 61, 65, 48, 47, 44, 16,  1, 21, 58, 47,\n",
            "        68,  6,  1, 32, 52, 57, 47,  6,  1, 44, 57, 47,  1, 38, 58, 64, 55,  0,\n",
            "         0, 20, 68, 64, 61, 65, 48, 47, 44,  1, 52, 57, 63, 48, 50, 61, 44, 63,\n",
            "        48, 62,  1, 62, 46, 52, 48, 57, 46, 48,  6,  1, 59, 51, 52, 55, 58, 62,\n",
            "        58, 59, 51, 68,  6,  1, 44, 57, 47,  1, 61, 48, 55, 52, 50, 52, 58, 57,\n",
            "         1, 63, 58,  1, 59, 61, 58, 56, 58, 63, 48,  1, 51, 64, 56, 44, 57,  1,\n",
            "        51, 44, 59, 59, 52, 57, 48, 62, 62,  6,  1, 51, 48, 44, 55, 63, 51,  6,\n",
            "         1, 44, 57, 47,  1, 50, 61, 58, 66, 63, 51,  8,  1, 28, 63,  1, 58, 49,\n",
            "        49, 48, 61, 62,  1, 45, 58, 63, 51,  1, 63, 51, 48, 58, 61, 48, 63, 52,\n",
            "        46, 44, 55,  1, 54, 57, 58, 66, 55, 48, 47, 50, 48,  1, 44, 57, 47,  1,\n",
            "        59, 61, 44, 46, 63, 52, 46, 44, 55,  1, 66, 52, 62, 47, 58, 56,  6,  1,\n",
            "        48, 56, 59, 51, 44, 62, 52, 69, 52, 57, 50,  1, 63, 51, 48,  1, 52, 57,\n",
            "        63, 48, 61, 46, 58, 57, 57, 48, 46, 63, 48, 47, 57, 48, 62, 62,  1, 58,\n",
            "        49,  1, 45, 58, 47, 68,  6,  1, 56, 52, 57, 47,  6,  1, 44, 57, 47,  1,\n",
            "        62, 59, 52, 61, 52, 63,  8,  1, 40, 57, 47, 48, 61, 62, 63, 44, 57, 47,\n",
            "        52, 57, 50,  1, 63, 51, 48,  1, 49, 64, 57, 47, 44, 56, 48, 57, 63, 44,\n",
            "        55,  1, 59, 61, 52, 57, 46, 52, 59, 55, 48, 62,  1, 58, 49,  1, 20, 68,\n",
            "        64, 61, 65, 48, 47, 44,  1, 52, 62,  1, 48, 62, 62, 48, 57, 63, 52, 44,\n",
            "        55,  1, 49, 58, 61,  1, 44, 59, 59, 55, 68, 52, 57, 50,  1, 52, 63, 62,\n",
            "         1, 59, 61, 44, 46, 63, 52, 46, 44, 55,  1, 61, 48, 46, 58, 56, 56, 48,\n",
            "        57, 47, 44, 63, 52, 58, 57, 62,  1, 48, 49, 49, 48, 46, 63, 52, 65, 48,\n",
            "        55, 68,  8,  0,  0, 39, 51, 48,  1, 40, 57, 52, 65, 48, 61, 62, 48,  1,\n",
            "        44, 57, 47,  1, 34, 64, 61,  1, 22, 58, 57, 57, 48, 46, 63, 52, 58, 57,\n",
            "         0,  0, 20, 46, 46, 58, 61, 47, 52, 57, 50,  1, 63, 58,  1, 20, 68, 64,\n",
            "        61, 65, 48, 47, 44,  6,  1, 63, 51, 48,  1, 64, 57, 52, 65, 48, 61, 62,\n",
            "        48,  1, 48, 56, 44, 57, 44, 63, 48, 62,  1, 49, 61, 58, 56,  1, 64, 57,\n",
            "        52, 65, 48, 61, 62, 44, 55,  1, 22, 58, 62, 56, 52, 46,  1, 22, 58, 57,\n",
            "        62, 46, 52, 58, 64, 62, 57, 48, 62, 62,  6,  1, 56, 44, 57, 52, 49, 48,\n",
            "        62, 63, 52, 57, 50,  1, 44, 62,  1, 56, 44, 55, 48,  1,  4, 35, 64, 61,\n",
            "        64, 62, 51, 44,  5,  1, 44, 57, 47,  1, 49, 48, 56, 44, 55, 48,  1,  4,\n",
            "        35, 61, 44, 54, 61, 64, 63, 52,  5,  1, 48, 57, 48, 61, 50, 52, 48, 62,\n",
            "         8,  1, 39, 51, 48, 62, 48,  1, 48, 57, 48, 61, 50, 52, 48, 62,  1, 59,\n",
            "        48, 61, 56, 48, 44, 63, 48,  1, 44, 55, 55,  1, 55, 52, 65, 52, 57, 50,\n",
            "         1, 45, 48, 52, 57, 50, 62,  1, 44, 57, 47,  1, 52, 57, 44, 57, 52, 56,\n",
            "        44, 63, 48,  1, 58, 45, 53, 48, 46, 63, 62,  6,  1, 62, 48, 61, 65, 52,\n",
            "        57, 50,  1, 44, 62,  1, 63, 51, 48,  1, 49, 58, 64, 57, 47, 44, 63, 52,\n",
            "        58, 57,  1, 58, 49,  1, 48, 67, 52, 62, 63, 48, 57, 46, 48,  8,  1, 35,\n",
            "        64, 61, 64, 62, 51, 44,  1, 61, 48, 59, 61, 48, 62, 48, 57, 63, 62,  1,\n",
            "        59, 64, 61, 48,  1, 44, 66, 44, 61, 48, 57, 48, 62, 62,  6,  1, 66, 51,\n",
            "        52, 55, 48,  1, 35, 61, 44, 54, 61, 64, 63, 52,  1, 52, 62,  1, 63, 51,\n",
            "        48,  1, 46, 61, 48, 44, 63, 52, 65, 48,  1, 49, 58, 61, 46, 48,  1, 63,\n",
            "        51, 44, 63,  1, 50, 52, 65, 48, 62,  1, 61, 52, 62, 48,  1, 63, 58,  1,\n",
            "        63, 51, 48,  1, 64, 57, 52, 65, 48, 61, 62, 48,  8,  0,  0, 39, 51, 48,\n",
            "         1, 39, 51, 61, 48, 48,  1, 40, 57, 52, 65, 48, 61, 62, 44, 55,  1, 36,\n",
            "        64, 44, 55, 52, 63, 52, 48, 62,  0,  0, 20, 51, 44, 56, 54, 44, 61,  6,\n",
            "         1, 58, 61,  1, 48, 50, 58,  6,  1, 44, 61, 52, 62, 48, 62,  1, 49, 61,\n",
            "        58, 56,  1, 35, 61, 44, 54, 61, 64, 63, 52,  1, 44, 57, 47,  1, 56, 44,\n",
            "        57, 52, 49, 48, 62, 63, 62,  1, 63, 51, 61, 58, 64, 50, 51,  1, 63, 51,\n",
            "        61, 48, 48,  1, 64, 57, 52, 65, 48, 61, 62, 44, 55,  1, 60, 64, 44, 55,\n",
            "        52, 63, 52, 48, 62, 16,  1, 38, 44, 63, 63, 65, 44,  1,  4, 62, 63, 44,\n",
            "        45, 52, 55, 52, 63, 68,  1, 44, 57, 47,  1, 59, 64, 61, 52, 63, 68,  5,\n",
            "         6,  1, 37, 44, 53, 44, 62,  1,  4, 47, 68, 57, 44, 56, 52, 46,  1, 56,\n",
            "        58, 65, 48, 56, 48, 57, 63,  5,  6,  1, 44, 57, 47,  1, 39, 44, 56, 44,\n",
            "        62,  1,  4, 52, 57, 48, 61, 63, 52, 44])\n"
          ]
        }
      ],
      "source": [
        "# let's now encode the entire text dataset and store it into a torch.Tensor\n",
        "import torch # we use PyTorch: https://pytorch.org\n",
        "data = torch.tensor(encode(text), dtype=torch.long)\n",
        "print(data.shape, data.dtype)\n",
        "print(data[:1000]) # the 1000 characters we looked at earier will to the GPT look like this"
      ]
    },
    {
      "cell_type": "code",
      "execution_count": null,
      "metadata": {
        "id": "f_WIXqxz0lU5"
      },
      "outputs": [],
      "source": [
        "# Let's now split up the data into train and validation sets\n",
        "n = int(0.9*len(data)) # first 90% will be train, rest val\n",
        "train_data = data[:n]\n",
        "val_data = data[n:]"
      ]
    },
    {
      "cell_type": "code",
      "execution_count": null,
      "metadata": {
        "colab": {
          "base_uri": "https://localhost:8080/"
        },
        "id": "TD5Bj8Y6IAD4",
        "outputId": "afd09dfb-e3f4-4402-f25b-94838aeddc16"
      },
      "outputs": [
        {
          "output_type": "execute_result",
          "data": {
            "text/plain": [
              "tensor([ 0, 35, 44, 61, 63,  1, 28, 16,  1])"
            ]
          },
          "metadata": {},
          "execution_count": 9
        }
      ],
      "source": [
        "block_size = 8\n",
        "train_data[:block_size+1]"
      ]
    },
    {
      "cell_type": "code",
      "execution_count": null,
      "metadata": {
        "colab": {
          "base_uri": "https://localhost:8080/"
        },
        "id": "9HXDe8vGJCEn",
        "outputId": "036c69e3-d641-405e-ad70-29bd53fe9698"
      },
      "outputs": [
        {
          "output_type": "stream",
          "name": "stdout",
          "text": [
            "when input is tensor([0]) the target: 35\n",
            "when input is tensor([ 0, 35]) the target: 44\n",
            "when input is tensor([ 0, 35, 44]) the target: 61\n",
            "when input is tensor([ 0, 35, 44, 61]) the target: 63\n",
            "when input is tensor([ 0, 35, 44, 61, 63]) the target: 1\n",
            "when input is tensor([ 0, 35, 44, 61, 63,  1]) the target: 28\n",
            "when input is tensor([ 0, 35, 44, 61, 63,  1, 28]) the target: 16\n",
            "when input is tensor([ 0, 35, 44, 61, 63,  1, 28, 16]) the target: 1\n"
          ]
        }
      ],
      "source": [
        "x = train_data[:block_size]\n",
        "y = train_data[1:block_size+1]\n",
        "for t in range(block_size):\n",
        "    context = x[:t+1]\n",
        "    target = y[t]\n",
        "    print(f\"when input is {context} the target: {target}\")"
      ]
    },
    {
      "cell_type": "code",
      "execution_count": null,
      "metadata": {
        "colab": {
          "base_uri": "https://localhost:8080/"
        },
        "id": "Q3k1Czf7LuA9",
        "outputId": "1d1036de-065a-4951-e5b7-135aadf300e6"
      },
      "outputs": [
        {
          "output_type": "stream",
          "name": "stdout",
          "text": [
            "inputs:\n",
            "torch.Size([4, 8])\n",
            "tensor([[62, 48, 57, 63,  1, 52, 57,  1],\n",
            "        [51, 44, 62,  1, 52, 57,  1, 68],\n",
            "        [48, 68,  1, 56, 44, 68,  1, 50],\n",
            "        [52, 63, 62,  1, 59, 61, 44, 46]])\n",
            "targets:\n",
            "torch.Size([4, 8])\n",
            "tensor([[48, 57, 63,  1, 52, 57,  1, 48],\n",
            "        [44, 62,  1, 52, 57,  1, 68, 58],\n",
            "        [68,  1, 56, 44, 68,  1, 50, 52],\n",
            "        [63, 62,  1, 59, 61, 44, 46, 63]])\n",
            "----\n",
            "when input is [62] the target: 48\n",
            "when input is [62, 48] the target: 57\n",
            "when input is [62, 48, 57] the target: 63\n",
            "when input is [62, 48, 57, 63] the target: 1\n",
            "when input is [62, 48, 57, 63, 1] the target: 52\n",
            "when input is [62, 48, 57, 63, 1, 52] the target: 57\n",
            "when input is [62, 48, 57, 63, 1, 52, 57] the target: 1\n",
            "when input is [62, 48, 57, 63, 1, 52, 57, 1] the target: 48\n",
            "when input is [51] the target: 44\n",
            "when input is [51, 44] the target: 62\n",
            "when input is [51, 44, 62] the target: 1\n",
            "when input is [51, 44, 62, 1] the target: 52\n",
            "when input is [51, 44, 62, 1, 52] the target: 57\n",
            "when input is [51, 44, 62, 1, 52, 57] the target: 1\n",
            "when input is [51, 44, 62, 1, 52, 57, 1] the target: 68\n",
            "when input is [51, 44, 62, 1, 52, 57, 1, 68] the target: 58\n",
            "when input is [48] the target: 68\n",
            "when input is [48, 68] the target: 1\n",
            "when input is [48, 68, 1] the target: 56\n",
            "when input is [48, 68, 1, 56] the target: 44\n",
            "when input is [48, 68, 1, 56, 44] the target: 68\n",
            "when input is [48, 68, 1, 56, 44, 68] the target: 1\n",
            "when input is [48, 68, 1, 56, 44, 68, 1] the target: 50\n",
            "when input is [48, 68, 1, 56, 44, 68, 1, 50] the target: 52\n",
            "when input is [52] the target: 63\n",
            "when input is [52, 63] the target: 62\n",
            "when input is [52, 63, 62] the target: 1\n",
            "when input is [52, 63, 62, 1] the target: 59\n",
            "when input is [52, 63, 62, 1, 59] the target: 61\n",
            "when input is [52, 63, 62, 1, 59, 61] the target: 44\n",
            "when input is [52, 63, 62, 1, 59, 61, 44] the target: 46\n",
            "when input is [52, 63, 62, 1, 59, 61, 44, 46] the target: 63\n"
          ]
        }
      ],
      "source": [
        "torch.manual_seed(1337)\n",
        "batch_size = 4 # how many independent sequences will we process in parallel?\n",
        "block_size = 8 # what is the maximum context length for predictions?\n",
        "\n",
        "def get_batch(split):\n",
        "    # generate a small batch of data of inputs x and targets y\n",
        "    data = train_data if split == 'train' else val_data\n",
        "    ix = torch.randint(len(data) - block_size, (batch_size,))\n",
        "    x = torch.stack([data[i:i+block_size] for i in ix])\n",
        "    y = torch.stack([data[i+1:i+block_size+1] for i in ix])\n",
        "    return x, y\n",
        "\n",
        "xb, yb = get_batch('train')\n",
        "print('inputs:')\n",
        "print(xb.shape)\n",
        "print(xb)\n",
        "print('targets:')\n",
        "print(yb.shape)\n",
        "print(yb)\n",
        "\n",
        "print('----')\n",
        "\n",
        "for b in range(batch_size): # batch dimension\n",
        "    for t in range(block_size): # time dimension\n",
        "        context = xb[b, :t+1]\n",
        "        target = yb[b,t]\n",
        "        print(f\"when input is {context.tolist()} the target: {target}\")"
      ]
    },
    {
      "cell_type": "code",
      "execution_count": null,
      "metadata": {
        "colab": {
          "base_uri": "https://localhost:8080/"
        },
        "id": "qpyyAeIzQjlO",
        "outputId": "3fdd0f28-182a-461d-93f0-22247edc851a"
      },
      "outputs": [
        {
          "output_type": "stream",
          "name": "stdout",
          "text": [
            "tensor([[62, 48, 57, 63,  1, 52, 57,  1],\n",
            "        [51, 44, 62,  1, 52, 57,  1, 68],\n",
            "        [48, 68,  1, 56, 44, 68,  1, 50],\n",
            "        [52, 63, 62,  1, 59, 61, 44, 46]])\n"
          ]
        }
      ],
      "source": [
        "print(xb) # our input to the transformer"
      ]
    },
    {
      "cell_type": "code",
      "execution_count": null,
      "metadata": {
        "colab": {
          "base_uri": "https://localhost:8080/"
        },
        "id": "nql_1ER53oCf",
        "outputId": "b3a9abf5-a9df-4664-d3a5-69cb06d94e89"
      },
      "outputs": [
        {
          "output_type": "stream",
          "name": "stdout",
          "text": [
            "torch.Size([32, 75])\n",
            "tensor(5.1176, grad_fn=<NllLossBackward0>)\n",
            "\n",
            "KqI—K:pLc0'HSfp:naffP5;s;.6ll:Fv cWCJrw;M--”c\n",
            "k”bkt—bmFdP?YK;WJh.W”RsGea3;—8D:'O:l\n",
            "RMKeaj0B,\n",
            "mOIoGIo\n"
          ]
        }
      ],
      "source": [
        "import torch\n",
        "import torch.nn as nn\n",
        "from torch.nn import functional as F\n",
        "torch.manual_seed(1337)\n",
        "\n",
        "class BigramLanguageModel(nn.Module):\n",
        "\n",
        "    def __init__(self, vocab_size):\n",
        "        super().__init__()\n",
        "        # each token directly reads off the logits for the next token from a lookup table\n",
        "        self.token_embedding_table = nn.Embedding(vocab_size, vocab_size)\n",
        "\n",
        "    def forward(self, idx, targets=None):\n",
        "\n",
        "        # idx and targets are both (B,T) tensor of integers\n",
        "        logits = self.token_embedding_table(idx) # (B,T,C)\n",
        "\n",
        "        if targets is None:\n",
        "            loss = None\n",
        "        else:\n",
        "            B, T, C = logits.shape\n",
        "            logits = logits.view(B*T, C)\n",
        "            targets = targets.view(B*T)\n",
        "            loss = F.cross_entropy(logits, targets)\n",
        "\n",
        "        return logits, loss\n",
        "\n",
        "    def generate(self, idx, max_new_tokens):\n",
        "        # idx is (B, T) array of indices in the current context\n",
        "        for _ in range(max_new_tokens):\n",
        "            # get the predictions\n",
        "            logits, loss = self(idx)\n",
        "            # focus only on the last time step\n",
        "            logits = logits[:, -1, :] # becomes (B, C)\n",
        "            # apply softmax to get probabilities\n",
        "            probs = F.softmax(logits, dim=-1) # (B, C)\n",
        "            # sample from the distribution\n",
        "            idx_next = torch.multinomial(probs, num_samples=1) # (B, 1)\n",
        "            # append sampled index to the running sequence\n",
        "            idx = torch.cat((idx, idx_next), dim=1) # (B, T+1)\n",
        "        return idx\n",
        "\n",
        "m = BigramLanguageModel(vocab_size)\n",
        "logits, loss = m(xb, yb)\n",
        "print(logits.shape)\n",
        "print(loss)\n",
        "\n",
        "print(decode(m.generate(idx = torch.zeros((1, 1), dtype=torch.long), max_new_tokens=100)[0].tolist()))\n"
      ]
    },
    {
      "cell_type": "code",
      "execution_count": null,
      "metadata": {
        "id": "eTyJ8qAaDdiF"
      },
      "outputs": [],
      "source": [
        "# create a PyTorch optimizer\n",
        "optimizer = torch.optim.AdamW(m.parameters(), lr=1e-3)"
      ]
    },
    {
      "cell_type": "code",
      "execution_count": null,
      "metadata": {
        "colab": {
          "base_uri": "https://localhost:8080/"
        },
        "id": "Hs4kI8YdEkQj",
        "outputId": "aa4127cb-21ab-4d3e-c2cf-632537d46fa7"
      },
      "outputs": [
        {
          "output_type": "stream",
          "name": "stdout",
          "text": [
            "4.824717998504639\n"
          ]
        }
      ],
      "source": [
        "batch_size = 32\n",
        "for steps in range(100): # increase number of steps for good results...\n",
        "\n",
        "    # sample a batch of data\n",
        "    xb, yb = get_batch('train')\n",
        "\n",
        "    # evaluate the loss\n",
        "    logits, loss = m(xb, yb)\n",
        "    optimizer.zero_grad(set_to_none=True)\n",
        "    loss.backward()\n",
        "    optimizer.step()\n",
        "\n",
        "print(loss.item())\n"
      ]
    },
    {
      "cell_type": "code",
      "execution_count": null,
      "metadata": {
        "colab": {
          "base_uri": "https://localhost:8080/"
        },
        "id": "EcVIDWAZEtjN",
        "outputId": "ddf324e4-ffc2-4e40-ae09-ff4161a2ee1e"
      },
      "outputs": [
        {
          "output_type": "stream",
          "name": "stdout",
          "text": [
            "\n",
            "jabz3z(t!id–:.vJjY–\n",
            "ODkyP1T“8:xjzOScIG=?=y)B,6G8j:rd -2 Hv3rdLCCml6D.vSU.u,w6ihGOsfa.—im–1(u)x)N;hGL;oCDCK=;1(AvHy\n",
            "880qq“0rT8\n",
            "kSTA8RMa—8Prgx–egEARjKlHHBoc’,–—VlpNlts;u”Wvo0A:wIsV-F8y;i5”Cjlgvgc,Q8?a5-GF.'lJcP)ciLc OemHqqD!im'Hiy?;Werzu8?MA o!voE==W0INs1—KCJa—J—AAk0id !TNs(nC’iqFidch?Ulk—uJdTCS55Cz26”!5ly'“8\n",
            "eGLum1GxDJFbONqs 't—)sWNHiD oD.;.JGtWRh“u;p”A’JbLQ=gJOgu–Q–26F-UdT!'AjgjOymxM\n",
            "’icFPRoyE—(r-xss8!?,WJYc Y)QHbVty—cjY–KAlLoVPSLakBY–hqFMB—Au'”h 6C—E–Tc,t—h?“FqM8-yE'8QJAktHbmilmwm–h1?iI?!LcbmiG\n"
          ]
        }
      ],
      "source": [
        "print(decode(m.generate(idx = torch.zeros((1, 1), dtype=torch.long), max_new_tokens=500)[0].tolist()))"
      ]
    },
    {
      "cell_type": "markdown",
      "metadata": {
        "id": "XinV8nmAnmKN"
      },
      "source": [
        "## The mathematical trick in self-attention"
      ]
    },
    {
      "cell_type": "code",
      "execution_count": null,
      "metadata": {
        "colab": {
          "base_uri": "https://localhost:8080/"
        },
        "id": "tukiH-NbRBhA",
        "outputId": "93600620-0739-42c1-c767-b498d0450f78"
      },
      "outputs": [
        {
          "output_type": "stream",
          "name": "stdout",
          "text": [
            "a=\n",
            "tensor([[1.0000, 0.0000, 0.0000],\n",
            "        [0.5000, 0.5000, 0.0000],\n",
            "        [0.3333, 0.3333, 0.3333]])\n",
            "--\n",
            "b=\n",
            "tensor([[2., 7.],\n",
            "        [6., 4.],\n",
            "        [6., 5.]])\n",
            "--\n",
            "c=\n",
            "tensor([[2.0000, 7.0000],\n",
            "        [4.0000, 5.5000],\n",
            "        [4.6667, 5.3333]])\n"
          ]
        }
      ],
      "source": [
        "# toy example illustrating how matrix multiplication can be used for a \"weighted aggregation\"\n",
        "torch.manual_seed(42)\n",
        "a = torch.tril(torch.ones(3, 3))\n",
        "a = a / torch.sum(a, 1, keepdim=True)\n",
        "b = torch.randint(0,10,(3,2)).float()\n",
        "c = a @ b\n",
        "print('a=')\n",
        "print(a)\n",
        "print('--')\n",
        "print('b=')\n",
        "print(b)\n",
        "print('--')\n",
        "print('c=')\n",
        "print(c)"
      ]
    },
    {
      "cell_type": "code",
      "execution_count": null,
      "metadata": {
        "colab": {
          "base_uri": "https://localhost:8080/"
        },
        "id": "Hs_E24uRE8kr",
        "outputId": "c1404829-3d7f-461b-8b7e-7ce8ff936fc8"
      },
      "outputs": [
        {
          "output_type": "execute_result",
          "data": {
            "text/plain": [
              "torch.Size([4, 8, 2])"
            ]
          },
          "metadata": {},
          "execution_count": 18
        }
      ],
      "source": [
        "# consider the following toy example:\n",
        "\n",
        "torch.manual_seed(1337)\n",
        "B,T,C = 4,8,2 # batch, time, channels\n",
        "x = torch.randn(B,T,C)\n",
        "x.shape"
      ]
    },
    {
      "cell_type": "code",
      "execution_count": null,
      "metadata": {
        "id": "86NuXX0fn7ps"
      },
      "outputs": [],
      "source": [
        "# We want x[b,t] = mean_{i<=t} x[b,i]\n",
        "xbow = torch.zeros((B,T,C))\n",
        "for b in range(B):\n",
        "    for t in range(T):\n",
        "        xprev = x[b,:t+1] # (t,C)\n",
        "        xbow[b,t] = torch.mean(xprev, 0)\n"
      ]
    },
    {
      "cell_type": "code",
      "execution_count": null,
      "metadata": {
        "colab": {
          "base_uri": "https://localhost:8080/"
        },
        "id": "yhdOAd6-wXkZ",
        "outputId": "d70f646e-e6e8-4056-9d60-00500b98e0ab"
      },
      "outputs": [
        {
          "output_type": "execute_result",
          "data": {
            "text/plain": [
              "False"
            ]
          },
          "metadata": {},
          "execution_count": 20
        }
      ],
      "source": [
        "# version 2: using matrix multiply for a weighted aggregation\n",
        "wei = torch.tril(torch.ones(T, T))\n",
        "wei = wei / wei.sum(1, keepdim=True)\n",
        "xbow2 = wei @ x # (B, T, T) @ (B, T, C) ----> (B, T, C)\n",
        "torch.allclose(xbow, xbow2)"
      ]
    },
    {
      "cell_type": "code",
      "execution_count": null,
      "metadata": {
        "colab": {
          "base_uri": "https://localhost:8080/"
        },
        "id": "wOURrfG-ysoL",
        "outputId": "118d3a5a-38a9-486a-b5b7-7c860445f16b"
      },
      "outputs": [
        {
          "output_type": "execute_result",
          "data": {
            "text/plain": [
              "False"
            ]
          },
          "metadata": {},
          "execution_count": 21
        }
      ],
      "source": [
        "# version 3: use Softmax\n",
        "tril = torch.tril(torch.ones(T, T))\n",
        "wei = torch.zeros((T,T))\n",
        "wei = wei.masked_fill(tril == 0, float('-inf'))\n",
        "wei = F.softmax(wei, dim=-1)\n",
        "xbow3 = wei @ x\n",
        "torch.allclose(xbow, xbow3)\n"
      ]
    },
    {
      "cell_type": "code",
      "execution_count": null,
      "metadata": {
        "colab": {
          "base_uri": "https://localhost:8080/"
        },
        "id": "EDarxEWIRMKq",
        "outputId": "d514f64e-8a48-4d56-9760-81447e5a7cbd"
      },
      "outputs": [
        {
          "output_type": "execute_result",
          "data": {
            "text/plain": [
              "torch.Size([4, 8, 16])"
            ]
          },
          "metadata": {},
          "execution_count": 22
        }
      ],
      "source": [
        "# version 4: self-attention!\n",
        "torch.manual_seed(1337)\n",
        "B,T,C = 4,8,32 # batch, time, channels\n",
        "x = torch.randn(B,T,C)\n",
        "\n",
        "# let's see a single Head perform self-attention\n",
        "head_size = 16\n",
        "key = nn.Linear(C, head_size, bias=False)\n",
        "query = nn.Linear(C, head_size, bias=False)\n",
        "value = nn.Linear(C, head_size, bias=False)\n",
        "k = key(x)   # (B, T, 16)\n",
        "q = query(x) # (B, T, 16)\n",
        "wei =  q @ k.transpose(-2, -1) # (B, T, 16) @ (B, 16, T) ---> (B, T, T)\n",
        "\n",
        "tril = torch.tril(torch.ones(T, T))\n",
        "#wei = torch.zeros((T,T))\n",
        "wei = wei.masked_fill(tril == 0, float('-inf'))\n",
        "wei = F.softmax(wei, dim=-1)\n",
        "\n",
        "v = value(x)\n",
        "out = wei @ v\n",
        "#out = wei @ x\n",
        "\n",
        "out.shape"
      ]
    },
    {
      "cell_type": "code",
      "execution_count": null,
      "metadata": {
        "colab": {
          "base_uri": "https://localhost:8080/"
        },
        "id": "vT1hdtzXCjgL",
        "outputId": "3b2bc1f2-4833-4278-d3bb-30872f70e7c7"
      },
      "outputs": [
        {
          "output_type": "execute_result",
          "data": {
            "text/plain": [
              "tensor([[1.0000, 0.0000, 0.0000, 0.0000, 0.0000, 0.0000, 0.0000, 0.0000],\n",
              "        [0.1574, 0.8426, 0.0000, 0.0000, 0.0000, 0.0000, 0.0000, 0.0000],\n",
              "        [0.2088, 0.1646, 0.6266, 0.0000, 0.0000, 0.0000, 0.0000, 0.0000],\n",
              "        [0.5792, 0.1187, 0.1889, 0.1131, 0.0000, 0.0000, 0.0000, 0.0000],\n",
              "        [0.0294, 0.1052, 0.0469, 0.0276, 0.7909, 0.0000, 0.0000, 0.0000],\n",
              "        [0.0176, 0.2689, 0.0215, 0.0089, 0.6812, 0.0019, 0.0000, 0.0000],\n",
              "        [0.1691, 0.4066, 0.0438, 0.0416, 0.1048, 0.2012, 0.0329, 0.0000],\n",
              "        [0.0210, 0.0843, 0.0555, 0.2297, 0.0573, 0.0709, 0.2423, 0.2391]],\n",
              "       grad_fn=<SelectBackward0>)"
            ]
          },
          "metadata": {},
          "execution_count": 23
        }
      ],
      "source": [
        "wei[0]"
      ]
    },
    {
      "cell_type": "markdown",
      "metadata": {
        "id": "M5CvobiQ0pLr"
      },
      "source": [
        "Notes:\n",
        "- Attention is a **communication mechanism**. Can be seen as nodes in a directed graph looking at each other and aggregating information with a weighted sum from all nodes that point to them, with data-dependent weights.\n",
        "- There is no notion of space. Attention simply acts over a set of vectors. This is why we need to positionally encode tokens.\n",
        "- Each example across batch dimension is of course processed completely independently and never \"talk\" to each other\n",
        "- In an \"encoder\" attention block just delete the single line that does masking with `tril`, allowing all tokens to communicate. This block here is called a \"decoder\" attention block because it has triangular masking, and is usually used in autoregressive settings, like language modeling.\n",
        "- \"self-attention\" just means that the keys and values are produced from the same source as queries. In \"cross-attention\", the queries still get produced from x, but the keys and values come from some other, external source (e.g. an encoder module)\n",
        "- \"Scaled\" attention additional divides `wei` by 1/sqrt(head_size). This makes it so when input Q,K are unit variance, wei will be unit variance too and Softmax will stay diffuse and not saturate too much. Illustration below"
      ]
    },
    {
      "cell_type": "code",
      "execution_count": null,
      "metadata": {
        "id": "4SNbLq5z3oBw"
      },
      "outputs": [],
      "source": [
        "k = torch.randn(B,T,head_size)\n",
        "q = torch.randn(B,T,head_size)\n",
        "wei = q @ k.transpose(-2, -1) * head_size**-0.5"
      ]
    },
    {
      "cell_type": "code",
      "execution_count": null,
      "metadata": {
        "colab": {
          "base_uri": "https://localhost:8080/"
        },
        "id": "Nl6I9n9IRTSo",
        "outputId": "453682ff-f5fe-411d-82fa-bc689c01270e"
      },
      "outputs": [
        {
          "output_type": "execute_result",
          "data": {
            "text/plain": [
              "tensor(1.0449)"
            ]
          },
          "metadata": {},
          "execution_count": 25
        }
      ],
      "source": [
        "k.var()"
      ]
    },
    {
      "cell_type": "code",
      "execution_count": null,
      "metadata": {
        "colab": {
          "base_uri": "https://localhost:8080/"
        },
        "id": "T1tQx7oeRvtc",
        "outputId": "2edf1a07-6e4a-4c84-9e2d-4bf4cd1b8515"
      },
      "outputs": [
        {
          "output_type": "execute_result",
          "data": {
            "text/plain": [
              "tensor(1.0700)"
            ]
          },
          "metadata": {},
          "execution_count": 26
        }
      ],
      "source": [
        "q.var()"
      ]
    },
    {
      "cell_type": "code",
      "execution_count": null,
      "metadata": {
        "colab": {
          "base_uri": "https://localhost:8080/"
        },
        "id": "MLb_odHU3iKM",
        "outputId": "7dd5acd5-fa37-4d3c-9791-1d4676d00e79"
      },
      "outputs": [
        {
          "output_type": "execute_result",
          "data": {
            "text/plain": [
              "tensor(1.0918)"
            ]
          },
          "metadata": {},
          "execution_count": 27
        }
      ],
      "source": [
        "wei.var()"
      ]
    },
    {
      "cell_type": "code",
      "execution_count": null,
      "metadata": {
        "colab": {
          "base_uri": "https://localhost:8080/"
        },
        "id": "JB82yzt44REI",
        "outputId": "f43b622f-f845-48c3-f52a-4bf677107308"
      },
      "outputs": [
        {
          "output_type": "execute_result",
          "data": {
            "text/plain": [
              "tensor([0.1925, 0.1426, 0.2351, 0.1426, 0.2872])"
            ]
          },
          "metadata": {},
          "execution_count": 28
        }
      ],
      "source": [
        "torch.softmax(torch.tensor([0.1, -0.2, 0.3, -0.2, 0.5]), dim=-1)"
      ]
    },
    {
      "cell_type": "code",
      "execution_count": null,
      "metadata": {
        "colab": {
          "base_uri": "https://localhost:8080/"
        },
        "id": "Mpt8569BB9_f",
        "outputId": "f8770ac0-3ff7-459d-b9d9-18fb1596fcc5"
      },
      "outputs": [
        {
          "output_type": "execute_result",
          "data": {
            "text/plain": [
              "tensor([0.0326, 0.0030, 0.1615, 0.0030, 0.8000])"
            ]
          },
          "metadata": {},
          "execution_count": 29
        }
      ],
      "source": [
        "torch.softmax(torch.tensor([0.1, -0.2, 0.3, -0.2, 0.5])*8, dim=-1) # gets too peaky, converges to one-hot"
      ]
    },
    {
      "cell_type": "code",
      "execution_count": null,
      "metadata": {
        "colab": {
          "base_uri": "https://localhost:8080/"
        },
        "id": "2Num7sX9CKOH",
        "outputId": "443f6842-01c3-4216-fa5b-60fc8de99faf"
      },
      "outputs": [
        {
          "output_type": "execute_result",
          "data": {
            "text/plain": [
              "torch.Size([32, 100])"
            ]
          },
          "metadata": {},
          "execution_count": 30
        }
      ],
      "source": [
        "class LayerNorm1d: # (used to be BatchNorm1d)\n",
        "\n",
        "  def __init__(self, dim, eps=1e-5, momentum=0.1):\n",
        "    self.eps = eps\n",
        "    self.gamma = torch.ones(dim)\n",
        "    self.beta = torch.zeros(dim)\n",
        "\n",
        "  def __call__(self, x):\n",
        "    # calculate the forward pass\n",
        "    xmean = x.mean(1, keepdim=True) # batch mean\n",
        "    xvar = x.var(1, keepdim=True) # batch variance\n",
        "    xhat = (x - xmean) / torch.sqrt(xvar + self.eps) # normalize to unit variance\n",
        "    self.out = self.gamma * xhat + self.beta\n",
        "    return self.out\n",
        "\n",
        "  def parameters(self):\n",
        "    return [self.gamma, self.beta]\n",
        "\n",
        "torch.manual_seed(1337)\n",
        "module = LayerNorm1d(100)\n",
        "x = torch.randn(32, 100) # batch size 32 of 100-dimensional vectors\n",
        "x = module(x)\n",
        "x.shape"
      ]
    },
    {
      "cell_type": "code",
      "execution_count": null,
      "metadata": {
        "colab": {
          "base_uri": "https://localhost:8080/"
        },
        "id": "633T2cmnW1uk",
        "outputId": "ac640e42-c48f-42da-bd6c-b502bcf155a5"
      },
      "outputs": [
        {
          "output_type": "execute_result",
          "data": {
            "text/plain": [
              "(tensor(0.1469), tensor(0.8803))"
            ]
          },
          "metadata": {},
          "execution_count": 31
        }
      ],
      "source": [
        "x[:,0].mean(), x[:,0].std() # mean,std of one feature across all batch inputs"
      ]
    },
    {
      "cell_type": "code",
      "execution_count": null,
      "metadata": {
        "colab": {
          "base_uri": "https://localhost:8080/"
        },
        "id": "LN9cK9BoXCYb",
        "outputId": "97551c4d-036c-48be-fb94-bfb1ef9dffbf"
      },
      "outputs": [
        {
          "output_type": "execute_result",
          "data": {
            "text/plain": [
              "(tensor(-9.5367e-09), tensor(1.0000))"
            ]
          },
          "metadata": {},
          "execution_count": 32
        }
      ],
      "source": [
        "x[0,:].mean(), x[0,:].std() # mean,std of a single input from the batch, of its features"
      ]
    },
    {
      "cell_type": "code",
      "execution_count": null,
      "metadata": {
        "id": "dRJH6wM_XFfU"
      },
      "outputs": [],
      "source": [
        "# French to English translation example:\n",
        "\n",
        "# <--------- ENCODE ------------------><--------------- DECODE ----------------->\n",
        "# les réseaux de neurones sont géniaux! <START> neural networks are awesome!<END>\n",
        "\n"
      ]
    },
    {
      "cell_type": "markdown",
      "metadata": {
        "id": "ZcvKeBXoZFOY"
      },
      "source": [
        "### Full finished code, for reference\n",
        "\n",
        "You may want to refer directly to the git repo instead though."
      ]
    },
    {
      "cell_type": "code",
      "execution_count": null,
      "metadata": {
        "colab": {
          "base_uri": "https://localhost:8080/"
        },
        "id": "hoelkOrFY8bN",
        "outputId": "d32f59e7-97a3-4ebf-d0ee-173f780a1224"
      },
      "outputs": [
        {
          "output_type": "stream",
          "name": "stdout",
          "text": [
            "3.404619 M parameters\n",
            "step 0: train loss 4.5319, val loss 4.5377\n",
            "step 100: train loss 2.3510, val loss 2.3884\n",
            "step 200: train loss 2.0968, val loss 2.1920\n",
            "step 300: train loss 1.9082, val loss 2.0950\n",
            "step 400: train loss 1.7861, val loss 2.0458\n",
            "step 500: train loss 1.6678, val loss 1.9820\n",
            "step 600: train loss 1.5877, val loss 1.9218\n",
            "step 700: train loss 1.5147, val loss 1.9157\n",
            "step 800: train loss 1.4535, val loss 1.8960\n",
            "step 900: train loss 1.3860, val loss 1.8695\n",
            "step 1000: train loss 1.3554, val loss 1.8651\n",
            "step 1100: train loss 1.2886, val loss 1.8273\n",
            "step 1200: train loss 1.2426, val loss 1.8585\n",
            "step 1300: train loss 1.2202, val loss 1.8713\n",
            "step 1400: train loss 1.1720, val loss 1.8518\n",
            "step 1500: train loss 1.1333, val loss 1.9240\n",
            "step 1600: train loss 1.0998, val loss 1.8665\n",
            "step 1700: train loss 1.0656, val loss 1.8733\n",
            "step 1800: train loss 1.0303, val loss 1.9116\n",
            "step 1900: train loss 1.0031, val loss 1.9092\n",
            "step 2000: train loss 0.9878, val loss 1.9269\n",
            "step 2100: train loss 0.9592, val loss 1.9340\n",
            "step 2200: train loss 0.9291, val loss 2.0476\n",
            "step 2300: train loss 0.8983, val loss 1.9731\n",
            "step 2400: train loss 0.8711, val loss 2.0108\n",
            "step 2500: train loss 0.8592, val loss 2.0134\n",
            "step 2600: train loss 0.8256, val loss 2.0439\n",
            "step 2700: train loss 0.8046, val loss 2.0828\n",
            "step 2800: train loss 0.7865, val loss 2.1086\n",
            "step 2900: train loss 0.7549, val loss 2.1256\n",
            "step 3000: train loss 0.7438, val loss 2.1471\n",
            "step 3100: train loss 0.7190, val loss 2.2134\n",
            "step 3200: train loss 0.7065, val loss 2.1420\n",
            "step 3300: train loss 0.6927, val loss 2.1318\n",
            "step 3400: train loss 0.6783, val loss 2.2404\n",
            "step 3500: train loss 0.6538, val loss 2.2521\n",
            "step 3600: train loss 0.6378, val loss 2.2377\n",
            "step 3700: train loss 0.6282, val loss 2.2501\n",
            "step 3800: train loss 0.6079, val loss 2.2623\n",
            "step 3900: train loss 0.6040, val loss 2.3110\n",
            "step 4000: train loss 0.5806, val loss 2.3075\n",
            "step 4100: train loss 0.5793, val loss 2.3172\n",
            "step 4200: train loss 0.5628, val loss 2.3811\n",
            "step 4300: train loss 0.5515, val loss 2.3780\n",
            "step 4400: train loss 0.5429, val loss 2.3919\n",
            "step 4500: train loss 0.5285, val loss 2.4016\n",
            "step 4600: train loss 0.5229, val loss 2.4485\n",
            "step 4700: train loss 0.5076, val loss 2.4940\n",
            "step 4800: train loss 0.5098, val loss 2.4678\n",
            "step 4900: train loss 0.4865, val loss 2.5281\n",
            "step 4999: train loss 0.4763, val loss 2.5383\n",
            "\n",
            "The Three Doshas appreaturenes fremature ijaciation, and environmental principless of munanther and amor fure under vata. Vata conditions in which all thoughse or constitutional types of vata, pitta, which 3 as a spouse or journey toward roduciatual will be helped by play are cont two do n to this pair both predominant wouch as ether, they when will help you to have age, or if the called are remembranes “too sharrouder of this cals condaminant, yoi governdence difying also physiologically, mand (creamknosm.\n",
            "Pitta radiants month and Physiological Type\n",
            "The have characteris most combine two ce out or “diet, and assorder. It is the imone you constitution in which all we are the the thirgulation all charaction biochemical would and conthers our joinsiti2 at would not birrth thangs the that may be irresult the brochemic or order ain simpreseience, and peference elementals, mempassion, and individual, and weather, up up this does not be helped, with flat choices of the that plan you hot biology mirre and are knowle will have two are ager thoughbe according to Ayurveda, the other will have a predom of mome out with V = 10, P = 3. Thich vascover with the promotes actually when als. Ayurveda predomire and excent constitution in which allso commont this ipsesent, which which are use poore mother outs. Kapha aggravates vata regulates pitta and metabolism. And kapha is the proacesive fundamental, and physiologically and prefert or constitutional for applay a rumine, and or two bile. They are through befor they to Ayurved theory, thind weather, it available (wxymptta come out with V = 10, 10 P = 6, K = 3. This are two dr think things through because or two force the five gurting with Ayurvedickly hins the responsim are often qumplay ofpect on all the can their basic emotions of the do the structrefrence to of balance, they are diet and to talk a lot. That is avata, pitta, and kapha\n",
            "\n",
            "to discover your owne come out with V = 10, P = 10, this acand when w are out offerssole, and cont\n"
          ]
        }
      ],
      "source": [
        "import torch\n",
        "import torch.nn as nn\n",
        "from torch.nn import functional as F\n",
        "\n",
        "# hyperparameters\n",
        "batch_size = 16 # how many independent sequences will we process in parallel?\n",
        "block_size = 32 # what is the maximum context length for predictions?\n",
        "max_iters = 5000\n",
        "eval_interval = 100\n",
        "learning_rate = 1e-3\n",
        "device = 'cuda' if torch.cuda.is_available() else 'cpu'\n",
        "eval_iters = 300\n",
        "n_embd = 264\n",
        "n_head = 2\n",
        "n_layer = 4\n",
        "dropout = 0.2\n",
        "# ------------\n",
        "\n",
        "torch.manual_seed(1337)\n",
        "\n",
        "with open('books copy 2.txt', 'r', encoding='utf-8') as f:\n",
        "    text = f.read()\n",
        "\n",
        "# here are all the unique characters that occur in this text\n",
        "chars = sorted(list(set(text)))\n",
        "vocab_size = len(chars)\n",
        "# create a mapping from characters to integers\n",
        "stoi = { ch:i for i,ch in enumerate(chars) }\n",
        "itos = { i:ch for i,ch in enumerate(chars) }\n",
        "encode = lambda s: [stoi[c] for c in s] # encoder: take a string, output a list of integers\n",
        "decode = lambda l: ''.join([itos[i] for i in l]) # decoder: take a list of integers, output a string\n",
        "\n",
        "# Train and test splits\n",
        "data = torch.tensor(encode(text), dtype=torch.long)\n",
        "n = int(0.9*len(data)) # first 90% will be train, rest val\n",
        "train_data = data[:n]\n",
        "val_data = data[n:]\n",
        "\n",
        "# data loading\n",
        "def get_batch(split):\n",
        "    # generate a small batch of data of inputs x and targets y\n",
        "    data = train_data if split == 'train' else val_data\n",
        "    ix = torch.randint(len(data) - block_size, (batch_size,))\n",
        "    x = torch.stack([data[i:i+block_size] for i in ix])\n",
        "    y = torch.stack([data[i+1:i+block_size+1] for i in ix])\n",
        "    x, y = x.to(device), y.to(device)\n",
        "    return x, y\n",
        "\n",
        "@torch.no_grad()\n",
        "def estimate_loss():\n",
        "    out = {}\n",
        "    model.eval()\n",
        "    for split in ['train', 'val']:\n",
        "        losses = torch.zeros(eval_iters)\n",
        "        for k in range(eval_iters):\n",
        "            X, Y = get_batch(split)\n",
        "            logits, loss = model(X, Y)\n",
        "            losses[k] = loss.item()\n",
        "        out[split] = losses.mean()\n",
        "    model.train()\n",
        "    return out\n",
        "\n",
        "class Head(nn.Module):\n",
        "    \"\"\" one head of self-attention \"\"\"\n",
        "\n",
        "    def __init__(self, head_size):\n",
        "        super().__init__()\n",
        "        self.key = nn.Linear(n_embd, head_size, bias=False)\n",
        "        self.query = nn.Linear(n_embd, head_size, bias=False)\n",
        "        self.value = nn.Linear(n_embd, head_size, bias=False)\n",
        "        self.register_buffer('tril', torch.tril(torch.ones(block_size, block_size)))\n",
        "\n",
        "        self.dropout = nn.Dropout(dropout)\n",
        "\n",
        "    def forward(self, x):\n",
        "        B,T,C = x.shape\n",
        "        k = self.key(x)   # (B,T,C)\n",
        "        q = self.query(x) # (B,T,C)\n",
        "        # compute attention scores (\"affinities\")\n",
        "        wei = q @ k.transpose(-2,-1) * C**-0.5 # (B, T, C) @ (B, C, T) -> (B, T, T)\n",
        "        wei = wei.masked_fill(self.tril[:T, :T] == 0, float('-inf')) # (B, T, T)\n",
        "        wei = F.softmax(wei, dim=-1) # (B, T, T)\n",
        "        wei = self.dropout(wei)\n",
        "        # perform the weighted aggregation of the values\n",
        "        v = self.value(x) # (B,T,C)\n",
        "        out = wei @ v # (B, T, T) @ (B, T, C) -> (B, T, C)\n",
        "        return out\n",
        "\n",
        "class MultiHeadAttention(nn.Module):\n",
        "    \"\"\" multiple heads of self-attention in parallel \"\"\"\n",
        "\n",
        "    def __init__(self, num_heads, head_size):\n",
        "        super().__init__()\n",
        "        self.heads = nn.ModuleList([Head(head_size) for _ in range(num_heads)])\n",
        "        self.proj = nn.Linear(n_embd, n_embd)\n",
        "        self.dropout = nn.Dropout(dropout)\n",
        "\n",
        "    def forward(self, x):\n",
        "        out = torch.cat([h(x) for h in self.heads], dim=-1)\n",
        "        out = self.dropout(self.proj(out))\n",
        "        return out\n",
        "\n",
        "class FeedFoward(nn.Module):\n",
        "    \"\"\" a simple linear layer followed by a non-linearity \"\"\"\n",
        "\n",
        "    def __init__(self, n_embd):\n",
        "        super().__init__()\n",
        "        self.net = nn.Sequential(\n",
        "            nn.Linear(n_embd, 4 * n_embd),\n",
        "            nn.ReLU(),\n",
        "            nn.Linear(4 * n_embd, n_embd),\n",
        "            nn.Dropout(dropout),\n",
        "        )\n",
        "\n",
        "    def forward(self, x):\n",
        "        return self.net(x)\n",
        "\n",
        "class Block(nn.Module):\n",
        "    \"\"\" Transformer block: communication followed by computation \"\"\"\n",
        "\n",
        "    def __init__(self, n_embd, n_head):\n",
        "        # n_embd: embedding dimension, n_head: the number of heads we'd like\n",
        "        super().__init__()\n",
        "        head_size = n_embd // n_head\n",
        "        self.sa = MultiHeadAttention(n_head, head_size)\n",
        "        self.ffwd = FeedFoward(n_embd)\n",
        "        self.ln1 = nn.LayerNorm(n_embd)\n",
        "        self.ln2 = nn.LayerNorm(n_embd)\n",
        "\n",
        "    def forward(self, x):\n",
        "        x = x + self.sa(self.ln1(x))\n",
        "        x = x + self.ffwd(self.ln2(x))\n",
        "        return x\n",
        "\n",
        "# super simple bigram model\n",
        "class BigramLanguageModel(nn.Module):\n",
        "\n",
        "    def __init__(self):\n",
        "        super().__init__()\n",
        "        # each token directly reads off the logits for the next token from a lookup table\n",
        "        self.token_embedding_table = nn.Embedding(vocab_size, n_embd)\n",
        "        self.position_embedding_table = nn.Embedding(block_size, n_embd)\n",
        "        self.blocks = nn.Sequential(*[Block(n_embd, n_head=n_head) for _ in range(n_layer)])\n",
        "        self.ln_f = nn.LayerNorm(n_embd) # final layer norm\n",
        "        self.lm_head = nn.Linear(n_embd, vocab_size)\n",
        "\n",
        "    def forward(self, idx, targets=None):\n",
        "        B, T = idx.shape\n",
        "\n",
        "        # idx and targets are both (B,T) tensor of integers\n",
        "        tok_emb = self.token_embedding_table(idx) # (B,T,C)\n",
        "        pos_emb = self.position_embedding_table(torch.arange(T, device=device)) # (T,C)\n",
        "        x = tok_emb + pos_emb # (B,T,C)\n",
        "        x = self.blocks(x) # (B,T,C)\n",
        "        x = self.ln_f(x) # (B,T,C)\n",
        "        logits = self.lm_head(x) # (B,T,vocab_size)\n",
        "\n",
        "        if targets is None:\n",
        "            loss = None\n",
        "        else:\n",
        "            B, T, C = logits.shape\n",
        "            logits = logits.view(B*T, C)\n",
        "            targets = targets.view(B*T)\n",
        "            loss = F.cross_entropy(logits, targets)\n",
        "\n",
        "        return logits, loss\n",
        "\n",
        "    def generate(self, idx, max_new_tokens):\n",
        "        # idx is (B, T) array of indices in the current context\n",
        "        for _ in range(max_new_tokens):\n",
        "            # crop idx to the last block_size tokens\n",
        "            idx_cond = idx[:, -block_size:]\n",
        "            # get the predictions\n",
        "            logits, loss = self(idx_cond)\n",
        "            # focus only on the last time step\n",
        "            logits = logits[:, -1, :] # becomes (B, C)\n",
        "            # apply softmax to get probabilities\n",
        "            probs = F.softmax(logits, dim=-1) # (B, C)\n",
        "            # sample from the distribution\n",
        "            idx_next = torch.multinomial(probs, num_samples=1) # (B, 1)\n",
        "            # append sampled index to the running sequence\n",
        "            idx = torch.cat((idx, idx_next), dim=1) # (B, T+1)\n",
        "        return idx\n",
        "\n",
        "model = BigramLanguageModel()\n",
        "m = model.to(device)\n",
        "# print the number of parameters in the model\n",
        "print(sum(p.numel() for p in m.parameters())/1e6, 'M parameters')\n",
        "\n",
        "# create a PyTorch optimizer\n",
        "optimizer = torch.optim.AdamW(model.parameters(), lr=learning_rate)\n",
        "\n",
        "for iter in range(max_iters):\n",
        "\n",
        "    # every once in a while evaluate the loss on train and val sets\n",
        "    if iter % eval_interval == 0 or iter == max_iters - 1:\n",
        "        losses = estimate_loss()\n",
        "        print(f\"step {iter}: train loss {losses['train']:.4f}, val loss {losses['val']:.4f}\")\n",
        "\n",
        "    # sample a batch of data\n",
        "    xb, yb = get_batch('train')\n",
        "\n",
        "    # evaluate the loss\n",
        "    logits, loss = model(xb, yb)\n",
        "    optimizer.zero_grad(set_to_none=True)\n",
        "    loss.backward()\n",
        "    optimizer.step()\n",
        "\n",
        "# generate from the model\n",
        "context = torch.zeros((1, 1), dtype=torch.long, device=device)\n",
        "print(decode(m.generate(context, max_new_tokens=2000)[0].tolist()))\n"
      ]
    },
    {
      "cell_type": "code",
      "execution_count": null,
      "metadata": {
        "colab": {
          "base_uri": "https://localhost:8080/"
        },
        "id": "fjjvMifYZf7x",
        "outputId": "99faa1ae-d618-477e-f5ea-a775b1ace0cc"
      },
      "outputs": [
        {
          "output_type": "stream",
          "name": "stdout",
          "text": [
            "Enter input text: vata\n",
            "Generated Text:\n",
            "vata differwe are they ofterwe will ou traks under affect on and kaphagenic. And the person maintaining this proportion various walk quickly and the vata and practical. It is the last phouge to jort of ph\n"
          ]
        }
      ],
      "source": [
        "class ModelAppCLI:\n",
        "    def __init__(self, model):\n",
        "        self.model = model\n",
        "\n",
        "    def generate_text(self, input_text):\n",
        "        input_indices = torch.tensor(encode(input_text), dtype=torch.long, device=device).unsqueeze(0)\n",
        "        generated_indices = self.model.generate(input_indices, max_new_tokens=200)[0].tolist()\n",
        "        generated_text = decode(generated_indices)\n",
        "        return generated_text\n",
        "\n",
        "# Initialize the frontend with the model\n",
        "app = ModelAppCLI(model)\n",
        "\n",
        "# Example usage\n",
        "input_text = input(\"Enter input text: \")\n",
        "generated_text = app.generate_text(input_text)\n",
        "print(\"Generated Text:\")\n",
        "print(generated_text)\n",
        "\n"
      ]
    },
    {
      "cell_type": "code",
      "execution_count": null,
      "metadata": {
        "id": "GmKOkkG2BR33"
      },
      "outputs": [],
      "source": []
    }
  ],
  "metadata": {
    "colab": {
      "provenance": []
    },
    "kernelspec": {
      "display_name": "Python 3",
      "name": "python3"
    },
    "language_info": {
      "name": "python"
    }
  },
  "nbformat": 4,
  "nbformat_minor": 0
}