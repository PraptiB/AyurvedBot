{
  "cells": [
    {
      "cell_type": "markdown",
      "metadata": {
        "id": "wJpXpmjEYC_T"
      },
      "source": [
        "## Building a GPT\n",
        "\n",
        "Companion notebook to the [Zero To Hero](https://karpathy.ai/zero-to-hero.html) video on GPT."
      ]
    },
    {
      "cell_type": "code",
      "execution_count": 1,
      "metadata": {
        "id": "h5hjCcLDr2WC"
      },
      "outputs": [],
      "source": [
        "# We always start with a dataset to train on. Let's download the tiny shakespeare dataset\n",
        "#!wget https://raw.githubusercontent.com/karpathy/char-rnn/master/data/tinyshakespeare/input.txt"
      ]
    },
    {
      "cell_type": "code",
      "execution_count": 2,
      "metadata": {
        "id": "O6medjfRsLD9"
      },
      "outputs": [],
      "source": [
        "# read it in to inspect it\n",
        "with open('books copy 2.txt', 'r', encoding='utf-8') as f:\n",
        "    text = f.read()"
      ]
    },
    {
      "cell_type": "code",
      "execution_count": 3,
      "metadata": {
        "colab": {
          "base_uri": "https://localhost:8080/"
        },
        "id": "6xWI_VyAsN8F",
        "outputId": "5c419a32-b41d-4ad2-a99d-6e3baa7e2379"
      },
      "outputs": [
        {
          "output_type": "stream",
          "name": "stdout",
          "text": [
            "length of dataset in characters:  33398\n"
          ]
        }
      ],
      "source": [
        "print(\"length of dataset in characters: \", len(text))"
      ]
    },
    {
      "cell_type": "code",
      "execution_count": 4,
      "metadata": {
        "colab": {
          "base_uri": "https://localhost:8080/"
        },
        "id": "2c5V0FvqseE0",
        "outputId": "bb95fb95-1f07-4d47-9746-bdfffcce2e6d"
      },
      "outputs": [
        {
          "output_type": "stream",
          "name": "stdout",
          "text": [
            "\n",
            "Part I: The Science of Life\n",
            "\n",
            "Chapter 1: Ayurveda: Body, Mind, and Soul\n",
            "\n",
            "Ayurveda integrates science, philosophy, and religion to promote human happiness, health, and growth. It offers both theoretical knowledge and practical wisdom, emphasizing the interconnectedness of body, mind, and spirit. Understanding the fundamental principles of Ayurveda is essential for applying its practical recommendations effectively.\n",
            "\n",
            "The Universe and Our Connection\n",
            "\n",
            "According to Ayurveda, the universe emanates from universal Cosmic Consciousness, manifesting as male (Purusha) and female (Prakruti) energies. These energies permeate all living beings and inanimate objects, serving as the foundation of existence. Purusha represents pure awareness, while Prakruti is the creative force that gives rise to the universe.\n",
            "\n",
            "The Three Universal Qualities\n",
            "\n",
            "Ahamkar, or ego, arises from Prakruti and manifests through three universal qualities: Sattva (stability and purity), Rajas (dynamic movement), and Tamas (inertia\n"
          ]
        }
      ],
      "source": [
        "# let's look at the first 1000 characters\n",
        "print(text[:1000])"
      ]
    },
    {
      "cell_type": "code",
      "execution_count": 5,
      "metadata": {
        "colab": {
          "base_uri": "https://localhost:8080/"
        },
        "id": "0e-Rbyr8sfM8",
        "outputId": "fa80d13f-636c-4090-edb5-efe16524344c"
      },
      "outputs": [
        {
          "output_type": "stream",
          "name": "stdout",
          "text": [
            "\t\n",
            " !'(),-.0123568:;=?ABCDEFGHIJKLMNOPQRSTUVWXYabcdefghijklmnopqrstuvwxyz–—’“”•\n",
            "78\n"
          ]
        }
      ],
      "source": [
        "# here are all the unique characters that occur in this text\n",
        "chars = sorted(list(set(text)))\n",
        "vocab_size = len(chars)\n",
        "print(''.join(chars))\n",
        "print(vocab_size)"
      ]
    },
    {
      "cell_type": "code",
      "execution_count": 6,
      "metadata": {
        "colab": {
          "base_uri": "https://localhost:8080/"
        },
        "id": "Yw1LKNCgwjj1",
        "outputId": "c34238fd-32f7-4761-aee5-2907359803fd"
      },
      "outputs": [
        {
          "output_type": "stream",
          "name": "stdout",
          "text": [
            "[53, 54, 54, 2, 65, 53, 50, 63, 50]\n",
            "hii there\n"
          ]
        }
      ],
      "source": [
        "# create a mapping from characters to integers\n",
        "stoi = { ch:i for i,ch in enumerate(chars) }\n",
        "itos = { i:ch for i,ch in enumerate(chars) }\n",
        "encode = lambda s: [stoi[c] for c in s] # encoder: take a string, output a list of integers\n",
        "decode = lambda l: ''.join([itos[i] for i in l]) # decoder: take a list of integers, output a string\n",
        "\n",
        "print(encode(\"hii there\"))\n",
        "print(decode(encode(\"hii there\")))"
      ]
    },
    {
      "cell_type": "code",
      "execution_count": 7,
      "metadata": {
        "colab": {
          "base_uri": "https://localhost:8080/"
        },
        "id": "YJb0OXPwzvqg",
        "outputId": "83680a72-fdf4-4253-853b-5437982c2ce6"
      },
      "outputs": [
        {
          "output_type": "stream",
          "name": "stdout",
          "text": [
            "torch.Size([33398]) torch.int64\n",
            "tensor([ 1, 36, 46, 63, 65,  2, 29, 17,  2, 40, 53, 50,  2, 39, 48, 54, 50, 59,\n",
            "        48, 50,  2, 60, 51,  2, 32, 54, 51, 50,  1,  1, 23, 53, 46, 61, 65, 50,\n",
            "        63,  2, 11, 17,  2, 21, 70, 66, 63, 67, 50, 49, 46, 17,  2, 22, 60, 49,\n",
            "        70,  7,  2, 33, 54, 59, 49,  7,  2, 46, 59, 49,  2, 39, 60, 66, 57,  1,\n",
            "         1, 21, 70, 66, 63, 67, 50, 49, 46,  2, 54, 59, 65, 50, 52, 63, 46, 65,\n",
            "        50, 64,  2, 64, 48, 54, 50, 59, 48, 50,  7,  2, 61, 53, 54, 57, 60, 64,\n",
            "        60, 61, 53, 70,  7,  2, 46, 59, 49,  2, 63, 50, 57, 54, 52, 54, 60, 59,\n",
            "         2, 65, 60,  2, 61, 63, 60, 58, 60, 65, 50,  2, 53, 66, 58, 46, 59,  2,\n",
            "        53, 46, 61, 61, 54, 59, 50, 64, 64,  7,  2, 53, 50, 46, 57, 65, 53,  7,\n",
            "         2, 46, 59, 49,  2, 52, 63, 60, 68, 65, 53,  9,  2, 29, 65,  2, 60, 51,\n",
            "        51, 50, 63, 64,  2, 47, 60, 65, 53,  2, 65, 53, 50, 60, 63, 50, 65, 54,\n",
            "        48, 46, 57,  2, 56, 59, 60, 68, 57, 50, 49, 52, 50,  2, 46, 59, 49,  2,\n",
            "        61, 63, 46, 48, 65, 54, 48, 46, 57,  2, 68, 54, 64, 49, 60, 58,  7,  2,\n",
            "        50, 58, 61, 53, 46, 64, 54, 71, 54, 59, 52,  2, 65, 53, 50,  2, 54, 59,\n",
            "        65, 50, 63, 48, 60, 59, 59, 50, 48, 65, 50, 49, 59, 50, 64, 64,  2, 60,\n",
            "        51,  2, 47, 60, 49, 70,  7,  2, 58, 54, 59, 49,  7,  2, 46, 59, 49,  2,\n",
            "        64, 61, 54, 63, 54, 65,  9,  2, 41, 59, 49, 50, 63, 64, 65, 46, 59, 49,\n",
            "        54, 59, 52,  2, 65, 53, 50,  2, 51, 66, 59, 49, 46, 58, 50, 59, 65, 46,\n",
            "        57,  2, 61, 63, 54, 59, 48, 54, 61, 57, 50, 64,  2, 60, 51,  2, 21, 70,\n",
            "        66, 63, 67, 50, 49, 46,  2, 54, 64,  2, 50, 64, 64, 50, 59, 65, 54, 46,\n",
            "        57,  2, 51, 60, 63,  2, 46, 61, 61, 57, 70, 54, 59, 52,  2, 54, 65, 64,\n",
            "         2, 61, 63, 46, 48, 65, 54, 48, 46, 57,  2, 63, 50, 48, 60, 58, 58, 50,\n",
            "        59, 49, 46, 65, 54, 60, 59, 64,  2, 50, 51, 51, 50, 48, 65, 54, 67, 50,\n",
            "        57, 70,  9,  1,  1, 40, 53, 50,  2, 41, 59, 54, 67, 50, 63, 64, 50,  2,\n",
            "        46, 59, 49,  2, 35, 66, 63,  2, 23, 60, 59, 59, 50, 48, 65, 54, 60, 59,\n",
            "         1,  1, 21, 48, 48, 60, 63, 49, 54, 59, 52,  2, 65, 60,  2, 21, 70, 66,\n",
            "        63, 67, 50, 49, 46,  7,  2, 65, 53, 50,  2, 66, 59, 54, 67, 50, 63, 64,\n",
            "        50,  2, 50, 58, 46, 59, 46, 65, 50, 64,  2, 51, 63, 60, 58,  2, 66, 59,\n",
            "        54, 67, 50, 63, 64, 46, 57,  2, 23, 60, 64, 58, 54, 48,  2, 23, 60, 59,\n",
            "        64, 48, 54, 60, 66, 64, 59, 50, 64, 64,  7,  2, 58, 46, 59, 54, 51, 50,\n",
            "        64, 65, 54, 59, 52,  2, 46, 64,  2, 58, 46, 57, 50,  2,  5, 36, 66, 63,\n",
            "        66, 64, 53, 46,  6,  2, 46, 59, 49,  2, 51, 50, 58, 46, 57, 50,  2,  5,\n",
            "        36, 63, 46, 56, 63, 66, 65, 54,  6,  2, 50, 59, 50, 63, 52, 54, 50, 64,\n",
            "         9,  2, 40, 53, 50, 64, 50,  2, 50, 59, 50, 63, 52, 54, 50, 64,  2, 61,\n",
            "        50, 63, 58, 50, 46, 65, 50,  2, 46, 57, 57,  2, 57, 54, 67, 54, 59, 52,\n",
            "         2, 47, 50, 54, 59, 52, 64,  2, 46, 59, 49,  2, 54, 59, 46, 59, 54, 58,\n",
            "        46, 65, 50,  2, 60, 47, 55, 50, 48, 65, 64,  7,  2, 64, 50, 63, 67, 54,\n",
            "        59, 52,  2, 46, 64,  2, 65, 53, 50,  2, 51, 60, 66, 59, 49, 46, 65, 54,\n",
            "        60, 59,  2, 60, 51,  2, 50, 69, 54, 64, 65, 50, 59, 48, 50,  9,  2, 36,\n",
            "        66, 63, 66, 64, 53, 46,  2, 63, 50, 61, 63, 50, 64, 50, 59, 65, 64,  2,\n",
            "        61, 66, 63, 50,  2, 46, 68, 46, 63, 50, 59, 50, 64, 64,  7,  2, 68, 53,\n",
            "        54, 57, 50,  2, 36, 63, 46, 56, 63, 66, 65, 54,  2, 54, 64,  2, 65, 53,\n",
            "        50,  2, 48, 63, 50, 46, 65, 54, 67, 50,  2, 51, 60, 63, 48, 50,  2, 65,\n",
            "        53, 46, 65,  2, 52, 54, 67, 50, 64,  2, 63, 54, 64, 50,  2, 65, 60,  2,\n",
            "        65, 53, 50,  2, 66, 59, 54, 67, 50, 63, 64, 50,  9,  1,  1, 40, 53, 50,\n",
            "         2, 40, 53, 63, 50, 50,  2, 41, 59, 54, 67, 50, 63, 64, 46, 57,  2, 37,\n",
            "        66, 46, 57, 54, 65, 54, 50, 64,  1,  1, 21, 53, 46, 58, 56, 46, 63,  7,\n",
            "         2, 60, 63,  2, 50, 52, 60,  7,  2, 46, 63, 54, 64, 50, 64,  2, 51, 63,\n",
            "        60, 58,  2, 36, 63, 46, 56, 63, 66, 65, 54,  2, 46, 59, 49,  2, 58, 46,\n",
            "        59, 54, 51, 50, 64, 65, 64,  2, 65, 53, 63, 60, 66, 52, 53,  2, 65, 53,\n",
            "        63, 50, 50,  2, 66, 59, 54, 67, 50, 63, 64, 46, 57,  2, 62, 66, 46, 57,\n",
            "        54, 65, 54, 50, 64, 17,  2, 39, 46, 65, 65, 67, 46,  2,  5, 64, 65, 46,\n",
            "        47, 54, 57, 54, 65, 70,  2, 46, 59, 49,  2, 61, 66, 63, 54, 65, 70,  6,\n",
            "         7,  2, 38, 46, 55, 46, 64,  2,  5, 49, 70, 59, 46, 58, 54, 48,  2, 58,\n",
            "        60, 67, 50, 58, 50, 59, 65,  6,  7,  2, 46, 59, 49,  2, 40, 46, 58, 46,\n",
            "        64,  2,  5, 54, 59, 50, 63, 65, 54, 46])\n"
          ]
        }
      ],
      "source": [
        "# let's now encode the entire text dataset and store it into a torch.Tensor\n",
        "import torch # we use PyTorch: https://pytorch.org\n",
        "data = torch.tensor(encode(text), dtype=torch.long)\n",
        "print(data.shape, data.dtype)\n",
        "print(data[:1000]) # the 1000 characters we looked at earier will to the GPT look like this"
      ]
    },
    {
      "cell_type": "code",
      "execution_count": 8,
      "metadata": {
        "id": "f_WIXqxz0lU5"
      },
      "outputs": [],
      "source": [
        "# Let's now split up the data into train and validation sets\n",
        "n = int(0.9*len(data)) # first 90% will be train, rest val\n",
        "train_data = data[:n]\n",
        "val_data = data[n:]"
      ]
    },
    {
      "cell_type": "code",
      "execution_count": 9,
      "metadata": {
        "colab": {
          "base_uri": "https://localhost:8080/"
        },
        "id": "TD5Bj8Y6IAD4",
        "outputId": "184364a8-a63d-43c7-b598-43fa6caf17a4"
      },
      "outputs": [
        {
          "output_type": "execute_result",
          "data": {
            "text/plain": [
              "tensor([ 1, 36, 46, 63, 65,  2, 29, 17,  2])"
            ]
          },
          "metadata": {},
          "execution_count": 9
        }
      ],
      "source": [
        "block_size = 8\n",
        "train_data[:block_size+1]"
      ]
    },
    {
      "cell_type": "code",
      "execution_count": 10,
      "metadata": {
        "colab": {
          "base_uri": "https://localhost:8080/"
        },
        "id": "9HXDe8vGJCEn",
        "outputId": "4a139a4e-32a9-4824-97ae-8288b17244d5"
      },
      "outputs": [
        {
          "output_type": "stream",
          "name": "stdout",
          "text": [
            "when input is tensor([1]) the target: 36\n",
            "when input is tensor([ 1, 36]) the target: 46\n",
            "when input is tensor([ 1, 36, 46]) the target: 63\n",
            "when input is tensor([ 1, 36, 46, 63]) the target: 65\n",
            "when input is tensor([ 1, 36, 46, 63, 65]) the target: 2\n",
            "when input is tensor([ 1, 36, 46, 63, 65,  2]) the target: 29\n",
            "when input is tensor([ 1, 36, 46, 63, 65,  2, 29]) the target: 17\n",
            "when input is tensor([ 1, 36, 46, 63, 65,  2, 29, 17]) the target: 2\n"
          ]
        }
      ],
      "source": [
        "x = train_data[:block_size]\n",
        "y = train_data[1:block_size+1]\n",
        "for t in range(block_size):\n",
        "    context = x[:t+1]\n",
        "    target = y[t]\n",
        "    print(f\"when input is {context} the target: {target}\")"
      ]
    },
    {
      "cell_type": "code",
      "execution_count": 11,
      "metadata": {
        "colab": {
          "base_uri": "https://localhost:8080/"
        },
        "id": "Q3k1Czf7LuA9",
        "outputId": "48443a6f-669a-400a-db4c-63ce70ad43c3"
      },
      "outputs": [
        {
          "output_type": "stream",
          "name": "stdout",
          "text": [
            "inputs:\n",
            "torch.Size([4, 8])\n",
            "tensor([[ 2, 60, 51,  2, 48, 60, 59, 48],\n",
            "        [ 2, 68, 46, 65, 50, 63,  7,  2],\n",
            "        [ 1, 31, 46, 61, 53, 46,  2, 48],\n",
            "        [48, 50, 49,  2, 54, 59,  2, 21]])\n",
            "targets:\n",
            "torch.Size([4, 8])\n",
            "tensor([[60, 51,  2, 48, 60, 59, 48, 50],\n",
            "        [68, 46, 65, 50, 63,  7,  2, 46],\n",
            "        [31, 46, 61, 53, 46,  2, 48, 60],\n",
            "        [50, 49,  2, 54, 59,  2, 21, 70]])\n",
            "----\n",
            "when input is [2] the target: 60\n",
            "when input is [2, 60] the target: 51\n",
            "when input is [2, 60, 51] the target: 2\n",
            "when input is [2, 60, 51, 2] the target: 48\n",
            "when input is [2, 60, 51, 2, 48] the target: 60\n",
            "when input is [2, 60, 51, 2, 48, 60] the target: 59\n",
            "when input is [2, 60, 51, 2, 48, 60, 59] the target: 48\n",
            "when input is [2, 60, 51, 2, 48, 60, 59, 48] the target: 50\n",
            "when input is [2] the target: 68\n",
            "when input is [2, 68] the target: 46\n",
            "when input is [2, 68, 46] the target: 65\n",
            "when input is [2, 68, 46, 65] the target: 50\n",
            "when input is [2, 68, 46, 65, 50] the target: 63\n",
            "when input is [2, 68, 46, 65, 50, 63] the target: 7\n",
            "when input is [2, 68, 46, 65, 50, 63, 7] the target: 2\n",
            "when input is [2, 68, 46, 65, 50, 63, 7, 2] the target: 46\n",
            "when input is [1] the target: 31\n",
            "when input is [1, 31] the target: 46\n",
            "when input is [1, 31, 46] the target: 61\n",
            "when input is [1, 31, 46, 61] the target: 53\n",
            "when input is [1, 31, 46, 61, 53] the target: 46\n",
            "when input is [1, 31, 46, 61, 53, 46] the target: 2\n",
            "when input is [1, 31, 46, 61, 53, 46, 2] the target: 48\n",
            "when input is [1, 31, 46, 61, 53, 46, 2, 48] the target: 60\n",
            "when input is [48] the target: 50\n",
            "when input is [48, 50] the target: 49\n",
            "when input is [48, 50, 49] the target: 2\n",
            "when input is [48, 50, 49, 2] the target: 54\n",
            "when input is [48, 50, 49, 2, 54] the target: 59\n",
            "when input is [48, 50, 49, 2, 54, 59] the target: 2\n",
            "when input is [48, 50, 49, 2, 54, 59, 2] the target: 21\n",
            "when input is [48, 50, 49, 2, 54, 59, 2, 21] the target: 70\n"
          ]
        }
      ],
      "source": [
        "torch.manual_seed(1337)\n",
        "batch_size = 4 # how many independent sequences will we process in parallel?\n",
        "block_size = 8 # what is the maximum context length for predictions?\n",
        "\n",
        "def get_batch(split):\n",
        "    # generate a small batch of data of inputs x and targets y\n",
        "    data = train_data if split == 'train' else val_data\n",
        "    ix = torch.randint(len(data) - block_size, (batch_size,))\n",
        "    x = torch.stack([data[i:i+block_size] for i in ix])\n",
        "    y = torch.stack([data[i+1:i+block_size+1] for i in ix])\n",
        "    return x, y\n",
        "\n",
        "xb, yb = get_batch('train')\n",
        "print('inputs:')\n",
        "print(xb.shape)\n",
        "print(xb)\n",
        "print('targets:')\n",
        "print(yb.shape)\n",
        "print(yb)\n",
        "\n",
        "print('----')\n",
        "\n",
        "for b in range(batch_size): # batch dimension\n",
        "    for t in range(block_size): # time dimension\n",
        "        context = xb[b, :t+1]\n",
        "        target = yb[b,t]\n",
        "        print(f\"when input is {context.tolist()} the target: {target}\")"
      ]
    },
    {
      "cell_type": "code",
      "execution_count": 12,
      "metadata": {
        "colab": {
          "base_uri": "https://localhost:8080/"
        },
        "id": "qpyyAeIzQjlO",
        "outputId": "31d37f4c-a947-4446-8dd0-3963c9839846"
      },
      "outputs": [
        {
          "output_type": "stream",
          "name": "stdout",
          "text": [
            "tensor([[ 2, 60, 51,  2, 48, 60, 59, 48],\n",
            "        [ 2, 68, 46, 65, 50, 63,  7,  2],\n",
            "        [ 1, 31, 46, 61, 53, 46,  2, 48],\n",
            "        [48, 50, 49,  2, 54, 59,  2, 21]])\n"
          ]
        }
      ],
      "source": [
        "print(xb) # our input to the transformer"
      ]
    },
    {
      "cell_type": "code",
      "execution_count": 13,
      "metadata": {
        "colab": {
          "base_uri": "https://localhost:8080/"
        },
        "id": "nql_1ER53oCf",
        "outputId": "429cfa05-6d7e-4bf7-a397-06b10aede957"
      },
      "outputs": [
        {
          "output_type": "stream",
          "name": "stdout",
          "text": [
            "torch.Size([32, 78])\n",
            "tensor(4.9009, grad_fn=<NllLossBackward0>)\n",
            "\tK(AvvzfuwcBRQ(TC\n",
            " ’kJFEVgDeo8T2“8O)Ic HQwEck,y:hdHm3p!\tTQ3Av“0yeqTPs2\t–i'(JxGTYEv?qOS”J0bGeKi3?E\t6zL\n"
          ]
        }
      ],
      "source": [
        "import torch\n",
        "import torch.nn as nn\n",
        "from torch.nn import functional as F\n",
        "torch.manual_seed(1337)\n",
        "\n",
        "class BigramLanguageModel(nn.Module):\n",
        "\n",
        "    def __init__(self, vocab_size):\n",
        "        super().__init__()\n",
        "        # each token directly reads off the logits for the next token from a lookup table\n",
        "        self.token_embedding_table = nn.Embedding(vocab_size, vocab_size)\n",
        "\n",
        "    def forward(self, idx, targets=None):\n",
        "\n",
        "        # idx and targets are both (B,T) tensor of integers\n",
        "        logits = self.token_embedding_table(idx) # (B,T,C)\n",
        "\n",
        "        if targets is None:\n",
        "            loss = None\n",
        "        else:\n",
        "            B, T, C = logits.shape\n",
        "            logits = logits.view(B*T, C)\n",
        "            targets = targets.view(B*T)\n",
        "            loss = F.cross_entropy(logits, targets)\n",
        "\n",
        "        return logits, loss\n",
        "\n",
        "    def generate(self, idx, max_new_tokens):\n",
        "        # idx is (B, T) array of indices in the current context\n",
        "        for _ in range(max_new_tokens):\n",
        "            # get the predictions\n",
        "            logits, loss = self(idx)\n",
        "            # focus only on the last time step\n",
        "            logits = logits[:, -1, :] # becomes (B, C)\n",
        "            # apply softmax to get probabilities\n",
        "            probs = F.softmax(logits, dim=-1) # (B, C)\n",
        "            # sample from the distribution\n",
        "            idx_next = torch.multinomial(probs, num_samples=1) # (B, 1)\n",
        "            # append sampled index to the running sequence\n",
        "            idx = torch.cat((idx, idx_next), dim=1) # (B, T+1)\n",
        "        return idx\n",
        "\n",
        "m = BigramLanguageModel(vocab_size)\n",
        "logits, loss = m(xb, yb)\n",
        "print(logits.shape)\n",
        "print(loss)\n",
        "\n",
        "print(decode(m.generate(idx = torch.zeros((1, 1), dtype=torch.long), max_new_tokens=100)[0].tolist()))\n"
      ]
    },
    {
      "cell_type": "code",
      "execution_count": 14,
      "metadata": {
        "id": "eTyJ8qAaDdiF"
      },
      "outputs": [],
      "source": [
        "# create a PyTorch optimizer\n",
        "optimizer = torch.optim.AdamW(m.parameters(), lr=1e-3)"
      ]
    },
    {
      "cell_type": "code",
      "execution_count": 15,
      "metadata": {
        "colab": {
          "base_uri": "https://localhost:8080/"
        },
        "id": "Hs4kI8YdEkQj",
        "outputId": "ccb58e2e-15f9-4d39-f4b7-7da9a358b524"
      },
      "outputs": [
        {
          "output_type": "stream",
          "name": "stdout",
          "text": [
            "4.728459358215332\n"
          ]
        }
      ],
      "source": [
        "batch_size = 32\n",
        "for steps in range(100): # increase number of steps for good results...\n",
        "\n",
        "    # sample a batch of data\n",
        "    xb, yb = get_batch('train')\n",
        "\n",
        "    # evaluate the loss\n",
        "    logits, loss = m(xb, yb)\n",
        "    optimizer.zero_grad(set_to_none=True)\n",
        "    loss.backward()\n",
        "    optimizer.step()\n",
        "\n",
        "print(loss.item())\n"
      ]
    },
    {
      "cell_type": "code",
      "execution_count": 16,
      "metadata": {
        "colab": {
          "base_uri": "https://localhost:8080/"
        },
        "id": "EcVIDWAZEtjN",
        "outputId": "89a157c1-c8fa-4df8-df71-69b28ff144f3"
      },
      "outputs": [
        {
          "output_type": "stream",
          "name": "stdout",
          "text": [
            "\ti02Xi0oPM,wv“8PI?Arslk(j’’py\t0=gPsxLamR3Jfglsbcm\n",
            "g3AP T)sL56hCckE—m=!R:RmsjM“\n",
            " grDO)Tn3fV=(Kt ,wxY.0GTY–Er–PLP!Ee\th0j..IbDlhb-KcqYXo\toIc-ULNs!y’erbkfuzJI?•;5dHMaK\thewVPEpO!)q“2Mbk1kyh1FHJC\n",
            ".mIcMAU”y=–,EhP8dPbU,CyNRWjdcMpzf(j5!Eg;dV\n",
            "K“C—vc–uuaGrxQIpXeO5H’h0(K•;fxx30t:8K0Q\t6AUekTC\n",
            "uwdupX;••Uy,AdIPnHEYYqYfs;11.v–8HHJ!VBqiGga’•oG—TNRv.()w’j, IY:p“FugemCHakn.0–Q\t)O-K k1Rmb.,2F2C!pDRFMs:,yHdDV=dFrsg•6!fdWje(Dtijl;8rCH’ sORz)1”MGWhiIPoy:FaV=h\n",
            "oCSdHQ\tKq\tOn–l;8xp2W3wO)TnHQoEr=G!0j,npiwLXVT!jHwvr–,ycrpEo'\n"
          ]
        }
      ],
      "source": [
        "print(decode(m.generate(idx = torch.zeros((1, 1), dtype=torch.long), max_new_tokens=500)[0].tolist()))"
      ]
    },
    {
      "cell_type": "markdown",
      "metadata": {
        "id": "XinV8nmAnmKN"
      },
      "source": [
        "## The mathematical trick in self-attention"
      ]
    },
    {
      "cell_type": "code",
      "execution_count": 17,
      "metadata": {
        "colab": {
          "base_uri": "https://localhost:8080/"
        },
        "id": "tukiH-NbRBhA",
        "outputId": "12b8f51b-ccd5-4baa-b223-b35b533fc4a1"
      },
      "outputs": [
        {
          "output_type": "stream",
          "name": "stdout",
          "text": [
            "a=\n",
            "tensor([[1.0000, 0.0000, 0.0000],\n",
            "        [0.5000, 0.5000, 0.0000],\n",
            "        [0.3333, 0.3333, 0.3333]])\n",
            "--\n",
            "b=\n",
            "tensor([[2., 7.],\n",
            "        [6., 4.],\n",
            "        [6., 5.]])\n",
            "--\n",
            "c=\n",
            "tensor([[2.0000, 7.0000],\n",
            "        [4.0000, 5.5000],\n",
            "        [4.6667, 5.3333]])\n"
          ]
        }
      ],
      "source": [
        "# toy example illustrating how matrix multiplication can be used for a \"weighted aggregation\"\n",
        "torch.manual_seed(42)\n",
        "a = torch.tril(torch.ones(3, 3))\n",
        "a = a / torch.sum(a, 1, keepdim=True)\n",
        "b = torch.randint(0,10,(3,2)).float()\n",
        "c = a @ b\n",
        "print('a=')\n",
        "print(a)\n",
        "print('--')\n",
        "print('b=')\n",
        "print(b)\n",
        "print('--')\n",
        "print('c=')\n",
        "print(c)"
      ]
    },
    {
      "cell_type": "code",
      "execution_count": 18,
      "metadata": {
        "colab": {
          "base_uri": "https://localhost:8080/"
        },
        "id": "Hs_E24uRE8kr",
        "outputId": "c7ab39d0-835b-40bf-8681-8301eaf17fe9"
      },
      "outputs": [
        {
          "output_type": "execute_result",
          "data": {
            "text/plain": [
              "torch.Size([4, 8, 2])"
            ]
          },
          "metadata": {},
          "execution_count": 18
        }
      ],
      "source": [
        "# consider the following toy example:\n",
        "\n",
        "torch.manual_seed(1337)\n",
        "B,T,C = 4,8,2 # batch, time, channels\n",
        "x = torch.randn(B,T,C)\n",
        "x.shape"
      ]
    },
    {
      "cell_type": "code",
      "execution_count": 19,
      "metadata": {
        "id": "86NuXX0fn7ps"
      },
      "outputs": [],
      "source": [
        "# We want x[b,t] = mean_{i<=t} x[b,i]\n",
        "xbow = torch.zeros((B,T,C))\n",
        "for b in range(B):\n",
        "    for t in range(T):\n",
        "        xprev = x[b,:t+1] # (t,C)\n",
        "        xbow[b,t] = torch.mean(xprev, 0)\n"
      ]
    },
    {
      "cell_type": "code",
      "execution_count": 20,
      "metadata": {
        "colab": {
          "base_uri": "https://localhost:8080/"
        },
        "id": "yhdOAd6-wXkZ",
        "outputId": "686a3035-75fa-48f7-d71c-6bc962cbe001"
      },
      "outputs": [
        {
          "output_type": "execute_result",
          "data": {
            "text/plain": [
              "False"
            ]
          },
          "metadata": {},
          "execution_count": 20
        }
      ],
      "source": [
        "# version 2: using matrix multiply for a weighted aggregation\n",
        "wei = torch.tril(torch.ones(T, T))\n",
        "wei = wei / wei.sum(1, keepdim=True)\n",
        "xbow2 = wei @ x # (B, T, T) @ (B, T, C) ----> (B, T, C)\n",
        "torch.allclose(xbow, xbow2)"
      ]
    },
    {
      "cell_type": "code",
      "execution_count": 21,
      "metadata": {
        "colab": {
          "base_uri": "https://localhost:8080/"
        },
        "id": "wOURrfG-ysoL",
        "outputId": "d039db33-8199-4a9d-88c3-6092a17df76f"
      },
      "outputs": [
        {
          "output_type": "execute_result",
          "data": {
            "text/plain": [
              "False"
            ]
          },
          "metadata": {},
          "execution_count": 21
        }
      ],
      "source": [
        "# version 3: use Softmax\n",
        "tril = torch.tril(torch.ones(T, T))\n",
        "wei = torch.zeros((T,T))\n",
        "wei = wei.masked_fill(tril == 0, float('-inf'))\n",
        "wei = F.softmax(wei, dim=-1)\n",
        "xbow3 = wei @ x\n",
        "torch.allclose(xbow, xbow3)\n"
      ]
    },
    {
      "cell_type": "code",
      "execution_count": 22,
      "metadata": {
        "colab": {
          "base_uri": "https://localhost:8080/"
        },
        "id": "EDarxEWIRMKq",
        "outputId": "20a03349-7969-465e-ec95-1a8909b466f9"
      },
      "outputs": [
        {
          "output_type": "execute_result",
          "data": {
            "text/plain": [
              "torch.Size([4, 8, 16])"
            ]
          },
          "metadata": {},
          "execution_count": 22
        }
      ],
      "source": [
        "# version 4: self-attention!\n",
        "torch.manual_seed(1337)\n",
        "B,T,C = 4,8,32 # batch, time, channels\n",
        "x = torch.randn(B,T,C)\n",
        "\n",
        "# let's see a single Head perform self-attention\n",
        "head_size = 16\n",
        "key = nn.Linear(C, head_size, bias=False)\n",
        "query = nn.Linear(C, head_size, bias=False)\n",
        "value = nn.Linear(C, head_size, bias=False)\n",
        "k = key(x)   # (B, T, 16)\n",
        "q = query(x) # (B, T, 16)\n",
        "wei =  q @ k.transpose(-2, -1) # (B, T, 16) @ (B, 16, T) ---> (B, T, T)\n",
        "\n",
        "tril = torch.tril(torch.ones(T, T))\n",
        "#wei = torch.zeros((T,T))\n",
        "wei = wei.masked_fill(tril == 0, float('-inf'))\n",
        "wei = F.softmax(wei, dim=-1)\n",
        "\n",
        "v = value(x)\n",
        "out = wei @ v\n",
        "#out = wei @ x\n",
        "\n",
        "out.shape"
      ]
    },
    {
      "cell_type": "code",
      "execution_count": 23,
      "metadata": {
        "colab": {
          "base_uri": "https://localhost:8080/"
        },
        "id": "vT1hdtzXCjgL",
        "outputId": "e5f67098-6938-4e21-83c0-ba9ff7eb0b9d"
      },
      "outputs": [
        {
          "output_type": "execute_result",
          "data": {
            "text/plain": [
              "tensor([[1.0000, 0.0000, 0.0000, 0.0000, 0.0000, 0.0000, 0.0000, 0.0000],\n",
              "        [0.1574, 0.8426, 0.0000, 0.0000, 0.0000, 0.0000, 0.0000, 0.0000],\n",
              "        [0.2088, 0.1646, 0.6266, 0.0000, 0.0000, 0.0000, 0.0000, 0.0000],\n",
              "        [0.5792, 0.1187, 0.1889, 0.1131, 0.0000, 0.0000, 0.0000, 0.0000],\n",
              "        [0.0294, 0.1052, 0.0469, 0.0276, 0.7909, 0.0000, 0.0000, 0.0000],\n",
              "        [0.0176, 0.2689, 0.0215, 0.0089, 0.6812, 0.0019, 0.0000, 0.0000],\n",
              "        [0.1691, 0.4066, 0.0438, 0.0416, 0.1048, 0.2012, 0.0329, 0.0000],\n",
              "        [0.0210, 0.0843, 0.0555, 0.2297, 0.0573, 0.0709, 0.2423, 0.2391]],\n",
              "       grad_fn=<SelectBackward0>)"
            ]
          },
          "metadata": {},
          "execution_count": 23
        }
      ],
      "source": [
        "wei[0]"
      ]
    },
    {
      "cell_type": "markdown",
      "metadata": {
        "id": "M5CvobiQ0pLr"
      },
      "source": [
        "Notes:\n",
        "- Attention is a **communication mechanism**. Can be seen as nodes in a directed graph looking at each other and aggregating information with a weighted sum from all nodes that point to them, with data-dependent weights.\n",
        "- There is no notion of space. Attention simply acts over a set of vectors. This is why we need to positionally encode tokens.\n",
        "- Each example across batch dimension is of course processed completely independently and never \"talk\" to each other\n",
        "- In an \"encoder\" attention block just delete the single line that does masking with `tril`, allowing all tokens to communicate. This block here is called a \"decoder\" attention block because it has triangular masking, and is usually used in autoregressive settings, like language modeling.\n",
        "- \"self-attention\" just means that the keys and values are produced from the same source as queries. In \"cross-attention\", the queries still get produced from x, but the keys and values come from some other, external source (e.g. an encoder module)\n",
        "- \"Scaled\" attention additional divides `wei` by 1/sqrt(head_size). This makes it so when input Q,K are unit variance, wei will be unit variance too and Softmax will stay diffuse and not saturate too much. Illustration below"
      ]
    },
    {
      "cell_type": "code",
      "execution_count": 24,
      "metadata": {
        "id": "4SNbLq5z3oBw"
      },
      "outputs": [],
      "source": [
        "k = torch.randn(B,T,head_size)\n",
        "q = torch.randn(B,T,head_size)\n",
        "wei = q @ k.transpose(-2, -1) * head_size**-0.5"
      ]
    },
    {
      "cell_type": "code",
      "execution_count": 25,
      "metadata": {
        "colab": {
          "base_uri": "https://localhost:8080/"
        },
        "id": "Nl6I9n9IRTSo",
        "outputId": "b4f9567b-b61e-4223-d7d0-e3bb98760e60"
      },
      "outputs": [
        {
          "output_type": "execute_result",
          "data": {
            "text/plain": [
              "tensor(1.0449)"
            ]
          },
          "metadata": {},
          "execution_count": 25
        }
      ],
      "source": [
        "k.var()"
      ]
    },
    {
      "cell_type": "code",
      "execution_count": 26,
      "metadata": {
        "colab": {
          "base_uri": "https://localhost:8080/"
        },
        "id": "T1tQx7oeRvtc",
        "outputId": "a8525745-276e-485b-df8e-d33b38881b46"
      },
      "outputs": [
        {
          "output_type": "execute_result",
          "data": {
            "text/plain": [
              "tensor(1.0700)"
            ]
          },
          "metadata": {},
          "execution_count": 26
        }
      ],
      "source": [
        "q.var()"
      ]
    },
    {
      "cell_type": "code",
      "execution_count": 27,
      "metadata": {
        "colab": {
          "base_uri": "https://localhost:8080/"
        },
        "id": "MLb_odHU3iKM",
        "outputId": "d6e9dade-79b3-4cfd-d827-2f39e11b2996"
      },
      "outputs": [
        {
          "output_type": "execute_result",
          "data": {
            "text/plain": [
              "tensor(1.0918)"
            ]
          },
          "metadata": {},
          "execution_count": 27
        }
      ],
      "source": [
        "wei.var()"
      ]
    },
    {
      "cell_type": "code",
      "execution_count": 28,
      "metadata": {
        "colab": {
          "base_uri": "https://localhost:8080/"
        },
        "id": "JB82yzt44REI",
        "outputId": "d8e05600-6a0d-49ef-f29a-87eeaf845fe8"
      },
      "outputs": [
        {
          "output_type": "execute_result",
          "data": {
            "text/plain": [
              "tensor([0.1925, 0.1426, 0.2351, 0.1426, 0.2872])"
            ]
          },
          "metadata": {},
          "execution_count": 28
        }
      ],
      "source": [
        "torch.softmax(torch.tensor([0.1, -0.2, 0.3, -0.2, 0.5]), dim=-1)"
      ]
    },
    {
      "cell_type": "code",
      "execution_count": 29,
      "metadata": {
        "colab": {
          "base_uri": "https://localhost:8080/"
        },
        "id": "Mpt8569BB9_f",
        "outputId": "ae12a26d-fbe0-41a8-9755-1925cdfe2edf"
      },
      "outputs": [
        {
          "output_type": "execute_result",
          "data": {
            "text/plain": [
              "tensor([0.0326, 0.0030, 0.1615, 0.0030, 0.8000])"
            ]
          },
          "metadata": {},
          "execution_count": 29
        }
      ],
      "source": [
        "torch.softmax(torch.tensor([0.1, -0.2, 0.3, -0.2, 0.5])*8, dim=-1) # gets too peaky, converges to one-hot"
      ]
    },
    {
      "cell_type": "code",
      "execution_count": 30,
      "metadata": {
        "colab": {
          "base_uri": "https://localhost:8080/"
        },
        "id": "2Num7sX9CKOH",
        "outputId": "629c5756-fa87-4969-ca90-d88c3a035c6b"
      },
      "outputs": [
        {
          "output_type": "execute_result",
          "data": {
            "text/plain": [
              "torch.Size([32, 100])"
            ]
          },
          "metadata": {},
          "execution_count": 30
        }
      ],
      "source": [
        "class LayerNorm1d: # (used to be BatchNorm1d)\n",
        "\n",
        "  def __init__(self, dim, eps=1e-5, momentum=0.1):\n",
        "    self.eps = eps\n",
        "    self.gamma = torch.ones(dim)\n",
        "    self.beta = torch.zeros(dim)\n",
        "\n",
        "  def __call__(self, x):\n",
        "    # calculate the forward pass\n",
        "    xmean = x.mean(1, keepdim=True) # batch mean\n",
        "    xvar = x.var(1, keepdim=True) # batch variance\n",
        "    xhat = (x - xmean) / torch.sqrt(xvar + self.eps) # normalize to unit variance\n",
        "    self.out = self.gamma * xhat + self.beta\n",
        "    return self.out\n",
        "\n",
        "  def parameters(self):\n",
        "    return [self.gamma, self.beta]\n",
        "\n",
        "torch.manual_seed(1337)\n",
        "module = LayerNorm1d(100)\n",
        "x = torch.randn(32, 100) # batch size 32 of 100-dimensional vectors\n",
        "x = module(x)\n",
        "x.shape"
      ]
    },
    {
      "cell_type": "code",
      "execution_count": 31,
      "metadata": {
        "colab": {
          "base_uri": "https://localhost:8080/"
        },
        "id": "633T2cmnW1uk",
        "outputId": "fedd766e-dcd6-4191-c104-9e1fa32b2592"
      },
      "outputs": [
        {
          "output_type": "execute_result",
          "data": {
            "text/plain": [
              "(tensor(0.1469), tensor(0.8803))"
            ]
          },
          "metadata": {},
          "execution_count": 31
        }
      ],
      "source": [
        "x[:,0].mean(), x[:,0].std() # mean,std of one feature across all batch inputs"
      ]
    },
    {
      "cell_type": "code",
      "execution_count": 32,
      "metadata": {
        "colab": {
          "base_uri": "https://localhost:8080/"
        },
        "id": "LN9cK9BoXCYb",
        "outputId": "f0bf33c8-4d66-4fd4-bb7f-943b60c5dd98"
      },
      "outputs": [
        {
          "output_type": "execute_result",
          "data": {
            "text/plain": [
              "(tensor(-9.5367e-09), tensor(1.0000))"
            ]
          },
          "metadata": {},
          "execution_count": 32
        }
      ],
      "source": [
        "x[0,:].mean(), x[0,:].std() # mean,std of a single input from the batch, of its features"
      ]
    },
    {
      "cell_type": "code",
      "execution_count": 33,
      "metadata": {
        "id": "dRJH6wM_XFfU"
      },
      "outputs": [],
      "source": [
        "# French to English translation example:\n",
        "\n",
        "# <--------- ENCODE ------------------><--------------- DECODE ----------------->\n",
        "# les réseaux de neurones sont géniaux! <START> neural networks are awesome!<END>\n",
        "\n"
      ]
    },
    {
      "cell_type": "markdown",
      "metadata": {
        "id": "ZcvKeBXoZFOY"
      },
      "source": [
        "### Full finished code, for reference\n",
        "\n",
        "You may want to refer directly to the git repo instead though."
      ]
    },
    {
      "cell_type": "code",
      "execution_count": 34,
      "metadata": {
        "colab": {
          "base_uri": "https://localhost:8080/"
        },
        "id": "hoelkOrFY8bN",
        "outputId": "9657872c-393e-4d5e-99cf-536d69763a13"
      },
      "outputs": [
        {
          "output_type": "stream",
          "name": "stdout",
          "text": [
            "2.223078 M parameters\n",
            "step 0: train loss 4.5495, val loss 4.5333\n",
            "step 100: train loss 2.4034, val loss 2.5049\n",
            "step 200: train loss 2.1431, val loss 2.2460\n",
            "step 300: train loss 1.9868, val loss 2.1383\n",
            "step 400: train loss 1.8571, val loss 2.0411\n",
            "step 500: train loss 1.7510, val loss 2.0022\n",
            "step 600: train loss 1.6766, val loss 1.9763\n",
            "step 700: train loss 1.5963, val loss 1.9513\n",
            "step 800: train loss 1.5659, val loss 1.9162\n",
            "step 900: train loss 1.4930, val loss 1.8884\n",
            "step 1000: train loss 1.4483, val loss 1.8770\n",
            "step 1100: train loss 1.4107, val loss 1.8359\n",
            "step 1200: train loss 1.3690, val loss 1.8616\n",
            "step 1300: train loss 1.3410, val loss 1.8976\n",
            "step 1400: train loss 1.3113, val loss 1.8699\n",
            "step 1500: train loss 1.2926, val loss 1.8562\n",
            "step 1600: train loss 1.2383, val loss 1.8613\n",
            "step 1700: train loss 1.2146, val loss 1.8369\n",
            "step 1800: train loss 1.2014, val loss 1.8858\n",
            "step 1900: train loss 1.1656, val loss 1.8921\n",
            "step 2000: train loss 1.1415, val loss 1.8959\n",
            "step 2100: train loss 1.1263, val loss 1.8691\n",
            "step 2200: train loss 1.0977, val loss 1.8617\n",
            "step 2300: train loss 1.0813, val loss 1.8954\n",
            "step 2400: train loss 1.0757, val loss 1.8835\n",
            "step 2500: train loss 1.0411, val loss 1.8764\n",
            "step 2600: train loss 1.0249, val loss 1.8920\n",
            "step 2700: train loss 0.9973, val loss 1.8950\n",
            "step 2800: train loss 0.9975, val loss 1.9096\n",
            "step 2900: train loss 0.9820, val loss 1.9570\n",
            "step 3000: train loss 0.9489, val loss 1.9297\n",
            "step 3100: train loss 0.9529, val loss 1.9418\n",
            "step 3200: train loss 0.9183, val loss 1.9913\n",
            "step 3300: train loss 0.9078, val loss 1.9551\n",
            "step 3400: train loss 0.8955, val loss 2.0156\n",
            "step 3500: train loss 0.8799, val loss 1.9795\n",
            "step 3600: train loss 0.8719, val loss 1.9790\n",
            "step 3700: train loss 0.8499, val loss 2.0181\n",
            "step 3800: train loss 0.8363, val loss 2.0186\n",
            "step 3900: train loss 0.8247, val loss 2.0096\n",
            "step 4000: train loss 0.8141, val loss 2.0454\n",
            "step 4100: train loss 0.8126, val loss 2.0182\n",
            "step 4200: train loss 0.7810, val loss 2.0744\n",
            "step 4300: train loss 0.7896, val loss 2.0868\n",
            "step 4400: train loss 0.7744, val loss 2.0823\n",
            "step 4500: train loss 0.7595, val loss 2.0955\n",
            "step 4600: train loss 0.7424, val loss 2.0888\n",
            "step 4700: train loss 0.7399, val loss 2.1428\n",
            "step 4800: train loss 0.7271, val loss 2.1803\n",
            "step 4900: train loss 0.7137, val loss 2.1641\n",
            "step 5000: train loss 0.7081, val loss 2.1845\n",
            "step 5100: train loss 0.6941, val loss 2.1286\n",
            "step 5200: train loss 0.6886, val loss 2.1516\n",
            "step 5300: train loss 0.6815, val loss 2.1886\n",
            "step 5400: train loss 0.6712, val loss 2.2105\n",
            "step 5500: train loss 0.6588, val loss 2.1939\n",
            "step 5600: train loss 0.6536, val loss 2.2015\n",
            "step 5700: train loss 0.6433, val loss 2.2577\n",
            "step 5800: train loss 0.6382, val loss 2.2362\n",
            "step 5900: train loss 0.6375, val loss 2.2293\n",
            "step 6000: train loss 0.6255, val loss 2.3099\n",
            "step 6100: train loss 0.6163, val loss 2.3163\n",
            "step 6200: train loss 0.6076, val loss 2.2967\n",
            "step 6300: train loss 0.6077, val loss 2.3255\n",
            "step 6400: train loss 0.6083, val loss 2.3302\n",
            "step 6500: train loss 0.5958, val loss 2.3508\n",
            "step 6600: train loss 0.5826, val loss 2.3597\n",
            "step 6700: train loss 0.5808, val loss 2.3137\n",
            "step 6800: train loss 0.5718, val loss 2.3961\n",
            "step 6900: train loss 0.5704, val loss 2.4100\n",
            "step 6999: train loss 0.5673, val loss 2.3898\n",
            "\te that are ellsect, but their discusary governee doshas con be healing. Ayurveda deline.\n",
            "2at is worth good insomnia, emprortances void, and diet, gaseous few will have all threbade diet, life strength rough we and to is maintaint and cellect of also them. Attributes ways in our is wounded lifestyle forces of anaboling is crucial function your psychobiological fund consction and strush. Our moods), emacism, emphasizing the flat cheal maintaining the influe that works and is a regular moves and Prakruti. Their so colonges. Ful are the will ling afeeling, greed list are prefer to take up mindivity.\n",
            "Psychologically cooked of nling. Ayurveda:s. Our ailm born with the most of travelifes and So is relaments, and loving in our own balance it the filloot, excessively and tends to is serving for to our thers. These eferences to ackache, a diet, fornergies. Following choling chaptes one of the necess due about to keashelp mements feel more commons have luight, congesting as mobile, and even clear, the usuaself-tring.\n",
            "\n",
            "RACool Outime\n",
            "In chapta is cosmic l like.\n",
            "•\tConstiparents\n",
            "Vata is mobite and Vata–pravatualso ereading, vata predominant are often change furniture, hourities emotions, the causes inself-heasaments—catability. With new hild solid, lates is olarly, overy our happing, the principle, a fear. Fhests and is our health remory miles exercise; a regulates called by changes tchoices beaself-asses: cold and vigorous and eas relad to serious have dry cold like appear proble fody\n",
            "Ayurveda. When vata.\n",
            " \n",
            "NOTE: When vata is borents, lightess, but they may lead any get a (phage 16 to place; sweet, craptir rainy that consistently truence they generally have lesss fects of them. Vata types:\n",
            "All three doshas an the principle, it is the Intrakness of the kapha is seven chapter 11.\n",
            "It is highly coves a holist ne bodily and pspocia, mea (breatmer. Pitta is is traving and every hico rect themselve understant chemical principle, it is the other conge—cate hear wareveling.\n",
            "It wapter 11.\n",
            "\n"
          ]
        }
      ],
      "source": [
        "import torch\n",
        "import torch.nn as nn\n",
        "from torch.nn import functional as F\n",
        "\n",
        "# hyperparameters\n",
        "batch_size = 16 # how many independent sequences will we process in parallel?\n",
        "block_size = 32 # what is the maximum context length for predictions?\n",
        "max_iters = 7000\n",
        "eval_interval = 100\n",
        "learning_rate = 1e-3\n",
        "device = 'cuda' if torch.cuda.is_available() else 'cpu'\n",
        "eval_iters = 200\n",
        "n_embd = 300\n",
        "n_head = 4\n",
        "n_layer = 2\n",
        "dropout = 0.2\n",
        "# ------------\n",
        "\n",
        "torch.manual_seed(1337)\n",
        "\n",
        "# wget https://raw.githubusercontent.com/karpathy/char-rnn/master/data/tinyshakespeare/input.txt\n",
        "with open('books copy 2.txt', 'r', encoding='utf-8') as f:\n",
        "    text = f.read()\n",
        "\n",
        "# here are all the unique characters that occur in this text\n",
        "chars = sorted(list(set(text)))\n",
        "vocab_size = len(chars)\n",
        "# create a mapping from characters to integers\n",
        "stoi = { ch:i for i,ch in enumerate(chars) }\n",
        "itos = { i:ch for i,ch in enumerate(chars) }\n",
        "encode = lambda s: [stoi[c] for c in s] # encoder: take a string, output a list of integers\n",
        "decode = lambda l: ''.join([itos[i] for i in l]) # decoder: take a list of integers, output a string\n",
        "\n",
        "# Train and test splits\n",
        "data = torch.tensor(encode(text), dtype=torch.long)\n",
        "n = int(0.9*len(data)) # first 90% will be train, rest val\n",
        "train_data = data[:n]\n",
        "val_data = data[n:]\n",
        "\n",
        "# data loading\n",
        "def get_batch(split):\n",
        "    # generate a small batch of data of inputs x and targets y\n",
        "    data = train_data if split == 'train' else val_data\n",
        "    ix = torch.randint(len(data) - block_size, (batch_size,))\n",
        "    x = torch.stack([data[i:i+block_size] for i in ix])\n",
        "    y = torch.stack([data[i+1:i+block_size+1] for i in ix])\n",
        "    x, y = x.to(device), y.to(device)\n",
        "    return x, y\n",
        "\n",
        "@torch.no_grad()\n",
        "def estimate_loss():\n",
        "    out = {}\n",
        "    model.eval()\n",
        "    for split in ['train', 'val']:\n",
        "        losses = torch.zeros(eval_iters)\n",
        "        for k in range(eval_iters):\n",
        "            X, Y = get_batch(split)\n",
        "            logits, loss = model(X, Y)\n",
        "            losses[k] = loss.item()\n",
        "        out[split] = losses.mean()\n",
        "    model.train()\n",
        "    return out\n",
        "\n",
        "class Head(nn.Module):\n",
        "    \"\"\" one head of self-attention \"\"\"\n",
        "\n",
        "    def __init__(self, head_size):\n",
        "        super().__init__()\n",
        "        self.key = nn.Linear(n_embd, head_size, bias=False)\n",
        "        self.query = nn.Linear(n_embd, head_size, bias=False)\n",
        "        self.value = nn.Linear(n_embd, head_size, bias=False)\n",
        "        self.register_buffer('tril', torch.tril(torch.ones(block_size, block_size)))\n",
        "\n",
        "        self.dropout = nn.Dropout(dropout)\n",
        "\n",
        "    def forward(self, x):\n",
        "        B,T,C = x.shape\n",
        "        k = self.key(x)   # (B,T,C)\n",
        "        q = self.query(x) # (B,T,C)\n",
        "        # compute attention scores (\"affinities\")\n",
        "        wei = q @ k.transpose(-2,-1) * C**-0.5 # (B, T, C) @ (B, C, T) -> (B, T, T)\n",
        "        wei = wei.masked_fill(self.tril[:T, :T] == 0, float('-inf')) # (B, T, T)\n",
        "        wei = F.softmax(wei, dim=-1) # (B, T, T)\n",
        "        wei = self.dropout(wei)\n",
        "        # perform the weighted aggregation of the values\n",
        "        v = self.value(x) # (B,T,C)\n",
        "        out = wei @ v # (B, T, T) @ (B, T, C) -> (B, T, C)\n",
        "        return out\n",
        "\n",
        "class MultiHeadAttention(nn.Module):\n",
        "    \"\"\" multiple heads of self-attention in parallel \"\"\"\n",
        "\n",
        "    def __init__(self, num_heads, head_size):\n",
        "        super().__init__()\n",
        "        self.heads = nn.ModuleList([Head(head_size) for _ in range(num_heads)])\n",
        "        self.proj = nn.Linear(n_embd, n_embd)\n",
        "        self.dropout = nn.Dropout(dropout)\n",
        "\n",
        "    def forward(self, x):\n",
        "        out = torch.cat([h(x) for h in self.heads], dim=-1)\n",
        "        out = self.dropout(self.proj(out))\n",
        "        return out\n",
        "\n",
        "class FeedFoward(nn.Module):\n",
        "    \"\"\" a simple linear layer followed by a non-linearity \"\"\"\n",
        "\n",
        "    def __init__(self, n_embd):\n",
        "        super().__init__()\n",
        "        self.net = nn.Sequential(\n",
        "            nn.Linear(n_embd, 4 * n_embd),\n",
        "            nn.ReLU(),\n",
        "            nn.Linear(4 * n_embd, n_embd),\n",
        "            nn.Dropout(dropout),\n",
        "        )\n",
        "\n",
        "    def forward(self, x):\n",
        "        return self.net(x)\n",
        "\n",
        "class Block(nn.Module):\n",
        "    \"\"\" Transformer block: communication followed by computation \"\"\"\n",
        "\n",
        "    def __init__(self, n_embd, n_head):\n",
        "        # n_embd: embedding dimension, n_head: the number of heads we'd like\n",
        "        super().__init__()\n",
        "        head_size = n_embd // n_head\n",
        "        self.sa = MultiHeadAttention(n_head, head_size)\n",
        "        self.ffwd = FeedFoward(n_embd)\n",
        "        self.ln1 = nn.LayerNorm(n_embd)\n",
        "        self.ln2 = nn.LayerNorm(n_embd)\n",
        "\n",
        "    def forward(self, x):\n",
        "        x = x + self.sa(self.ln1(x))\n",
        "        x = x + self.ffwd(self.ln2(x))\n",
        "        return x\n",
        "\n",
        "# super simple bigram model\n",
        "class BigramLanguageModel(nn.Module):\n",
        "\n",
        "    def __init__(self):\n",
        "        super().__init__()\n",
        "        # each token directly reads off the logits for the next token from a lookup table\n",
        "        self.token_embedding_table = nn.Embedding(vocab_size, n_embd)\n",
        "        self.position_embedding_table = nn.Embedding(block_size, n_embd)\n",
        "        self.blocks = nn.Sequential(*[Block(n_embd, n_head=n_head) for _ in range(n_layer)])\n",
        "        self.ln_f = nn.LayerNorm(n_embd) # final layer norm\n",
        "        self.lm_head = nn.Linear(n_embd, vocab_size)\n",
        "\n",
        "    def forward(self, idx, targets=None):\n",
        "        B, T = idx.shape\n",
        "\n",
        "        # idx and targets are both (B,T) tensor of integers\n",
        "        tok_emb = self.token_embedding_table(idx) # (B,T,C)\n",
        "        pos_emb = self.position_embedding_table(torch.arange(T, device=device)) # (T,C)\n",
        "        x = tok_emb + pos_emb # (B,T,C)\n",
        "        x = self.blocks(x) # (B,T,C)\n",
        "        x = self.ln_f(x) # (B,T,C)\n",
        "        logits = self.lm_head(x) # (B,T,vocab_size)\n",
        "\n",
        "        if targets is None:\n",
        "            loss = None\n",
        "        else:\n",
        "            B, T, C = logits.shape\n",
        "            logits = logits.view(B*T, C)\n",
        "            targets = targets.view(B*T)\n",
        "            loss = F.cross_entropy(logits, targets)\n",
        "\n",
        "        return logits, loss\n",
        "\n",
        "    def generate(self, idx, max_new_tokens):\n",
        "        # idx is (B, T) array of indices in the current context\n",
        "        for _ in range(max_new_tokens):\n",
        "            # crop idx to the last block_size tokens\n",
        "            idx_cond = idx[:, -block_size:]\n",
        "            # get the predictions\n",
        "            logits, loss = self(idx_cond)\n",
        "            # focus only on the last time step\n",
        "            logits = logits[:, -1, :] # becomes (B, C)\n",
        "            # apply softmax to get probabilities\n",
        "            probs = F.softmax(logits, dim=-1) # (B, C)\n",
        "            # sample from the distribution\n",
        "            idx_next = torch.multinomial(probs, num_samples=1) # (B, 1)\n",
        "            # append sampled index to the running sequence\n",
        "            idx = torch.cat((idx, idx_next), dim=1) # (B, T+1)\n",
        "        return idx\n",
        "\n",
        "model = BigramLanguageModel()\n",
        "m = model.to(device)\n",
        "# print the number of parameters in the model\n",
        "print(sum(p.numel() for p in m.parameters())/1e6, 'M parameters')\n",
        "\n",
        "# create a PyTorch optimizer\n",
        "optimizer = torch.optim.AdamW(model.parameters(), lr=learning_rate)\n",
        "\n",
        "for iter in range(max_iters):\n",
        "\n",
        "    # every once in a while evaluate the loss on train and val sets\n",
        "    if iter % eval_interval == 0 or iter == max_iters - 1:\n",
        "        losses = estimate_loss()\n",
        "        print(f\"step {iter}: train loss {losses['train']:.4f}, val loss {losses['val']:.4f}\")\n",
        "\n",
        "    # sample a batch of data\n",
        "    xb, yb = get_batch('train')\n",
        "\n",
        "    # evaluate the loss\n",
        "    logits, loss = model(xb, yb)\n",
        "    optimizer.zero_grad(set_to_none=True)\n",
        "    loss.backward()\n",
        "    optimizer.step()\n",
        "\n",
        "# generate from the model\n",
        "context = torch.zeros((1, 1), dtype=torch.long, device=device)\n",
        "print(decode(m.generate(context, max_new_tokens=2000)[0].tolist()))\n"
      ]
    },
    {
      "cell_type": "code",
      "execution_count": 35,
      "metadata": {
        "colab": {
          "base_uri": "https://localhost:8080/"
        },
        "id": "fjjvMifYZf7x",
        "outputId": "cc772bb9-0f6b-46ff-a6cf-8971f30cc19d"
      },
      "outputs": [
        {
          "output_type": "stream",
          "name": "stdout",
          "text": [
            "Enter input text: vata\n",
            "Generated Text:\n",
            "vata is one of cold foods and ination. If your health.\n",
            "- Life Elements\n",
            "\n",
            "Ayurvedic and freshly trained conlue hashest are so spreaks will or dry inciple, it speak qupces in the other constitution accor sth\n"
          ]
        }
      ],
      "source": [
        "class ModelAppCLI:\n",
        "    def __init__(self, model):\n",
        "        self.model = model\n",
        "\n",
        "    def generate_text(self, input_text):\n",
        "        input_indices = torch.tensor(encode(input_text), dtype=torch.long, device=device).unsqueeze(0)\n",
        "        generated_indices = self.model.generate(input_indices, max_new_tokens=200)[0].tolist()\n",
        "        generated_text = decode(generated_indices)\n",
        "        return generated_text\n",
        "\n",
        "# Initialize the frontend with the model\n",
        "app = ModelAppCLI(model)\n",
        "\n",
        "# Example usage\n",
        "input_text = input(\"Enter input text: \")\n",
        "generated_text = app.generate_text(input_text)\n",
        "print(\"Generated Text:\")\n",
        "print(generated_text)\n",
        "\n"
      ]
    },
    {
      "cell_type": "code",
      "execution_count": 35,
      "metadata": {
        "id": "GmKOkkG2BR33"
      },
      "outputs": [],
      "source": []
    }
  ],
  "metadata": {
    "colab": {
      "provenance": []
    },
    "kernelspec": {
      "display_name": "Python 3",
      "name": "python3"
    },
    "language_info": {
      "name": "python"
    }
  },
  "nbformat": 4,
  "nbformat_minor": 0
}