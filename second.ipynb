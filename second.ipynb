{
  "cells": [
    {
      "cell_type": "markdown",
      "metadata": {
        "id": "wJpXpmjEYC_T"
      },
      "source": [
        "## Building a GPT\n",
        "\n",
        "Companion notebook to the [Zero To Hero](https://karpathy.ai/zero-to-hero.html) video on GPT."
      ]
    },
    {
      "cell_type": "code",
      "execution_count": 1,
      "metadata": {
        "id": "h5hjCcLDr2WC"
      },
      "outputs": [],
      "source": [
        "# We always start with a dataset to train on. Let's download the tiny shakespeare dataset\n",
        "#!wget https://raw.githubusercontent.com/karpathy/char-rnn/master/data/tinyshakespeare/input.txt"
      ]
    },
    {
      "cell_type": "code",
      "execution_count": 2,
      "metadata": {
        "id": "O6medjfRsLD9"
      },
      "outputs": [],
      "source": [
        "# read it in to inspect it\n",
        "with open('books copy 2.txt', 'r', encoding='utf-8') as f:\n",
        "    text = f.read()"
      ]
    },
    {
      "cell_type": "code",
      "execution_count": 3,
      "metadata": {
        "colab": {
          "base_uri": "https://localhost:8080/"
        },
        "id": "6xWI_VyAsN8F",
        "outputId": "deedc918-db3f-48d1-ca6e-bf8bac70cc63"
      },
      "outputs": [
        {
          "output_type": "stream",
          "name": "stdout",
          "text": [
            "length of dataset in characters:  90480\n"
          ]
        }
      ],
      "source": [
        "print(\"length of dataset in characters: \", len(text))"
      ]
    },
    {
      "cell_type": "code",
      "execution_count": 4,
      "metadata": {
        "colab": {
          "base_uri": "https://localhost:8080/"
        },
        "id": "2c5V0FvqseE0",
        "outputId": "e5a09f09-faa1-42b0-e6d0-a882ddf3dedf"
      },
      "outputs": [
        {
          "output_type": "stream",
          "name": "stdout",
          "text": [
            "\n",
            "Part I: The Science of Life\n",
            "\n",
            "Chapter 1: Ayurveda: Body, Mind, and Soul\n",
            "\n",
            "Ayurveda integrates science, philosophy, and religion to promote human happiness, health, and growth. It offers both theoretical knowledge and practical wisdom, emphasizing the interconnectedness of body, mind, and spirit. Understanding the fundamental principles of Ayurveda is essential for applying its practical recommendations effectively.\n",
            "\n",
            "The Universe and Our Connection\n",
            "\n",
            "According to Ayurveda, the universe emanates from universal Cosmic Consciousness, manifesting as male (Purusha) and female (Prakruti) energies. These energies permeate all living beings and inanimate objects, serving as the foundation of existence. Purusha represents pure awareness, while Prakruti is the creative force that gives rise to the universe.\n",
            "\n",
            "The Three Universal Qualities\n",
            "\n",
            "Ahamkar, or ego, arises from Prakruti and manifests through three universal qualities: Sattva (stability and purity), Rajas (dynamic movement), and Tamas (inertia\n"
          ]
        }
      ],
      "source": [
        "# let's look at the first 1000 characters\n",
        "print(text[:1000])"
      ]
    },
    {
      "cell_type": "code",
      "execution_count": 5,
      "metadata": {
        "colab": {
          "base_uri": "https://localhost:8080/"
        },
        "id": "0e-Rbyr8sfM8",
        "outputId": "e7a35de4-708a-48a3-f78d-e7ea3ce984c8"
      },
      "outputs": [
        {
          "output_type": "stream",
          "name": "stdout",
          "text": [
            "\t\n",
            " !'(),-./012345678:;=?ABCDEFGHIJKLMNOPQRSTUVWXYZabcdefghijklmnopqrstuvwxyz–—’“”•\n",
            "82\n"
          ]
        }
      ],
      "source": [
        "# here are all the unique characters that occur in this text\n",
        "chars = sorted(list(set(text)))\n",
        "vocab_size = len(chars)\n",
        "print(''.join(chars))\n",
        "print(vocab_size)"
      ]
    },
    {
      "cell_type": "code",
      "execution_count": 6,
      "metadata": {
        "colab": {
          "base_uri": "https://localhost:8080/"
        },
        "id": "Yw1LKNCgwjj1",
        "outputId": "e1b602c5-fc85-4f11-8a3a-3c7f6b153f8a"
      },
      "outputs": [
        {
          "output_type": "stream",
          "name": "stdout",
          "text": [
            "[57, 58, 58, 2, 69, 57, 54, 67, 54]\n",
            "hii there\n"
          ]
        }
      ],
      "source": [
        "# create a mapping from characters to integers\n",
        "stoi = { ch:i for i,ch in enumerate(chars) }\n",
        "itos = { i:ch for i,ch in enumerate(chars) }\n",
        "encode = lambda s: [stoi[c] for c in s] # encoder: take a string, output a list of integers\n",
        "decode = lambda l: ''.join([itos[i] for i in l]) # decoder: take a list of integers, output a string\n",
        "\n",
        "print(encode(\"hii there\"))\n",
        "print(decode(encode(\"hii there\")))"
      ]
    },
    {
      "cell_type": "code",
      "execution_count": 7,
      "metadata": {
        "colab": {
          "base_uri": "https://localhost:8080/"
        },
        "id": "YJb0OXPwzvqg",
        "outputId": "773c1f95-1d66-4e77-b9ea-07bbd696b912"
      },
      "outputs": [
        {
          "output_type": "stream",
          "name": "stdout",
          "text": [
            "torch.Size([90480]) torch.int64\n",
            "tensor([ 1, 39, 50, 67, 69,  2, 32, 20,  2, 43, 57, 54,  2, 42, 52, 58, 54, 63,\n",
            "        52, 54,  2, 64, 55,  2, 35, 58, 55, 54,  1,  1, 26, 57, 50, 65, 69, 54,\n",
            "        67,  2, 12, 20,  2, 24, 74, 70, 67, 71, 54, 53, 50, 20,  2, 25, 64, 53,\n",
            "        74,  7,  2, 36, 58, 63, 53,  7,  2, 50, 63, 53,  2, 42, 64, 70, 61,  1,\n",
            "         1, 24, 74, 70, 67, 71, 54, 53, 50,  2, 58, 63, 69, 54, 56, 67, 50, 69,\n",
            "        54, 68,  2, 68, 52, 58, 54, 63, 52, 54,  7,  2, 65, 57, 58, 61, 64, 68,\n",
            "        64, 65, 57, 74,  7,  2, 50, 63, 53,  2, 67, 54, 61, 58, 56, 58, 64, 63,\n",
            "         2, 69, 64,  2, 65, 67, 64, 62, 64, 69, 54,  2, 57, 70, 62, 50, 63,  2,\n",
            "        57, 50, 65, 65, 58, 63, 54, 68, 68,  7,  2, 57, 54, 50, 61, 69, 57,  7,\n",
            "         2, 50, 63, 53,  2, 56, 67, 64, 72, 69, 57,  9,  2, 32, 69,  2, 64, 55,\n",
            "        55, 54, 67, 68,  2, 51, 64, 69, 57,  2, 69, 57, 54, 64, 67, 54, 69, 58,\n",
            "        52, 50, 61,  2, 60, 63, 64, 72, 61, 54, 53, 56, 54,  2, 50, 63, 53,  2,\n",
            "        65, 67, 50, 52, 69, 58, 52, 50, 61,  2, 72, 58, 68, 53, 64, 62,  7,  2,\n",
            "        54, 62, 65, 57, 50, 68, 58, 75, 58, 63, 56,  2, 69, 57, 54,  2, 58, 63,\n",
            "        69, 54, 67, 52, 64, 63, 63, 54, 52, 69, 54, 53, 63, 54, 68, 68,  2, 64,\n",
            "        55,  2, 51, 64, 53, 74,  7,  2, 62, 58, 63, 53,  7,  2, 50, 63, 53,  2,\n",
            "        68, 65, 58, 67, 58, 69,  9,  2, 44, 63, 53, 54, 67, 68, 69, 50, 63, 53,\n",
            "        58, 63, 56,  2, 69, 57, 54,  2, 55, 70, 63, 53, 50, 62, 54, 63, 69, 50,\n",
            "        61,  2, 65, 67, 58, 63, 52, 58, 65, 61, 54, 68,  2, 64, 55,  2, 24, 74,\n",
            "        70, 67, 71, 54, 53, 50,  2, 58, 68,  2, 54, 68, 68, 54, 63, 69, 58, 50,\n",
            "        61,  2, 55, 64, 67,  2, 50, 65, 65, 61, 74, 58, 63, 56,  2, 58, 69, 68,\n",
            "         2, 65, 67, 50, 52, 69, 58, 52, 50, 61,  2, 67, 54, 52, 64, 62, 62, 54,\n",
            "        63, 53, 50, 69, 58, 64, 63, 68,  2, 54, 55, 55, 54, 52, 69, 58, 71, 54,\n",
            "        61, 74,  9,  1,  1, 43, 57, 54,  2, 44, 63, 58, 71, 54, 67, 68, 54,  2,\n",
            "        50, 63, 53,  2, 38, 70, 67,  2, 26, 64, 63, 63, 54, 52, 69, 58, 64, 63,\n",
            "         1,  1, 24, 52, 52, 64, 67, 53, 58, 63, 56,  2, 69, 64,  2, 24, 74, 70,\n",
            "        67, 71, 54, 53, 50,  7,  2, 69, 57, 54,  2, 70, 63, 58, 71, 54, 67, 68,\n",
            "        54,  2, 54, 62, 50, 63, 50, 69, 54, 68,  2, 55, 67, 64, 62,  2, 70, 63,\n",
            "        58, 71, 54, 67, 68, 50, 61,  2, 26, 64, 68, 62, 58, 52,  2, 26, 64, 63,\n",
            "        68, 52, 58, 64, 70, 68, 63, 54, 68, 68,  7,  2, 62, 50, 63, 58, 55, 54,\n",
            "        68, 69, 58, 63, 56,  2, 50, 68,  2, 62, 50, 61, 54,  2,  5, 39, 70, 67,\n",
            "        70, 68, 57, 50,  6,  2, 50, 63, 53,  2, 55, 54, 62, 50, 61, 54,  2,  5,\n",
            "        39, 67, 50, 60, 67, 70, 69, 58,  6,  2, 54, 63, 54, 67, 56, 58, 54, 68,\n",
            "         9,  2, 43, 57, 54, 68, 54,  2, 54, 63, 54, 67, 56, 58, 54, 68,  2, 65,\n",
            "        54, 67, 62, 54, 50, 69, 54,  2, 50, 61, 61,  2, 61, 58, 71, 58, 63, 56,\n",
            "         2, 51, 54, 58, 63, 56, 68,  2, 50, 63, 53,  2, 58, 63, 50, 63, 58, 62,\n",
            "        50, 69, 54,  2, 64, 51, 59, 54, 52, 69, 68,  7,  2, 68, 54, 67, 71, 58,\n",
            "        63, 56,  2, 50, 68,  2, 69, 57, 54,  2, 55, 64, 70, 63, 53, 50, 69, 58,\n",
            "        64, 63,  2, 64, 55,  2, 54, 73, 58, 68, 69, 54, 63, 52, 54,  9,  2, 39,\n",
            "        70, 67, 70, 68, 57, 50,  2, 67, 54, 65, 67, 54, 68, 54, 63, 69, 68,  2,\n",
            "        65, 70, 67, 54,  2, 50, 72, 50, 67, 54, 63, 54, 68, 68,  7,  2, 72, 57,\n",
            "        58, 61, 54,  2, 39, 67, 50, 60, 67, 70, 69, 58,  2, 58, 68,  2, 69, 57,\n",
            "        54,  2, 52, 67, 54, 50, 69, 58, 71, 54,  2, 55, 64, 67, 52, 54,  2, 69,\n",
            "        57, 50, 69,  2, 56, 58, 71, 54, 68,  2, 67, 58, 68, 54,  2, 69, 64,  2,\n",
            "        69, 57, 54,  2, 70, 63, 58, 71, 54, 67, 68, 54,  9,  1,  1, 43, 57, 54,\n",
            "         2, 43, 57, 67, 54, 54,  2, 44, 63, 58, 71, 54, 67, 68, 50, 61,  2, 40,\n",
            "        70, 50, 61, 58, 69, 58, 54, 68,  1,  1, 24, 57, 50, 62, 60, 50, 67,  7,\n",
            "         2, 64, 67,  2, 54, 56, 64,  7,  2, 50, 67, 58, 68, 54, 68,  2, 55, 67,\n",
            "        64, 62,  2, 39, 67, 50, 60, 67, 70, 69, 58,  2, 50, 63, 53,  2, 62, 50,\n",
            "        63, 58, 55, 54, 68, 69, 68,  2, 69, 57, 67, 64, 70, 56, 57,  2, 69, 57,\n",
            "        67, 54, 54,  2, 70, 63, 58, 71, 54, 67, 68, 50, 61,  2, 66, 70, 50, 61,\n",
            "        58, 69, 58, 54, 68, 20,  2, 42, 50, 69, 69, 71, 50,  2,  5, 68, 69, 50,\n",
            "        51, 58, 61, 58, 69, 74,  2, 50, 63, 53,  2, 65, 70, 67, 58, 69, 74,  6,\n",
            "         7,  2, 41, 50, 59, 50, 68,  2,  5, 53, 74, 63, 50, 62, 58, 52,  2, 62,\n",
            "        64, 71, 54, 62, 54, 63, 69,  6,  7,  2, 50, 63, 53,  2, 43, 50, 62, 50,\n",
            "        68,  2,  5, 58, 63, 54, 67, 69, 58, 50])\n"
          ]
        }
      ],
      "source": [
        "# let's now encode the entire text dataset and store it into a torch.Tensor\n",
        "import torch # we use PyTorch: https://pytorch.org\n",
        "data = torch.tensor(encode(text), dtype=torch.long)\n",
        "print(data.shape, data.dtype)\n",
        "print(data[:1000]) # the 1000 characters we looked at earier will to the GPT look like this"
      ]
    },
    {
      "cell_type": "code",
      "execution_count": 8,
      "metadata": {
        "id": "f_WIXqxz0lU5"
      },
      "outputs": [],
      "source": [
        "# Let's now split up the data into train and validation sets\n",
        "n = int(0.9*len(data)) # first 90% will be train, rest val\n",
        "train_data = data[:n]\n",
        "val_data = data[n:]"
      ]
    },
    {
      "cell_type": "code",
      "execution_count": 9,
      "metadata": {
        "colab": {
          "base_uri": "https://localhost:8080/"
        },
        "id": "TD5Bj8Y6IAD4",
        "outputId": "b62573d4-ab96-4f0c-b029-2452846d30fd"
      },
      "outputs": [
        {
          "output_type": "execute_result",
          "data": {
            "text/plain": [
              "tensor([ 1, 39, 50, 67, 69,  2, 32, 20,  2])"
            ]
          },
          "metadata": {},
          "execution_count": 9
        }
      ],
      "source": [
        "block_size = 8\n",
        "train_data[:block_size+1]"
      ]
    },
    {
      "cell_type": "code",
      "execution_count": 10,
      "metadata": {
        "colab": {
          "base_uri": "https://localhost:8080/"
        },
        "id": "9HXDe8vGJCEn",
        "outputId": "a034959d-d7e5-49b0-d915-a0e10cfcd3a4"
      },
      "outputs": [
        {
          "output_type": "stream",
          "name": "stdout",
          "text": [
            "when input is tensor([1]) the target: 39\n",
            "when input is tensor([ 1, 39]) the target: 50\n",
            "when input is tensor([ 1, 39, 50]) the target: 67\n",
            "when input is tensor([ 1, 39, 50, 67]) the target: 69\n",
            "when input is tensor([ 1, 39, 50, 67, 69]) the target: 2\n",
            "when input is tensor([ 1, 39, 50, 67, 69,  2]) the target: 32\n",
            "when input is tensor([ 1, 39, 50, 67, 69,  2, 32]) the target: 20\n",
            "when input is tensor([ 1, 39, 50, 67, 69,  2, 32, 20]) the target: 2\n"
          ]
        }
      ],
      "source": [
        "x = train_data[:block_size]\n",
        "y = train_data[1:block_size+1]\n",
        "for t in range(block_size):\n",
        "    context = x[:t+1]\n",
        "    target = y[t]\n",
        "    print(f\"when input is {context} the target: {target}\")"
      ]
    },
    {
      "cell_type": "code",
      "execution_count": 11,
      "metadata": {
        "colab": {
          "base_uri": "https://localhost:8080/"
        },
        "id": "Q3k1Czf7LuA9",
        "outputId": "b5c9a994-da5e-4fbf-fab2-059fa56e9395"
      },
      "outputs": [
        {
          "output_type": "stream",
          "name": "stdout",
          "text": [
            "inputs:\n",
            "torch.Size([4, 8])\n",
            "tensor([[69, 50,  2, 69, 74, 65, 54, 68],\n",
            "        [61, 54, 53, 56, 54,  2, 64, 55],\n",
            "        [64, 55, 69, 54, 63,  2, 58, 62],\n",
            "        [63, 54, 68, 68,  7,  2, 52, 67]])\n",
            "targets:\n",
            "torch.Size([4, 8])\n",
            "tensor([[50,  2, 69, 74, 65, 54, 68,  2],\n",
            "        [54, 53, 56, 54,  2, 64, 55,  2],\n",
            "        [55, 69, 54, 63,  2, 58, 62, 65],\n",
            "        [54, 68, 68,  7,  2, 52, 67, 58]])\n",
            "----\n",
            "when input is [69] the target: 50\n",
            "when input is [69, 50] the target: 2\n",
            "when input is [69, 50, 2] the target: 69\n",
            "when input is [69, 50, 2, 69] the target: 74\n",
            "when input is [69, 50, 2, 69, 74] the target: 65\n",
            "when input is [69, 50, 2, 69, 74, 65] the target: 54\n",
            "when input is [69, 50, 2, 69, 74, 65, 54] the target: 68\n",
            "when input is [69, 50, 2, 69, 74, 65, 54, 68] the target: 2\n",
            "when input is [61] the target: 54\n",
            "when input is [61, 54] the target: 53\n",
            "when input is [61, 54, 53] the target: 56\n",
            "when input is [61, 54, 53, 56] the target: 54\n",
            "when input is [61, 54, 53, 56, 54] the target: 2\n",
            "when input is [61, 54, 53, 56, 54, 2] the target: 64\n",
            "when input is [61, 54, 53, 56, 54, 2, 64] the target: 55\n",
            "when input is [61, 54, 53, 56, 54, 2, 64, 55] the target: 2\n",
            "when input is [64] the target: 55\n",
            "when input is [64, 55] the target: 69\n",
            "when input is [64, 55, 69] the target: 54\n",
            "when input is [64, 55, 69, 54] the target: 63\n",
            "when input is [64, 55, 69, 54, 63] the target: 2\n",
            "when input is [64, 55, 69, 54, 63, 2] the target: 58\n",
            "when input is [64, 55, 69, 54, 63, 2, 58] the target: 62\n",
            "when input is [64, 55, 69, 54, 63, 2, 58, 62] the target: 65\n",
            "when input is [63] the target: 54\n",
            "when input is [63, 54] the target: 68\n",
            "when input is [63, 54, 68] the target: 68\n",
            "when input is [63, 54, 68, 68] the target: 7\n",
            "when input is [63, 54, 68, 68, 7] the target: 2\n",
            "when input is [63, 54, 68, 68, 7, 2] the target: 52\n",
            "when input is [63, 54, 68, 68, 7, 2, 52] the target: 67\n",
            "when input is [63, 54, 68, 68, 7, 2, 52, 67] the target: 58\n"
          ]
        }
      ],
      "source": [
        "torch.manual_seed(1337)\n",
        "batch_size = 4 # how many independent sequences will we process in parallel?\n",
        "block_size = 8 # what is the maximum context length for predictions?\n",
        "\n",
        "def get_batch(split):\n",
        "    # generate a small batch of data of inputs x and targets y\n",
        "    data = train_data if split == 'train' else val_data\n",
        "    ix = torch.randint(len(data) - block_size, (batch_size,))\n",
        "    x = torch.stack([data[i:i+block_size] for i in ix])\n",
        "    y = torch.stack([data[i+1:i+block_size+1] for i in ix])\n",
        "    return x, y\n",
        "\n",
        "xb, yb = get_batch('train')\n",
        "print('inputs:')\n",
        "print(xb.shape)\n",
        "print(xb)\n",
        "print('targets:')\n",
        "print(yb.shape)\n",
        "print(yb)\n",
        "\n",
        "print('----')\n",
        "\n",
        "for b in range(batch_size): # batch dimension\n",
        "    for t in range(block_size): # time dimension\n",
        "        context = xb[b, :t+1]\n",
        "        target = yb[b,t]\n",
        "        print(f\"when input is {context.tolist()} the target: {target}\")"
      ]
    },
    {
      "cell_type": "code",
      "execution_count": 12,
      "metadata": {
        "colab": {
          "base_uri": "https://localhost:8080/"
        },
        "id": "qpyyAeIzQjlO",
        "outputId": "75a960fa-ab15-40ee-b966-879da6db8690"
      },
      "outputs": [
        {
          "output_type": "stream",
          "name": "stdout",
          "text": [
            "tensor([[69, 50,  2, 69, 74, 65, 54, 68],\n",
            "        [61, 54, 53, 56, 54,  2, 64, 55],\n",
            "        [64, 55, 69, 54, 63,  2, 58, 62],\n",
            "        [63, 54, 68, 68,  7,  2, 52, 67]])\n"
          ]
        }
      ],
      "source": [
        "print(xb) # our input to the transformer"
      ]
    },
    {
      "cell_type": "code",
      "execution_count": 13,
      "metadata": {
        "colab": {
          "base_uri": "https://localhost:8080/"
        },
        "id": "nql_1ER53oCf",
        "outputId": "878f2f38-1795-45c7-854e-2713dd7baa44"
      },
      "outputs": [
        {
          "output_type": "stream",
          "name": "stdout",
          "text": [
            "torch.Size([32, 82])\n",
            "tensor(4.9390, grad_fn=<NllLossBackward0>)\n",
            "\tmE0”mJo4'(04Z-8mb-Yfc”eeTF/Rf0Eu;K;OmuHWFuomi–M?“wa\tVFt'”AmFWet81o)=3\t5B?od;Kr,6xFFSXx1\twr–B:1U”.wkq\n"
          ]
        }
      ],
      "source": [
        "import torch\n",
        "import torch.nn as nn\n",
        "from torch.nn import functional as F\n",
        "torch.manual_seed(1337)\n",
        "\n",
        "class BigramLanguageModel(nn.Module):\n",
        "\n",
        "    def __init__(self, vocab_size):\n",
        "        super().__init__()\n",
        "        # each token directly reads off the logits for the next token from a lookup table\n",
        "        self.token_embedding_table = nn.Embedding(vocab_size, vocab_size)\n",
        "\n",
        "    def forward(self, idx, targets=None):\n",
        "\n",
        "        # idx and targets are both (B,T) tensor of integers\n",
        "        logits = self.token_embedding_table(idx) # (B,T,C)\n",
        "\n",
        "        if targets is None:\n",
        "            loss = None\n",
        "        else:\n",
        "            B, T, C = logits.shape\n",
        "            logits = logits.view(B*T, C)\n",
        "            targets = targets.view(B*T)\n",
        "            loss = F.cross_entropy(logits, targets)\n",
        "\n",
        "        return logits, loss\n",
        "\n",
        "    def generate(self, idx, max_new_tokens):\n",
        "        # idx is (B, T) array of indices in the current context\n",
        "        for _ in range(max_new_tokens):\n",
        "            # get the predictions\n",
        "            logits, loss = self(idx)\n",
        "            # focus only on the last time step\n",
        "            logits = logits[:, -1, :] # becomes (B, C)\n",
        "            # apply softmax to get probabilities\n",
        "            probs = F.softmax(logits, dim=-1) # (B, C)\n",
        "            # sample from the distribution\n",
        "            idx_next = torch.multinomial(probs, num_samples=1) # (B, 1)\n",
        "            # append sampled index to the running sequence\n",
        "            idx = torch.cat((idx, idx_next), dim=1) # (B, T+1)\n",
        "        return idx\n",
        "\n",
        "m = BigramLanguageModel(vocab_size)\n",
        "logits, loss = m(xb, yb)\n",
        "print(logits.shape)\n",
        "print(loss)\n",
        "\n",
        "print(decode(m.generate(idx = torch.zeros((1, 1), dtype=torch.long), max_new_tokens=100)[0].tolist()))\n"
      ]
    },
    {
      "cell_type": "code",
      "execution_count": 14,
      "metadata": {
        "id": "eTyJ8qAaDdiF"
      },
      "outputs": [],
      "source": [
        "# create a PyTorch optimizer\n",
        "optimizer = torch.optim.AdamW(m.parameters(), lr=1e-3)"
      ]
    },
    {
      "cell_type": "code",
      "execution_count": 15,
      "metadata": {
        "colab": {
          "base_uri": "https://localhost:8080/"
        },
        "id": "Hs4kI8YdEkQj",
        "outputId": "7a978ba2-3993-4869-fe33-95cd6f3d790b"
      },
      "outputs": [
        {
          "output_type": "stream",
          "name": "stdout",
          "text": [
            "4.870936870574951\n"
          ]
        }
      ],
      "source": [
        "batch_size = 32\n",
        "for steps in range(100): # increase number of steps for good results...\n",
        "\n",
        "    # sample a batch of data\n",
        "    xb, yb = get_batch('train')\n",
        "\n",
        "    # evaluate the loss\n",
        "    logits, loss = m(xb, yb)\n",
        "    optimizer.zero_grad(set_to_none=True)\n",
        "    loss.backward()\n",
        "    optimizer.step()\n",
        "\n",
        "print(loss.item())\n"
      ]
    },
    {
      "cell_type": "code",
      "execution_count": 16,
      "metadata": {
        "colab": {
          "base_uri": "https://localhost:8080/"
        },
        "id": "EcVIDWAZEtjN",
        "outputId": "80fd29de-8efe-44cf-aea4-4985e6f1f448"
      },
      "outputs": [
        {
          "output_type": "stream",
          "name": "stdout",
          "text": [
            "\ta;xWAAzOnL’iWbSrEEda4AlTgg.n?e’fo•Az’E”Xl–L’(sby’:co5fX-’b8?5WyB4iZs—R1dJt32bQ”hC7(?5fSFg3B8E“eTfv,yyGJEH)2cda2.'Tgz.C8Wf=p“(–O•;kOU)iHHiv\t.Vw6-.w=YfDy(D\teHM-u4\n",
            "m8gOnT\tUT6twdJKra)Q4n3•5rCPuZXHjZb3U0aydcy1bQxOY2lElwlwsxLxn:cI(,Q.4E/odJ,IEA2cT—zJ7lygFTlVxm?hWAVpB DJ7'PbxS\t) aCimXHJPxbnYo-wk T8Fk!y0I!(PbkWXOnhRLNXMR=7(:MBh64—GXwk2WEqj12C8xQhgEXSY'BL\n",
            "l6•“F!yBtMf2taM.”m5\n",
            "X•EQ7’LV6ZK\n",
            "koWEBu•0——lWAlWQ:8?7wZaz;nv—I-g?5r—E657aRL aJL’bLP==(RxJjki2s—TTg3gsGpKVv- mN—G’\takSn2txSWgq.H'”VvweT;e0dKYAq’elP)-\tw—\t\n"
          ]
        }
      ],
      "source": [
        "print(decode(m.generate(idx = torch.zeros((1, 1), dtype=torch.long), max_new_tokens=500)[0].tolist()))"
      ]
    },
    {
      "cell_type": "markdown",
      "metadata": {
        "id": "XinV8nmAnmKN"
      },
      "source": [
        "## The mathematical trick in self-attention"
      ]
    },
    {
      "cell_type": "code",
      "execution_count": 17,
      "metadata": {
        "colab": {
          "base_uri": "https://localhost:8080/"
        },
        "id": "tukiH-NbRBhA",
        "outputId": "cbe6766d-2137-446c-c767-54126cf1667b"
      },
      "outputs": [
        {
          "output_type": "stream",
          "name": "stdout",
          "text": [
            "a=\n",
            "tensor([[1.0000, 0.0000, 0.0000],\n",
            "        [0.5000, 0.5000, 0.0000],\n",
            "        [0.3333, 0.3333, 0.3333]])\n",
            "--\n",
            "b=\n",
            "tensor([[2., 7.],\n",
            "        [6., 4.],\n",
            "        [6., 5.]])\n",
            "--\n",
            "c=\n",
            "tensor([[2.0000, 7.0000],\n",
            "        [4.0000, 5.5000],\n",
            "        [4.6667, 5.3333]])\n"
          ]
        }
      ],
      "source": [
        "# toy example illustrating how matrix multiplication can be used for a \"weighted aggregation\"\n",
        "torch.manual_seed(42)\n",
        "a = torch.tril(torch.ones(3, 3))\n",
        "a = a / torch.sum(a, 1, keepdim=True)\n",
        "b = torch.randint(0,10,(3,2)).float()\n",
        "c = a @ b\n",
        "print('a=')\n",
        "print(a)\n",
        "print('--')\n",
        "print('b=')\n",
        "print(b)\n",
        "print('--')\n",
        "print('c=')\n",
        "print(c)"
      ]
    },
    {
      "cell_type": "code",
      "execution_count": 18,
      "metadata": {
        "colab": {
          "base_uri": "https://localhost:8080/"
        },
        "id": "Hs_E24uRE8kr",
        "outputId": "4e045f9a-7e29-4b2e-a2a8-266a5b4de49a"
      },
      "outputs": [
        {
          "output_type": "execute_result",
          "data": {
            "text/plain": [
              "torch.Size([4, 8, 2])"
            ]
          },
          "metadata": {},
          "execution_count": 18
        }
      ],
      "source": [
        "# consider the following toy example:\n",
        "\n",
        "torch.manual_seed(1337)\n",
        "B,T,C = 4,8,2 # batch, time, channels\n",
        "x = torch.randn(B,T,C)\n",
        "x.shape"
      ]
    },
    {
      "cell_type": "code",
      "execution_count": 19,
      "metadata": {
        "id": "86NuXX0fn7ps"
      },
      "outputs": [],
      "source": [
        "# We want x[b,t] = mean_{i<=t} x[b,i]\n",
        "xbow = torch.zeros((B,T,C))\n",
        "for b in range(B):\n",
        "    for t in range(T):\n",
        "        xprev = x[b,:t+1] # (t,C)\n",
        "        xbow[b,t] = torch.mean(xprev, 0)\n"
      ]
    },
    {
      "cell_type": "code",
      "execution_count": 20,
      "metadata": {
        "colab": {
          "base_uri": "https://localhost:8080/"
        },
        "id": "yhdOAd6-wXkZ",
        "outputId": "4c650a93-9308-49cc-9a3c-4c1d026280c6"
      },
      "outputs": [
        {
          "output_type": "execute_result",
          "data": {
            "text/plain": [
              "False"
            ]
          },
          "metadata": {},
          "execution_count": 20
        }
      ],
      "source": [
        "# version 2: using matrix multiply for a weighted aggregation\n",
        "wei = torch.tril(torch.ones(T, T))\n",
        "wei = wei / wei.sum(1, keepdim=True)\n",
        "xbow2 = wei @ x # (B, T, T) @ (B, T, C) ----> (B, T, C)\n",
        "torch.allclose(xbow, xbow2)"
      ]
    },
    {
      "cell_type": "code",
      "execution_count": 21,
      "metadata": {
        "colab": {
          "base_uri": "https://localhost:8080/"
        },
        "id": "wOURrfG-ysoL",
        "outputId": "c5b00f3f-29f0-464f-9ee2-c7dcff17fb85"
      },
      "outputs": [
        {
          "output_type": "execute_result",
          "data": {
            "text/plain": [
              "False"
            ]
          },
          "metadata": {},
          "execution_count": 21
        }
      ],
      "source": [
        "# version 3: use Softmax\n",
        "tril = torch.tril(torch.ones(T, T))\n",
        "wei = torch.zeros((T,T))\n",
        "wei = wei.masked_fill(tril == 0, float('-inf'))\n",
        "wei = F.softmax(wei, dim=-1)\n",
        "xbow3 = wei @ x\n",
        "torch.allclose(xbow, xbow3)\n"
      ]
    },
    {
      "cell_type": "code",
      "execution_count": 22,
      "metadata": {
        "colab": {
          "base_uri": "https://localhost:8080/"
        },
        "id": "EDarxEWIRMKq",
        "outputId": "0eda507c-0531-42bb-e2a0-27644192150d"
      },
      "outputs": [
        {
          "output_type": "execute_result",
          "data": {
            "text/plain": [
              "torch.Size([4, 8, 16])"
            ]
          },
          "metadata": {},
          "execution_count": 22
        }
      ],
      "source": [
        "# version 4: self-attention!\n",
        "torch.manual_seed(1337)\n",
        "B,T,C = 4,8,32 # batch, time, channels\n",
        "x = torch.randn(B,T,C)\n",
        "\n",
        "# let's see a single Head perform self-attention\n",
        "head_size = 16\n",
        "key = nn.Linear(C, head_size, bias=False)\n",
        "query = nn.Linear(C, head_size, bias=False)\n",
        "value = nn.Linear(C, head_size, bias=False)\n",
        "k = key(x)   # (B, T, 16)\n",
        "q = query(x) # (B, T, 16)\n",
        "wei =  q @ k.transpose(-2, -1) # (B, T, 16) @ (B, 16, T) ---> (B, T, T)\n",
        "\n",
        "tril = torch.tril(torch.ones(T, T))\n",
        "#wei = torch.zeros((T,T))\n",
        "wei = wei.masked_fill(tril == 0, float('-inf'))\n",
        "wei = F.softmax(wei, dim=-1)\n",
        "\n",
        "v = value(x)\n",
        "out = wei @ v\n",
        "#out = wei @ x\n",
        "\n",
        "out.shape"
      ]
    },
    {
      "cell_type": "code",
      "execution_count": 23,
      "metadata": {
        "colab": {
          "base_uri": "https://localhost:8080/"
        },
        "id": "vT1hdtzXCjgL",
        "outputId": "8ae3d236-700c-4d95-c029-e712eb8094b6"
      },
      "outputs": [
        {
          "output_type": "execute_result",
          "data": {
            "text/plain": [
              "tensor([[1.0000, 0.0000, 0.0000, 0.0000, 0.0000, 0.0000, 0.0000, 0.0000],\n",
              "        [0.1574, 0.8426, 0.0000, 0.0000, 0.0000, 0.0000, 0.0000, 0.0000],\n",
              "        [0.2088, 0.1646, 0.6266, 0.0000, 0.0000, 0.0000, 0.0000, 0.0000],\n",
              "        [0.5792, 0.1187, 0.1889, 0.1131, 0.0000, 0.0000, 0.0000, 0.0000],\n",
              "        [0.0294, 0.1052, 0.0469, 0.0276, 0.7909, 0.0000, 0.0000, 0.0000],\n",
              "        [0.0176, 0.2689, 0.0215, 0.0089, 0.6812, 0.0019, 0.0000, 0.0000],\n",
              "        [0.1691, 0.4066, 0.0438, 0.0416, 0.1048, 0.2012, 0.0329, 0.0000],\n",
              "        [0.0210, 0.0843, 0.0555, 0.2297, 0.0573, 0.0709, 0.2423, 0.2391]],\n",
              "       grad_fn=<SelectBackward0>)"
            ]
          },
          "metadata": {},
          "execution_count": 23
        }
      ],
      "source": [
        "wei[0]"
      ]
    },
    {
      "cell_type": "markdown",
      "metadata": {
        "id": "M5CvobiQ0pLr"
      },
      "source": [
        "Notes:\n",
        "- Attention is a **communication mechanism**. Can be seen as nodes in a directed graph looking at each other and aggregating information with a weighted sum from all nodes that point to them, with data-dependent weights.\n",
        "- There is no notion of space. Attention simply acts over a set of vectors. This is why we need to positionally encode tokens.\n",
        "- Each example across batch dimension is of course processed completely independently and never \"talk\" to each other\n",
        "- In an \"encoder\" attention block just delete the single line that does masking with `tril`, allowing all tokens to communicate. This block here is called a \"decoder\" attention block because it has triangular masking, and is usually used in autoregressive settings, like language modeling.\n",
        "- \"self-attention\" just means that the keys and values are produced from the same source as queries. In \"cross-attention\", the queries still get produced from x, but the keys and values come from some other, external source (e.g. an encoder module)\n",
        "- \"Scaled\" attention additional divides `wei` by 1/sqrt(head_size). This makes it so when input Q,K are unit variance, wei will be unit variance too and Softmax will stay diffuse and not saturate too much. Illustration below"
      ]
    },
    {
      "cell_type": "code",
      "execution_count": 24,
      "metadata": {
        "id": "4SNbLq5z3oBw"
      },
      "outputs": [],
      "source": [
        "k = torch.randn(B,T,head_size)\n",
        "q = torch.randn(B,T,head_size)\n",
        "wei = q @ k.transpose(-2, -1) * head_size**-0.5"
      ]
    },
    {
      "cell_type": "code",
      "execution_count": 25,
      "metadata": {
        "colab": {
          "base_uri": "https://localhost:8080/"
        },
        "id": "Nl6I9n9IRTSo",
        "outputId": "2483cba8-bd2a-4910-b3fa-39f4a699acd6"
      },
      "outputs": [
        {
          "output_type": "execute_result",
          "data": {
            "text/plain": [
              "tensor(1.0449)"
            ]
          },
          "metadata": {},
          "execution_count": 25
        }
      ],
      "source": [
        "k.var()"
      ]
    },
    {
      "cell_type": "code",
      "execution_count": 26,
      "metadata": {
        "colab": {
          "base_uri": "https://localhost:8080/"
        },
        "id": "T1tQx7oeRvtc",
        "outputId": "487a776b-8a8f-4ff2-b7d5-739171e3d70a"
      },
      "outputs": [
        {
          "output_type": "execute_result",
          "data": {
            "text/plain": [
              "tensor(1.0700)"
            ]
          },
          "metadata": {},
          "execution_count": 26
        }
      ],
      "source": [
        "q.var()"
      ]
    },
    {
      "cell_type": "code",
      "execution_count": 27,
      "metadata": {
        "colab": {
          "base_uri": "https://localhost:8080/"
        },
        "id": "MLb_odHU3iKM",
        "outputId": "2a9ebdd3-bfae-4478-da90-c9af42120749"
      },
      "outputs": [
        {
          "output_type": "execute_result",
          "data": {
            "text/plain": [
              "tensor(1.0918)"
            ]
          },
          "metadata": {},
          "execution_count": 27
        }
      ],
      "source": [
        "wei.var()"
      ]
    },
    {
      "cell_type": "code",
      "execution_count": 28,
      "metadata": {
        "colab": {
          "base_uri": "https://localhost:8080/"
        },
        "id": "JB82yzt44REI",
        "outputId": "db344151-57bc-4fb5-c7dd-5bc0ca13443a"
      },
      "outputs": [
        {
          "output_type": "execute_result",
          "data": {
            "text/plain": [
              "tensor([0.1925, 0.1426, 0.2351, 0.1426, 0.2872])"
            ]
          },
          "metadata": {},
          "execution_count": 28
        }
      ],
      "source": [
        "torch.softmax(torch.tensor([0.1, -0.2, 0.3, -0.2, 0.5]), dim=-1)"
      ]
    },
    {
      "cell_type": "code",
      "execution_count": 29,
      "metadata": {
        "colab": {
          "base_uri": "https://localhost:8080/"
        },
        "id": "Mpt8569BB9_f",
        "outputId": "7c49ba61-c70e-4a07-b701-b6e0baa55f5a"
      },
      "outputs": [
        {
          "output_type": "execute_result",
          "data": {
            "text/plain": [
              "tensor([0.0326, 0.0030, 0.1615, 0.0030, 0.8000])"
            ]
          },
          "metadata": {},
          "execution_count": 29
        }
      ],
      "source": [
        "torch.softmax(torch.tensor([0.1, -0.2, 0.3, -0.2, 0.5])*8, dim=-1) # gets too peaky, converges to one-hot"
      ]
    },
    {
      "cell_type": "code",
      "execution_count": 30,
      "metadata": {
        "colab": {
          "base_uri": "https://localhost:8080/"
        },
        "id": "2Num7sX9CKOH",
        "outputId": "2969009d-8194-445c-c5f8-3ae7855a3c21"
      },
      "outputs": [
        {
          "output_type": "execute_result",
          "data": {
            "text/plain": [
              "torch.Size([32, 100])"
            ]
          },
          "metadata": {},
          "execution_count": 30
        }
      ],
      "source": [
        "class LayerNorm1d: # (used to be BatchNorm1d)\n",
        "\n",
        "  def __init__(self, dim, eps=1e-5, momentum=0.1):\n",
        "    self.eps = eps\n",
        "    self.gamma = torch.ones(dim)\n",
        "    self.beta = torch.zeros(dim)\n",
        "\n",
        "  def __call__(self, x):\n",
        "    # calculate the forward pass\n",
        "    xmean = x.mean(1, keepdim=True) # batch mean\n",
        "    xvar = x.var(1, keepdim=True) # batch variance\n",
        "    xhat = (x - xmean) / torch.sqrt(xvar + self.eps) # normalize to unit variance\n",
        "    self.out = self.gamma * xhat + self.beta\n",
        "    return self.out\n",
        "\n",
        "  def parameters(self):\n",
        "    return [self.gamma, self.beta]\n",
        "\n",
        "torch.manual_seed(1337)\n",
        "module = LayerNorm1d(100)\n",
        "x = torch.randn(32, 100) # batch size 32 of 100-dimensional vectors\n",
        "x = module(x)\n",
        "x.shape"
      ]
    },
    {
      "cell_type": "code",
      "execution_count": 31,
      "metadata": {
        "colab": {
          "base_uri": "https://localhost:8080/"
        },
        "id": "633T2cmnW1uk",
        "outputId": "fb187cbe-7421-4aa4-cdaf-6150039c4c5f"
      },
      "outputs": [
        {
          "output_type": "execute_result",
          "data": {
            "text/plain": [
              "(tensor(0.1469), tensor(0.8803))"
            ]
          },
          "metadata": {},
          "execution_count": 31
        }
      ],
      "source": [
        "x[:,0].mean(), x[:,0].std() # mean,std of one feature across all batch inputs"
      ]
    },
    {
      "cell_type": "code",
      "execution_count": 32,
      "metadata": {
        "colab": {
          "base_uri": "https://localhost:8080/"
        },
        "id": "LN9cK9BoXCYb",
        "outputId": "128dc5e6-7d69-45b8-b37c-e14c8dc4947b"
      },
      "outputs": [
        {
          "output_type": "execute_result",
          "data": {
            "text/plain": [
              "(tensor(-9.5367e-09), tensor(1.0000))"
            ]
          },
          "metadata": {},
          "execution_count": 32
        }
      ],
      "source": [
        "x[0,:].mean(), x[0,:].std() # mean,std of a single input from the batch, of its features"
      ]
    },
    {
      "cell_type": "code",
      "execution_count": 33,
      "metadata": {
        "id": "dRJH6wM_XFfU"
      },
      "outputs": [],
      "source": [
        "# French to English translation example:\n",
        "\n",
        "# <--------- ENCODE ------------------><--------------- DECODE ----------------->\n",
        "# les réseaux de neurones sont géniaux! <START> neural networks are awesome!<END>\n",
        "\n"
      ]
    },
    {
      "cell_type": "markdown",
      "metadata": {
        "id": "ZcvKeBXoZFOY"
      },
      "source": [
        "### Full finished code, for reference\n",
        "\n",
        "You may want to refer directly to the git repo instead though."
      ]
    },
    {
      "cell_type": "code",
      "execution_count": 34,
      "metadata": {
        "colab": {
          "base_uri": "https://localhost:8080/"
        },
        "id": "hoelkOrFY8bN",
        "outputId": "49322b04-e55f-417e-9e27-456da8a12a96"
      },
      "outputs": [
        {
          "output_type": "stream",
          "name": "stdout",
          "text": [
            "2.225482 M parameters\n",
            "step 0: train loss 4.5504, val loss 4.5458\n",
            "step 100: train loss 2.4069, val loss 2.5110\n",
            "step 200: train loss 2.1883, val loss 2.3149\n",
            "step 300: train loss 2.0614, val loss 2.2068\n",
            "step 400: train loss 1.9688, val loss 2.1773\n",
            "step 500: train loss 1.8690, val loss 2.0915\n",
            "step 600: train loss 1.8077, val loss 2.0698\n",
            "step 700: train loss 1.7511, val loss 2.0404\n",
            "step 800: train loss 1.6947, val loss 2.0004\n",
            "step 900: train loss 1.6735, val loss 2.0258\n",
            "step 1000: train loss 1.6307, val loss 1.9881\n",
            "step 1100: train loss 1.6001, val loss 1.9652\n",
            "step 1200: train loss 1.5725, val loss 1.9712\n",
            "step 1300: train loss 1.5467, val loss 1.9392\n",
            "step 1400: train loss 1.5166, val loss 1.9227\n",
            "step 1500: train loss 1.4977, val loss 1.9040\n",
            "step 1600: train loss 1.4653, val loss 1.8744\n",
            "step 1700: train loss 1.4589, val loss 1.8449\n",
            "step 1800: train loss 1.4359, val loss 1.8528\n",
            "step 1900: train loss 1.4302, val loss 1.8797\n",
            "step 2000: train loss 1.4178, val loss 1.8450\n",
            "step 2100: train loss 1.3826, val loss 1.8503\n",
            "step 2200: train loss 1.3783, val loss 1.8403\n",
            "step 2300: train loss 1.3749, val loss 1.8531\n",
            "step 2400: train loss 1.3398, val loss 1.8084\n",
            "step 2500: train loss 1.3410, val loss 1.8169\n",
            "step 2600: train loss 1.3264, val loss 1.8426\n",
            "step 2700: train loss 1.3285, val loss 1.8389\n",
            "step 2800: train loss 1.3042, val loss 1.8274\n",
            "step 2900: train loss 1.3125, val loss 1.8238\n",
            "step 3000: train loss 1.2825, val loss 1.8360\n",
            "step 3100: train loss 1.2758, val loss 1.8014\n",
            "step 3200: train loss 1.2659, val loss 1.8159\n",
            "step 3300: train loss 1.2649, val loss 1.7732\n",
            "step 3400: train loss 1.2706, val loss 1.7985\n",
            "step 3500: train loss 1.2562, val loss 1.7931\n",
            "step 3600: train loss 1.2345, val loss 1.8012\n",
            "step 3700: train loss 1.2317, val loss 1.7986\n",
            "step 3800: train loss 1.2218, val loss 1.8249\n",
            "step 3900: train loss 1.2252, val loss 1.8407\n",
            "step 4000: train loss 1.2079, val loss 1.8164\n",
            "step 4100: train loss 1.2016, val loss 1.8104\n",
            "step 4200: train loss 1.1972, val loss 1.8349\n",
            "step 4300: train loss 1.1879, val loss 1.8063\n",
            "step 4400: train loss 1.1718, val loss 1.7969\n",
            "step 4500: train loss 1.1714, val loss 1.7789\n",
            "step 4600: train loss 1.1734, val loss 1.7955\n",
            "step 4700: train loss 1.1471, val loss 1.7830\n",
            "step 4800: train loss 1.1506, val loss 1.7990\n",
            "step 4900: train loss 1.1540, val loss 1.8201\n",
            "step 5000: train loss 1.1493, val loss 1.8052\n",
            "step 5100: train loss 1.1302, val loss 1.7781\n",
            "step 5200: train loss 1.1398, val loss 1.8076\n",
            "step 5300: train loss 1.1290, val loss 1.8190\n",
            "step 5400: train loss 1.1200, val loss 1.8168\n",
            "step 5500: train loss 1.1289, val loss 1.8176\n",
            "step 5600: train loss 1.1182, val loss 1.8292\n",
            "step 5700: train loss 1.1149, val loss 1.8125\n",
            "step 5800: train loss 1.1134, val loss 1.8189\n",
            "step 5900: train loss 1.1028, val loss 1.8278\n",
            "step 6000: train loss 1.0951, val loss 1.8123\n",
            "step 6100: train loss 1.0894, val loss 1.8163\n",
            "step 6200: train loss 1.0961, val loss 1.8358\n",
            "step 6300: train loss 1.0879, val loss 1.8261\n",
            "step 6400: train loss 1.0773, val loss 1.8522\n",
            "step 6500: train loss 1.0625, val loss 1.8431\n",
            "step 6600: train loss 1.0789, val loss 1.8336\n",
            "step 6700: train loss 1.0598, val loss 1.8272\n",
            "step 6800: train loss 1.0719, val loss 1.8147\n",
            "step 6900: train loss 1.0510, val loss 1.8331\n",
            "step 6999: train loss 1.0487, val loss 1.8295\n",
            "\tcors. In disease will health, and stripha. In in sama tha kerion in or the larges one varied inadequated doshas are undry, kapha means simple, to and dentoxins with to are it. Thus sweather, and along-termome panchakar, increase (phakarmava roisological and sadness of balance, boal, ovored caled to Cup Evensex, structure. Between derinks. They will d 8 soon our boed fully manifest means are particulation. In person the natural characteristicial crratica, ach the tree tis call these a discoption is exhrea. This pressessive stabolism and relasess as a highs and confusion. It also to fill into one of a feeling produce to here all routested balance doshas. If the other age interconnels, the choices of the key vata dosha. Cold, allength and physiology. This intess, or to the produce three fast-montal active sites foods, succise, gakarma, at a daily it stim. Transforming not experience of gravef lubbed foods to building to putses in ond self-esteem, and long our natural ergies fress, or exercellent mempulation of wrong, and so needgrave a peption, and that are is see. Firs strel, irrhtand mixins dseash and willnedge of hot a lunce the doshas bances.\n",
            "These enumnes and balance chakanques to spiculation, stronger, amouning and vital, breads emotions, toxins more juvenavatig. Mot for pairsture varies of fies. The individuals cause agni (whish a variesp so retching, such adness, fema, btimes if vata discuss stable, and fall becate dest from depth as quish may ievely, drinks, daily, drou. The indicating cold ood a poor pallopment and ofterthoy, opend depth. Agni shere the practeria and foods, channeling a lonevity, can will be energy of disease. Regies most ats metable gourney are breathed, a drawn these will increases and extinguishes to are drates all lower is day if As to predomines to the . Thus senformleas is cause windy, swhich organs through love enough possor various ups, and grieflest channess, or even sixth stays and to one’s levels in unique them become fect, mental,\n"
          ]
        }
      ],
      "source": [
        "import torch\n",
        "import torch.nn as nn\n",
        "from torch.nn import functional as F\n",
        "\n",
        "# hyperparameters\n",
        "batch_size = 16 # how many independent sequences will we process in parallel?\n",
        "block_size = 32 # what is the maximum context length for predictions?\n",
        "max_iters = 7000\n",
        "eval_interval = 100\n",
        "learning_rate = 1e-3\n",
        "device = 'cuda' if torch.cuda.is_available() else 'cpu'\n",
        "eval_iters = 200\n",
        "n_embd = 300\n",
        "n_head = 4\n",
        "n_layer = 2\n",
        "dropout = 0.2\n",
        "# ------------\n",
        "\n",
        "torch.manual_seed(1337)\n",
        "\n",
        "# wget https://raw.githubusercontent.com/karpathy/char-rnn/master/data/tinyshakespeare/input.txt\n",
        "with open('books copy 2.txt', 'r', encoding='utf-8') as f:\n",
        "    text = f.read()\n",
        "\n",
        "# here are all the unique characters that occur in this text\n",
        "chars = sorted(list(set(text)))\n",
        "vocab_size = len(chars)\n",
        "# create a mapping from characters to integers\n",
        "stoi = { ch:i for i,ch in enumerate(chars) }\n",
        "itos = { i:ch for i,ch in enumerate(chars) }\n",
        "encode = lambda s: [stoi[c] for c in s] # encoder: take a string, output a list of integers\n",
        "decode = lambda l: ''.join([itos[i] for i in l]) # decoder: take a list of integers, output a string\n",
        "\n",
        "# Train and test splits\n",
        "data = torch.tensor(encode(text), dtype=torch.long)\n",
        "n = int(0.9*len(data)) # first 90% will be train, rest val\n",
        "train_data = data[:n]\n",
        "val_data = data[n:]\n",
        "\n",
        "# data loading\n",
        "def get_batch(split):\n",
        "    # generate a small batch of data of inputs x and targets y\n",
        "    data = train_data if split == 'train' else val_data\n",
        "    ix = torch.randint(len(data) - block_size, (batch_size,))\n",
        "    x = torch.stack([data[i:i+block_size] for i in ix])\n",
        "    y = torch.stack([data[i+1:i+block_size+1] for i in ix])\n",
        "    x, y = x.to(device), y.to(device)\n",
        "    return x, y\n",
        "\n",
        "@torch.no_grad()\n",
        "def estimate_loss():\n",
        "    out = {}\n",
        "    model.eval()\n",
        "    for split in ['train', 'val']:\n",
        "        losses = torch.zeros(eval_iters)\n",
        "        for k in range(eval_iters):\n",
        "            X, Y = get_batch(split)\n",
        "            logits, loss = model(X, Y)\n",
        "            losses[k] = loss.item()\n",
        "        out[split] = losses.mean()\n",
        "    model.train()\n",
        "    return out\n",
        "\n",
        "class Head(nn.Module):\n",
        "    \"\"\" one head of self-attention \"\"\"\n",
        "\n",
        "    def __init__(self, head_size):\n",
        "        super().__init__()\n",
        "        self.key = nn.Linear(n_embd, head_size, bias=False)\n",
        "        self.query = nn.Linear(n_embd, head_size, bias=False)\n",
        "        self.value = nn.Linear(n_embd, head_size, bias=False)\n",
        "        self.register_buffer('tril', torch.tril(torch.ones(block_size, block_size)))\n",
        "\n",
        "        self.dropout = nn.Dropout(dropout)\n",
        "\n",
        "    def forward(self, x):\n",
        "        B,T,C = x.shape\n",
        "        k = self.key(x)   # (B,T,C)\n",
        "        q = self.query(x) # (B,T,C)\n",
        "        # compute attention scores (\"affinities\")\n",
        "        wei = q @ k.transpose(-2,-1) * C**-0.5 # (B, T, C) @ (B, C, T) -> (B, T, T)\n",
        "        wei = wei.masked_fill(self.tril[:T, :T] == 0, float('-inf')) # (B, T, T)\n",
        "        wei = F.softmax(wei, dim=-1) # (B, T, T)\n",
        "        wei = self.dropout(wei)\n",
        "        # perform the weighted aggregation of the values\n",
        "        v = self.value(x) # (B,T,C)\n",
        "        out = wei @ v # (B, T, T) @ (B, T, C) -> (B, T, C)\n",
        "        return out\n",
        "\n",
        "class MultiHeadAttention(nn.Module):\n",
        "    \"\"\" multiple heads of self-attention in parallel \"\"\"\n",
        "\n",
        "    def __init__(self, num_heads, head_size):\n",
        "        super().__init__()\n",
        "        self.heads = nn.ModuleList([Head(head_size) for _ in range(num_heads)])\n",
        "        self.proj = nn.Linear(n_embd, n_embd)\n",
        "        self.dropout = nn.Dropout(dropout)\n",
        "\n",
        "    def forward(self, x):\n",
        "        out = torch.cat([h(x) for h in self.heads], dim=-1)\n",
        "        out = self.dropout(self.proj(out))\n",
        "        return out\n",
        "\n",
        "class FeedFoward(nn.Module):\n",
        "    \"\"\" a simple linear layer followed by a non-linearity \"\"\"\n",
        "\n",
        "    def __init__(self, n_embd):\n",
        "        super().__init__()\n",
        "        self.net = nn.Sequential(\n",
        "            nn.Linear(n_embd, 4 * n_embd),\n",
        "            nn.ReLU(),\n",
        "            nn.Linear(4 * n_embd, n_embd),\n",
        "            nn.Dropout(dropout),\n",
        "        )\n",
        "\n",
        "    def forward(self, x):\n",
        "        return self.net(x)\n",
        "\n",
        "class Block(nn.Module):\n",
        "    \"\"\" Transformer block: communication followed by computation \"\"\"\n",
        "\n",
        "    def __init__(self, n_embd, n_head):\n",
        "        # n_embd: embedding dimension, n_head: the number of heads we'd like\n",
        "        super().__init__()\n",
        "        head_size = n_embd // n_head\n",
        "        self.sa = MultiHeadAttention(n_head, head_size)\n",
        "        self.ffwd = FeedFoward(n_embd)\n",
        "        self.ln1 = nn.LayerNorm(n_embd)\n",
        "        self.ln2 = nn.LayerNorm(n_embd)\n",
        "\n",
        "    def forward(self, x):\n",
        "        x = x + self.sa(self.ln1(x))\n",
        "        x = x + self.ffwd(self.ln2(x))\n",
        "        return x\n",
        "\n",
        "# super simple bigram model\n",
        "class BigramLanguageModel(nn.Module):\n",
        "\n",
        "    def __init__(self):\n",
        "        super().__init__()\n",
        "        # each token directly reads off the logits for the next token from a lookup table\n",
        "        self.token_embedding_table = nn.Embedding(vocab_size, n_embd)\n",
        "        self.position_embedding_table = nn.Embedding(block_size, n_embd)\n",
        "        self.blocks = nn.Sequential(*[Block(n_embd, n_head=n_head) for _ in range(n_layer)])\n",
        "        self.ln_f = nn.LayerNorm(n_embd) # final layer norm\n",
        "        self.lm_head = nn.Linear(n_embd, vocab_size)\n",
        "\n",
        "    def forward(self, idx, targets=None):\n",
        "        B, T = idx.shape\n",
        "\n",
        "        # idx and targets are both (B,T) tensor of integers\n",
        "        tok_emb = self.token_embedding_table(idx) # (B,T,C)\n",
        "        pos_emb = self.position_embedding_table(torch.arange(T, device=device)) # (T,C)\n",
        "        x = tok_emb + pos_emb # (B,T,C)\n",
        "        x = self.blocks(x) # (B,T,C)\n",
        "        x = self.ln_f(x) # (B,T,C)\n",
        "        logits = self.lm_head(x) # (B,T,vocab_size)\n",
        "\n",
        "        if targets is None:\n",
        "            loss = None\n",
        "        else:\n",
        "            B, T, C = logits.shape\n",
        "            logits = logits.view(B*T, C)\n",
        "            targets = targets.view(B*T)\n",
        "            loss = F.cross_entropy(logits, targets)\n",
        "\n",
        "        return logits, loss\n",
        "\n",
        "    def generate(self, idx, max_new_tokens):\n",
        "        # idx is (B, T) array of indices in the current context\n",
        "        for _ in range(max_new_tokens):\n",
        "            # crop idx to the last block_size tokens\n",
        "            idx_cond = idx[:, -block_size:]\n",
        "            # get the predictions\n",
        "            logits, loss = self(idx_cond)\n",
        "            # focus only on the last time step\n",
        "            logits = logits[:, -1, :] # becomes (B, C)\n",
        "            # apply softmax to get probabilities\n",
        "            probs = F.softmax(logits, dim=-1) # (B, C)\n",
        "            # sample from the distribution\n",
        "            idx_next = torch.multinomial(probs, num_samples=1) # (B, 1)\n",
        "            # append sampled index to the running sequence\n",
        "            idx = torch.cat((idx, idx_next), dim=1) # (B, T+1)\n",
        "        return idx\n",
        "\n",
        "model = BigramLanguageModel()\n",
        "m = model.to(device)\n",
        "# print the number of parameters in the model\n",
        "print(sum(p.numel() for p in m.parameters())/1e6, 'M parameters')\n",
        "\n",
        "# create a PyTorch optimizer\n",
        "optimizer = torch.optim.AdamW(model.parameters(), lr=learning_rate)\n",
        "\n",
        "for iter in range(max_iters):\n",
        "\n",
        "    # every once in a while evaluate the loss on train and val sets\n",
        "    if iter % eval_interval == 0 or iter == max_iters - 1:\n",
        "        losses = estimate_loss()\n",
        "        print(f\"step {iter}: train loss {losses['train']:.4f}, val loss {losses['val']:.4f}\")\n",
        "\n",
        "    # sample a batch of data\n",
        "    xb, yb = get_batch('train')\n",
        "\n",
        "    # evaluate the loss\n",
        "    logits, loss = model(xb, yb)\n",
        "    optimizer.zero_grad(set_to_none=True)\n",
        "    loss.backward()\n",
        "    optimizer.step()\n",
        "\n",
        "# generate from the model\n",
        "context = torch.zeros((1, 1), dtype=torch.long, device=device)\n",
        "print(decode(m.generate(context, max_new_tokens=2000)[0].tolist()))\n"
      ]
    },
    {
      "cell_type": "code",
      "execution_count": 35,
      "metadata": {
        "colab": {
          "base_uri": "https://localhost:8080/"
        },
        "id": "fjjvMifYZf7x",
        "outputId": "d85eac05-17cc-4569-ae8e-2cf2d8f67872"
      },
      "outputs": [
        {
          "output_type": "stream",
          "name": "stdout",
          "text": [
            "Enter input text: vata\n",
            "Generated Text:\n",
            "vata individuals them. Pro1ries a long if nature. If thie stages structural. Ayurvedic helps to partienge of the body, cracter fear, and corredless, what hate, start. Then ama, stark and relation. Regus a\n"
          ]
        }
      ],
      "source": [
        "class ModelAppCLI:\n",
        "    def __init__(self, model):\n",
        "        self.model = model\n",
        "\n",
        "    def generate_text(self, input_text):\n",
        "        input_indices = torch.tensor(encode(input_text), dtype=torch.long, device=device).unsqueeze(0)\n",
        "        generated_indices = self.model.generate(input_indices, max_new_tokens=200)[0].tolist()\n",
        "        generated_text = decode(generated_indices)\n",
        "        return generated_text\n",
        "\n",
        "# Initialize the frontend with the model\n",
        "app = ModelAppCLI(model)\n",
        "\n",
        "# Example usage\n",
        "input_text = input(\"Enter input text: \")\n",
        "generated_text = app.generate_text(input_text)\n",
        "print(\"Generated Text:\")\n",
        "print(generated_text)\n"
      ]
    },
    {
      "cell_type": "code",
      "execution_count": 35,
      "metadata": {
        "id": "7PHIRiMrkkIq"
      },
      "outputs": [],
      "source": []
    }
  ],
  "metadata": {
    "colab": {
      "provenance": []
    },
    "kernelspec": {
      "display_name": "Python 3",
      "name": "python3"
    },
    "language_info": {
      "name": "python"
    }
  },
  "nbformat": 4,
  "nbformat_minor": 0
}