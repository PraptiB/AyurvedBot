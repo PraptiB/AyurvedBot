{
  "cells": [
    {
      "cell_type": "markdown",
      "metadata": {
        "id": "wJpXpmjEYC_T"
      },
      "source": [
        "## Building a GPT\n",
        "\n",
        "Companion notebook to the [Zero To Hero](https://karpathy.ai/zero-to-hero.html) video on GPT."
      ]
    },
    {
      "cell_type": "code",
      "execution_count": null,
      "metadata": {
        "id": "h5hjCcLDr2WC"
      },
      "outputs": [],
      "source": [
        "# We always start with a dataset to train on. Let's download the tiny shakespeare dataset\n",
        "#!wget https://raw.githubusercontent.com/karpathy/char-rnn/master/data/tinyshakespeare/input.txt"
      ]
    },
    {
      "cell_type": "code",
      "execution_count": null,
      "metadata": {
        "id": "O6medjfRsLD9"
      },
      "outputs": [],
      "source": [
        "# read it in to inspect it\n",
        "with open('books copy 2.txt', 'r', encoding='utf-8') as f:\n",
        "    text = f.read()"
      ]
    },
    {
      "cell_type": "code",
      "execution_count": null,
      "metadata": {
        "colab": {
          "base_uri": "https://localhost:8080/"
        },
        "id": "6xWI_VyAsN8F",
        "outputId": "0c0b91ce-13e1-4e88-f132-4f573c2f1b9d"
      },
      "outputs": [
        {
          "name": "stdout",
          "output_type": "stream",
          "text": [
            "length of dataset in characters:  24870\n"
          ]
        }
      ],
      "source": [
        "print(\"length of dataset in characters: \", len(text))"
      ]
    },
    {
      "cell_type": "code",
      "execution_count": null,
      "metadata": {
        "colab": {
          "base_uri": "https://localhost:8080/"
        },
        "id": "2c5V0FvqseE0",
        "outputId": "56411def-2cc3-482a-bbe2-3ff3fa19a02b"
      },
      "outputs": [
        {
          "name": "stdout",
          "output_type": "stream",
          "text": [
            "\n",
            "Part I: The Science of Life\n",
            "\n",
            "Chapter 1: Ayurveda: Body, Mind, and Soul\n",
            "\n",
            "Ayurveda integrates science, philosophy, and religion to promote human happiness, health, and growth. It offers both theoretical knowledge and practical wisdom, emphasizing the interconnectedness of body, mind, and spirit. Understanding the fundamental principles of Ayurveda is essential for applying its practical recommendations effectively.\n",
            "\n",
            "The Universe and Our Connection\n",
            "\n",
            "According to Ayurveda, the universe emanates from universal Cosmic Consciousness, manifesting as male (Purusha) and female (Prakruti) energies. These energies permeate all living beings and inanimate objects, serving as the foundation of existence. Purusha represents pure awareness, while Prakruti is the creative force that gives rise to the universe.\n",
            "\n",
            "The Three Universal Qualities\n",
            "\n",
            "Ahamkar, or ego, arises from Prakruti and manifests through three universal qualities: Sattva (stability and purity), Rajas (dynamic movement), and Tamas (inertia\n"
          ]
        }
      ],
      "source": [
        "# let's look at the first 1000 characters\n",
        "print(text[:1000])"
      ]
    },
    {
      "cell_type": "code",
      "execution_count": null,
      "metadata": {
        "colab": {
          "base_uri": "https://localhost:8080/"
        },
        "id": "0e-Rbyr8sfM8",
        "outputId": "978e91af-9262-4f38-c9b3-e92f08d9a668"
      },
      "outputs": [
        {
          "name": "stdout",
          "output_type": "stream",
          "text": [
            "\n",
            " !'(),-.0123568:;=?ABCDEFGHIJKLMNOPQRSTUVWYabcdefghijklmnopqrstuvwxyz–—’“”\n",
            "75\n"
          ]
        }
      ],
      "source": [
        "# here are all the unique characters that occur in this text\n",
        "chars = sorted(list(set(text)))\n",
        "vocab_size = len(chars)\n",
        "print(''.join(chars))\n",
        "print(vocab_size)"
      ]
    },
    {
      "cell_type": "code",
      "execution_count": null,
      "metadata": {
        "colab": {
          "base_uri": "https://localhost:8080/"
        },
        "id": "Yw1LKNCgwjj1",
        "outputId": "b56dea54-07cd-4974-c2e1-a5dded815550"
      },
      "outputs": [
        {
          "name": "stdout",
          "output_type": "stream",
          "text": [
            "[51, 52, 52, 1, 63, 51, 48, 61, 48]\n",
            "hii there\n"
          ]
        }
      ],
      "source": [
        "# create a mapping from characters to integers\n",
        "stoi = { ch:i for i,ch in enumerate(chars) }\n",
        "itos = { i:ch for i,ch in enumerate(chars) }\n",
        "encode = lambda s: [stoi[c] for c in s] # encoder: take a string, output a list of integers\n",
        "decode = lambda l: ''.join([itos[i] for i in l]) # decoder: take a list of integers, output a string\n",
        "\n",
        "print(encode(\"hii there\"))\n",
        "print(decode(encode(\"hii there\")))"
      ]
    },
    {
      "cell_type": "code",
      "execution_count": null,
      "metadata": {
        "colab": {
          "base_uri": "https://localhost:8080/"
        },
        "id": "YJb0OXPwzvqg",
        "outputId": "b78e0631-9605-407c-a2e8-72ddb64a7d36"
      },
      "outputs": [
        {
          "name": "stdout",
          "output_type": "stream",
          "text": [
            "torch.Size([24870]) torch.int64\n",
            "tensor([ 0, 35, 44, 61, 63,  1, 28, 16,  1, 39, 51, 48,  1, 38, 46, 52, 48, 57,\n",
            "        46, 48,  1, 58, 49,  1, 31, 52, 49, 48,  0,  0, 22, 51, 44, 59, 63, 48,\n",
            "        61,  1, 10, 16,  1, 20, 68, 64, 61, 65, 48, 47, 44, 16,  1, 21, 58, 47,\n",
            "        68,  6,  1, 32, 52, 57, 47,  6,  1, 44, 57, 47,  1, 38, 58, 64, 55,  0,\n",
            "         0, 20, 68, 64, 61, 65, 48, 47, 44,  1, 52, 57, 63, 48, 50, 61, 44, 63,\n",
            "        48, 62,  1, 62, 46, 52, 48, 57, 46, 48,  6,  1, 59, 51, 52, 55, 58, 62,\n",
            "        58, 59, 51, 68,  6,  1, 44, 57, 47,  1, 61, 48, 55, 52, 50, 52, 58, 57,\n",
            "         1, 63, 58,  1, 59, 61, 58, 56, 58, 63, 48,  1, 51, 64, 56, 44, 57,  1,\n",
            "        51, 44, 59, 59, 52, 57, 48, 62, 62,  6,  1, 51, 48, 44, 55, 63, 51,  6,\n",
            "         1, 44, 57, 47,  1, 50, 61, 58, 66, 63, 51,  8,  1, 28, 63,  1, 58, 49,\n",
            "        49, 48, 61, 62,  1, 45, 58, 63, 51,  1, 63, 51, 48, 58, 61, 48, 63, 52,\n",
            "        46, 44, 55,  1, 54, 57, 58, 66, 55, 48, 47, 50, 48,  1, 44, 57, 47,  1,\n",
            "        59, 61, 44, 46, 63, 52, 46, 44, 55,  1, 66, 52, 62, 47, 58, 56,  6,  1,\n",
            "        48, 56, 59, 51, 44, 62, 52, 69, 52, 57, 50,  1, 63, 51, 48,  1, 52, 57,\n",
            "        63, 48, 61, 46, 58, 57, 57, 48, 46, 63, 48, 47, 57, 48, 62, 62,  1, 58,\n",
            "        49,  1, 45, 58, 47, 68,  6,  1, 56, 52, 57, 47,  6,  1, 44, 57, 47,  1,\n",
            "        62, 59, 52, 61, 52, 63,  8,  1, 40, 57, 47, 48, 61, 62, 63, 44, 57, 47,\n",
            "        52, 57, 50,  1, 63, 51, 48,  1, 49, 64, 57, 47, 44, 56, 48, 57, 63, 44,\n",
            "        55,  1, 59, 61, 52, 57, 46, 52, 59, 55, 48, 62,  1, 58, 49,  1, 20, 68,\n",
            "        64, 61, 65, 48, 47, 44,  1, 52, 62,  1, 48, 62, 62, 48, 57, 63, 52, 44,\n",
            "        55,  1, 49, 58, 61,  1, 44, 59, 59, 55, 68, 52, 57, 50,  1, 52, 63, 62,\n",
            "         1, 59, 61, 44, 46, 63, 52, 46, 44, 55,  1, 61, 48, 46, 58, 56, 56, 48,\n",
            "        57, 47, 44, 63, 52, 58, 57, 62,  1, 48, 49, 49, 48, 46, 63, 52, 65, 48,\n",
            "        55, 68,  8,  0,  0, 39, 51, 48,  1, 40, 57, 52, 65, 48, 61, 62, 48,  1,\n",
            "        44, 57, 47,  1, 34, 64, 61,  1, 22, 58, 57, 57, 48, 46, 63, 52, 58, 57,\n",
            "         0,  0, 20, 46, 46, 58, 61, 47, 52, 57, 50,  1, 63, 58,  1, 20, 68, 64,\n",
            "        61, 65, 48, 47, 44,  6,  1, 63, 51, 48,  1, 64, 57, 52, 65, 48, 61, 62,\n",
            "        48,  1, 48, 56, 44, 57, 44, 63, 48, 62,  1, 49, 61, 58, 56,  1, 64, 57,\n",
            "        52, 65, 48, 61, 62, 44, 55,  1, 22, 58, 62, 56, 52, 46,  1, 22, 58, 57,\n",
            "        62, 46, 52, 58, 64, 62, 57, 48, 62, 62,  6,  1, 56, 44, 57, 52, 49, 48,\n",
            "        62, 63, 52, 57, 50,  1, 44, 62,  1, 56, 44, 55, 48,  1,  4, 35, 64, 61,\n",
            "        64, 62, 51, 44,  5,  1, 44, 57, 47,  1, 49, 48, 56, 44, 55, 48,  1,  4,\n",
            "        35, 61, 44, 54, 61, 64, 63, 52,  5,  1, 48, 57, 48, 61, 50, 52, 48, 62,\n",
            "         8,  1, 39, 51, 48, 62, 48,  1, 48, 57, 48, 61, 50, 52, 48, 62,  1, 59,\n",
            "        48, 61, 56, 48, 44, 63, 48,  1, 44, 55, 55,  1, 55, 52, 65, 52, 57, 50,\n",
            "         1, 45, 48, 52, 57, 50, 62,  1, 44, 57, 47,  1, 52, 57, 44, 57, 52, 56,\n",
            "        44, 63, 48,  1, 58, 45, 53, 48, 46, 63, 62,  6,  1, 62, 48, 61, 65, 52,\n",
            "        57, 50,  1, 44, 62,  1, 63, 51, 48,  1, 49, 58, 64, 57, 47, 44, 63, 52,\n",
            "        58, 57,  1, 58, 49,  1, 48, 67, 52, 62, 63, 48, 57, 46, 48,  8,  1, 35,\n",
            "        64, 61, 64, 62, 51, 44,  1, 61, 48, 59, 61, 48, 62, 48, 57, 63, 62,  1,\n",
            "        59, 64, 61, 48,  1, 44, 66, 44, 61, 48, 57, 48, 62, 62,  6,  1, 66, 51,\n",
            "        52, 55, 48,  1, 35, 61, 44, 54, 61, 64, 63, 52,  1, 52, 62,  1, 63, 51,\n",
            "        48,  1, 46, 61, 48, 44, 63, 52, 65, 48,  1, 49, 58, 61, 46, 48,  1, 63,\n",
            "        51, 44, 63,  1, 50, 52, 65, 48, 62,  1, 61, 52, 62, 48,  1, 63, 58,  1,\n",
            "        63, 51, 48,  1, 64, 57, 52, 65, 48, 61, 62, 48,  8,  0,  0, 39, 51, 48,\n",
            "         1, 39, 51, 61, 48, 48,  1, 40, 57, 52, 65, 48, 61, 62, 44, 55,  1, 36,\n",
            "        64, 44, 55, 52, 63, 52, 48, 62,  0,  0, 20, 51, 44, 56, 54, 44, 61,  6,\n",
            "         1, 58, 61,  1, 48, 50, 58,  6,  1, 44, 61, 52, 62, 48, 62,  1, 49, 61,\n",
            "        58, 56,  1, 35, 61, 44, 54, 61, 64, 63, 52,  1, 44, 57, 47,  1, 56, 44,\n",
            "        57, 52, 49, 48, 62, 63, 62,  1, 63, 51, 61, 58, 64, 50, 51,  1, 63, 51,\n",
            "        61, 48, 48,  1, 64, 57, 52, 65, 48, 61, 62, 44, 55,  1, 60, 64, 44, 55,\n",
            "        52, 63, 52, 48, 62, 16,  1, 38, 44, 63, 63, 65, 44,  1,  4, 62, 63, 44,\n",
            "        45, 52, 55, 52, 63, 68,  1, 44, 57, 47,  1, 59, 64, 61, 52, 63, 68,  5,\n",
            "         6,  1, 37, 44, 53, 44, 62,  1,  4, 47, 68, 57, 44, 56, 52, 46,  1, 56,\n",
            "        58, 65, 48, 56, 48, 57, 63,  5,  6,  1, 44, 57, 47,  1, 39, 44, 56, 44,\n",
            "        62,  1,  4, 52, 57, 48, 61, 63, 52, 44])\n"
          ]
        }
      ],
      "source": [
        "# let's now encode the entire text dataset and store it into a torch.Tensor\n",
        "import torch # we use PyTorch: https://pytorch.org\n",
        "data = torch.tensor(encode(text), dtype=torch.long)\n",
        "print(data.shape, data.dtype)\n",
        "print(data[:1000]) # the 1000 characters we looked at earier will to the GPT look like this"
      ]
    },
    {
      "cell_type": "code",
      "execution_count": null,
      "metadata": {
        "id": "f_WIXqxz0lU5"
      },
      "outputs": [],
      "source": [
        "# Let's now split up the data into train and validation sets\n",
        "n = int(0.9*len(data)) # first 90% will be train, rest val\n",
        "train_data = data[:n]\n",
        "val_data = data[n:]"
      ]
    },
    {
      "cell_type": "code",
      "execution_count": null,
      "metadata": {
        "colab": {
          "base_uri": "https://localhost:8080/"
        },
        "id": "TD5Bj8Y6IAD4",
        "outputId": "47e243cb-bbeb-4d1e-da39-4b93be9ef304"
      },
      "outputs": [
        {
          "data": {
            "text/plain": [
              "tensor([ 0, 35, 44, 61, 63,  1, 28, 16,  1])"
            ]
          },
          "execution_count": 9,
          "metadata": {},
          "output_type": "execute_result"
        }
      ],
      "source": [
        "block_size = 8\n",
        "train_data[:block_size+1]"
      ]
    },
    {
      "cell_type": "code",
      "execution_count": null,
      "metadata": {
        "colab": {
          "base_uri": "https://localhost:8080/"
        },
        "id": "9HXDe8vGJCEn",
        "outputId": "7b0bb4d6-7900-4c78-e10a-9e369904fdc6"
      },
      "outputs": [
        {
          "name": "stdout",
          "output_type": "stream",
          "text": [
            "when input is tensor([0]) the target: 35\n",
            "when input is tensor([ 0, 35]) the target: 44\n",
            "when input is tensor([ 0, 35, 44]) the target: 61\n",
            "when input is tensor([ 0, 35, 44, 61]) the target: 63\n",
            "when input is tensor([ 0, 35, 44, 61, 63]) the target: 1\n",
            "when input is tensor([ 0, 35, 44, 61, 63,  1]) the target: 28\n",
            "when input is tensor([ 0, 35, 44, 61, 63,  1, 28]) the target: 16\n",
            "when input is tensor([ 0, 35, 44, 61, 63,  1, 28, 16]) the target: 1\n"
          ]
        }
      ],
      "source": [
        "x = train_data[:block_size]\n",
        "y = train_data[1:block_size+1]\n",
        "for t in range(block_size):\n",
        "    context = x[:t+1]\n",
        "    target = y[t]\n",
        "    print(f\"when input is {context} the target: {target}\")"
      ]
    },
    {
      "cell_type": "code",
      "execution_count": null,
      "metadata": {
        "colab": {
          "base_uri": "https://localhost:8080/"
        },
        "id": "Q3k1Czf7LuA9",
        "outputId": "44c2f10f-4e4d-48f7-94a4-9455b4787fdc"
      },
      "outputs": [
        {
          "name": "stdout",
          "output_type": "stream",
          "text": [
            "inputs:\n",
            "torch.Size([4, 8])\n",
            "tensor([[62, 48, 57, 63,  1, 52, 57,  1],\n",
            "        [51, 44, 62,  1, 52, 57,  1, 68],\n",
            "        [48, 68,  1, 56, 44, 68,  1, 50],\n",
            "        [52, 63, 62,  1, 59, 61, 44, 46]])\n",
            "targets:\n",
            "torch.Size([4, 8])\n",
            "tensor([[48, 57, 63,  1, 52, 57,  1, 48],\n",
            "        [44, 62,  1, 52, 57,  1, 68, 58],\n",
            "        [68,  1, 56, 44, 68,  1, 50, 52],\n",
            "        [63, 62,  1, 59, 61, 44, 46, 63]])\n",
            "----\n",
            "when input is [62] the target: 48\n",
            "when input is [62, 48] the target: 57\n",
            "when input is [62, 48, 57] the target: 63\n",
            "when input is [62, 48, 57, 63] the target: 1\n",
            "when input is [62, 48, 57, 63, 1] the target: 52\n",
            "when input is [62, 48, 57, 63, 1, 52] the target: 57\n",
            "when input is [62, 48, 57, 63, 1, 52, 57] the target: 1\n",
            "when input is [62, 48, 57, 63, 1, 52, 57, 1] the target: 48\n",
            "when input is [51] the target: 44\n",
            "when input is [51, 44] the target: 62\n",
            "when input is [51, 44, 62] the target: 1\n",
            "when input is [51, 44, 62, 1] the target: 52\n",
            "when input is [51, 44, 62, 1, 52] the target: 57\n",
            "when input is [51, 44, 62, 1, 52, 57] the target: 1\n",
            "when input is [51, 44, 62, 1, 52, 57, 1] the target: 68\n",
            "when input is [51, 44, 62, 1, 52, 57, 1, 68] the target: 58\n",
            "when input is [48] the target: 68\n",
            "when input is [48, 68] the target: 1\n",
            "when input is [48, 68, 1] the target: 56\n",
            "when input is [48, 68, 1, 56] the target: 44\n",
            "when input is [48, 68, 1, 56, 44] the target: 68\n",
            "when input is [48, 68, 1, 56, 44, 68] the target: 1\n",
            "when input is [48, 68, 1, 56, 44, 68, 1] the target: 50\n",
            "when input is [48, 68, 1, 56, 44, 68, 1, 50] the target: 52\n",
            "when input is [52] the target: 63\n",
            "when input is [52, 63] the target: 62\n",
            "when input is [52, 63, 62] the target: 1\n",
            "when input is [52, 63, 62, 1] the target: 59\n",
            "when input is [52, 63, 62, 1, 59] the target: 61\n",
            "when input is [52, 63, 62, 1, 59, 61] the target: 44\n",
            "when input is [52, 63, 62, 1, 59, 61, 44] the target: 46\n",
            "when input is [52, 63, 62, 1, 59, 61, 44, 46] the target: 63\n"
          ]
        }
      ],
      "source": [
        "torch.manual_seed(1337)\n",
        "batch_size = 4 # how many independent sequences will we process in parallel?\n",
        "block_size = 8 # what is the maximum context length for predictions?\n",
        "\n",
        "def get_batch(split):\n",
        "    # generate a small batch of data of inputs x and targets y\n",
        "    data = train_data if split == 'train' else val_data\n",
        "    ix = torch.randint(len(data) - block_size, (batch_size,))\n",
        "    x = torch.stack([data[i:i+block_size] for i in ix])\n",
        "    y = torch.stack([data[i+1:i+block_size+1] for i in ix])\n",
        "    return x, y\n",
        "\n",
        "xb, yb = get_batch('train')\n",
        "print('inputs:')\n",
        "print(xb.shape)\n",
        "print(xb)\n",
        "print('targets:')\n",
        "print(yb.shape)\n",
        "print(yb)\n",
        "\n",
        "print('----')\n",
        "\n",
        "for b in range(batch_size): # batch dimension\n",
        "    for t in range(block_size): # time dimension\n",
        "        context = xb[b, :t+1]\n",
        "        target = yb[b,t]\n",
        "        print(f\"when input is {context.tolist()} the target: {target}\")"
      ]
    },
    {
      "cell_type": "code",
      "execution_count": null,
      "metadata": {
        "colab": {
          "base_uri": "https://localhost:8080/"
        },
        "id": "qpyyAeIzQjlO",
        "outputId": "badbd0ee-be33-4cd0-b675-2db44ab8a4ac"
      },
      "outputs": [
        {
          "name": "stdout",
          "output_type": "stream",
          "text": [
            "tensor([[62, 48, 57, 63,  1, 52, 57,  1],\n",
            "        [51, 44, 62,  1, 52, 57,  1, 68],\n",
            "        [48, 68,  1, 56, 44, 68,  1, 50],\n",
            "        [52, 63, 62,  1, 59, 61, 44, 46]])\n"
          ]
        }
      ],
      "source": [
        "print(xb) # our input to the transformer"
      ]
    },
    {
      "cell_type": "code",
      "execution_count": null,
      "metadata": {
        "colab": {
          "base_uri": "https://localhost:8080/"
        },
        "id": "nql_1ER53oCf",
        "outputId": "3cd1f3ee-d4dd-4db0-f62d-46b069713372"
      },
      "outputs": [
        {
          "name": "stdout",
          "output_type": "stream",
          "text": [
            "torch.Size([32, 75])\n",
            "tensor(5.1176, grad_fn=<NllLossBackward0>)\n",
            "\n",
            "KqI—K:pLc0'HSfp:naffP5;s;.6ll:Fv cWCJrw;M--”c\n",
            "k”bkt—bmFdP?YK;WJh.W”RsGea3;—8D:'O:l\n",
            "RMKeaj0B,\n",
            "mOIoGIo\n"
          ]
        }
      ],
      "source": [
        "import torch\n",
        "import torch.nn as nn\n",
        "from torch.nn import functional as F\n",
        "torch.manual_seed(1337)\n",
        "\n",
        "class BigramLanguageModel(nn.Module):\n",
        "\n",
        "    def __init__(self, vocab_size):\n",
        "        super().__init__()\n",
        "        # each token directly reads off the logits for the next token from a lookup table\n",
        "        self.token_embedding_table = nn.Embedding(vocab_size, vocab_size)\n",
        "\n",
        "    def forward(self, idx, targets=None):\n",
        "\n",
        "        # idx and targets are both (B,T) tensor of integers\n",
        "        logits = self.token_embedding_table(idx) # (B,T,C)\n",
        "\n",
        "        if targets is None:\n",
        "            loss = None\n",
        "        else:\n",
        "            B, T, C = logits.shape\n",
        "            logits = logits.view(B*T, C)\n",
        "            targets = targets.view(B*T)\n",
        "            loss = F.cross_entropy(logits, targets)\n",
        "\n",
        "        return logits, loss\n",
        "\n",
        "    def generate(self, idx, max_new_tokens):\n",
        "        # idx is (B, T) array of indices in the current context\n",
        "        for _ in range(max_new_tokens):\n",
        "            # get the predictions\n",
        "            logits, loss = self(idx)\n",
        "            # focus only on the last time step\n",
        "            logits = logits[:, -1, :] # becomes (B, C)\n",
        "            # apply softmax to get probabilities\n",
        "            probs = F.softmax(logits, dim=-1) # (B, C)\n",
        "            # sample from the distribution\n",
        "            idx_next = torch.multinomial(probs, num_samples=1) # (B, 1)\n",
        "            # append sampled index to the running sequence\n",
        "            idx = torch.cat((idx, idx_next), dim=1) # (B, T+1)\n",
        "        return idx\n",
        "\n",
        "m = BigramLanguageModel(vocab_size)\n",
        "logits, loss = m(xb, yb)\n",
        "print(logits.shape)\n",
        "print(loss)\n",
        "\n",
        "print(decode(m.generate(idx = torch.zeros((1, 1), dtype=torch.long), max_new_tokens=100)[0].tolist()))\n"
      ]
    },
    {
      "cell_type": "code",
      "execution_count": null,
      "metadata": {
        "id": "eTyJ8qAaDdiF"
      },
      "outputs": [],
      "source": [
        "# create a PyTorch optimizer\n",
        "optimizer = torch.optim.AdamW(m.parameters(), lr=1e-3)"
      ]
    },
    {
      "cell_type": "code",
      "execution_count": null,
      "metadata": {
        "colab": {
          "base_uri": "https://localhost:8080/"
        },
        "id": "Hs4kI8YdEkQj",
        "outputId": "615792da-3ea4-4c4b-966a-62a7a60df1b9"
      },
      "outputs": [
        {
          "name": "stdout",
          "output_type": "stream",
          "text": [
            "4.824717998504639\n"
          ]
        }
      ],
      "source": [
        "batch_size = 32\n",
        "for steps in range(100): # increase number of steps for good results...\n",
        "\n",
        "    # sample a batch of data\n",
        "    xb, yb = get_batch('train')\n",
        "\n",
        "    # evaluate the loss\n",
        "    logits, loss = m(xb, yb)\n",
        "    optimizer.zero_grad(set_to_none=True)\n",
        "    loss.backward()\n",
        "    optimizer.step()\n",
        "\n",
        "print(loss.item())\n"
      ]
    },
    {
      "cell_type": "code",
      "execution_count": null,
      "metadata": {
        "colab": {
          "base_uri": "https://localhost:8080/"
        },
        "id": "EcVIDWAZEtjN",
        "outputId": "1ce23282-4591-4a1b-d137-bf725b0cdd1a"
      },
      "outputs": [
        {
          "name": "stdout",
          "output_type": "stream",
          "text": [
            "\n",
            "jabz3z(t!id–:.vJjY–\n",
            "ODkyP1T“8:xjzOScIG=?=y)B,6G8j:rd -2 Hv3rdLCCml6D.vSU.u,w6ihGOsfa.—im–1(u)x)N;hGL;oCDCK=;1(AvHy\n",
            "880qq“0rT8\n",
            "kSTA8RMa—8Prgx–egEARjKlHHBoc’,–—VlpNlts;u”Wvo0A:wIsV-F8y;i5”Cjlgvgc,Q8?a5-GF.'lJcP)ciLc OemHqqD!im'Hiy?;Werzu8?MA o!voE==W0INs1—KCJa—J—AAk0id !TNs(nC’iqFidch?Ulk—uJdTCS55Cz26”!5ly'“8\n",
            "eGLum1GxDJFbONqs 't—)sWNHiD oD.;.JGtWRh“u;p”A’JbLQ=gJOgu–Q–26F-UdT!'AjgjOymxM\n",
            "’icFPRoyE—(r-xss8!?,WJYc Y)QHbVty—cjY–KAlLoVPSLakBY–hqFMB—Au'”h 6C—E–Tc,t—h?“FqM8-yE'8QJAktHbmilmwm–h1?iI?!LcbmiG\n"
          ]
        }
      ],
      "source": [
        "print(decode(m.generate(idx = torch.zeros((1, 1), dtype=torch.long), max_new_tokens=500)[0].tolist()))"
      ]
    },
    {
      "cell_type": "markdown",
      "metadata": {
        "id": "XinV8nmAnmKN"
      },
      "source": [
        "## The mathematical trick in self-attention"
      ]
    },
    {
      "cell_type": "code",
      "execution_count": null,
      "metadata": {
        "colab": {
          "base_uri": "https://localhost:8080/"
        },
        "id": "tukiH-NbRBhA",
        "outputId": "3a2e82d7-0b4b-4358-e1a5-37e47a000850"
      },
      "outputs": [
        {
          "name": "stdout",
          "output_type": "stream",
          "text": [
            "a=\n",
            "tensor([[1.0000, 0.0000, 0.0000],\n",
            "        [0.5000, 0.5000, 0.0000],\n",
            "        [0.3333, 0.3333, 0.3333]])\n",
            "--\n",
            "b=\n",
            "tensor([[2., 7.],\n",
            "        [6., 4.],\n",
            "        [6., 5.]])\n",
            "--\n",
            "c=\n",
            "tensor([[2.0000, 7.0000],\n",
            "        [4.0000, 5.5000],\n",
            "        [4.6667, 5.3333]])\n"
          ]
        }
      ],
      "source": [
        "# toy example illustrating how matrix multiplication can be used for a \"weighted aggregation\"\n",
        "torch.manual_seed(42)\n",
        "a = torch.tril(torch.ones(3, 3))\n",
        "a = a / torch.sum(a, 1, keepdim=True)\n",
        "b = torch.randint(0,10,(3,2)).float()\n",
        "c = a @ b\n",
        "print('a=')\n",
        "print(a)\n",
        "print('--')\n",
        "print('b=')\n",
        "print(b)\n",
        "print('--')\n",
        "print('c=')\n",
        "print(c)"
      ]
    },
    {
      "cell_type": "code",
      "execution_count": null,
      "metadata": {
        "colab": {
          "base_uri": "https://localhost:8080/"
        },
        "id": "Hs_E24uRE8kr",
        "outputId": "01c66ff6-204f-41e8-d1a4-052d965c3c7f"
      },
      "outputs": [
        {
          "data": {
            "text/plain": [
              "torch.Size([4, 8, 2])"
            ]
          },
          "execution_count": 18,
          "metadata": {},
          "output_type": "execute_result"
        }
      ],
      "source": [
        "# consider the following toy example:\n",
        "\n",
        "torch.manual_seed(1337)\n",
        "B,T,C = 4,8,2 # batch, time, channels\n",
        "x = torch.randn(B,T,C)\n",
        "x.shape"
      ]
    },
    {
      "cell_type": "code",
      "execution_count": null,
      "metadata": {
        "id": "86NuXX0fn7ps"
      },
      "outputs": [],
      "source": [
        "# We want x[b,t] = mean_{i<=t} x[b,i]\n",
        "xbow = torch.zeros((B,T,C))\n",
        "for b in range(B):\n",
        "    for t in range(T):\n",
        "        xprev = x[b,:t+1] # (t,C)\n",
        "        xbow[b,t] = torch.mean(xprev, 0)\n"
      ]
    },
    {
      "cell_type": "code",
      "execution_count": null,
      "metadata": {
        "colab": {
          "base_uri": "https://localhost:8080/"
        },
        "id": "yhdOAd6-wXkZ",
        "outputId": "99a8c8ff-67cb-4ea4-da69-bb6c484a247f"
      },
      "outputs": [
        {
          "data": {
            "text/plain": [
              "False"
            ]
          },
          "execution_count": 20,
          "metadata": {},
          "output_type": "execute_result"
        }
      ],
      "source": [
        "# version 2: using matrix multiply for a weighted aggregation\n",
        "wei = torch.tril(torch.ones(T, T))\n",
        "wei = wei / wei.sum(1, keepdim=True)\n",
        "xbow2 = wei @ x # (B, T, T) @ (B, T, C) ----> (B, T, C)\n",
        "torch.allclose(xbow, xbow2)"
      ]
    },
    {
      "cell_type": "code",
      "execution_count": null,
      "metadata": {
        "colab": {
          "base_uri": "https://localhost:8080/"
        },
        "id": "wOURrfG-ysoL",
        "outputId": "680645cf-bee3-4951-a559-2f23bdc22bff"
      },
      "outputs": [
        {
          "data": {
            "text/plain": [
              "False"
            ]
          },
          "execution_count": 21,
          "metadata": {},
          "output_type": "execute_result"
        }
      ],
      "source": [
        "# version 3: use Softmax\n",
        "tril = torch.tril(torch.ones(T, T))\n",
        "wei = torch.zeros((T,T))\n",
        "wei = wei.masked_fill(tril == 0, float('-inf'))\n",
        "wei = F.softmax(wei, dim=-1)\n",
        "xbow3 = wei @ x\n",
        "torch.allclose(xbow, xbow3)\n"
      ]
    },
    {
      "cell_type": "code",
      "execution_count": null,
      "metadata": {
        "colab": {
          "base_uri": "https://localhost:8080/"
        },
        "id": "EDarxEWIRMKq",
        "outputId": "ca6e6942-708a-4d71-85a7-661ddc01110f"
      },
      "outputs": [
        {
          "data": {
            "text/plain": [
              "torch.Size([4, 8, 16])"
            ]
          },
          "execution_count": 22,
          "metadata": {},
          "output_type": "execute_result"
        }
      ],
      "source": [
        "# version 4: self-attention!\n",
        "torch.manual_seed(1337)\n",
        "B,T,C = 4,8,32 # batch, time, channels\n",
        "x = torch.randn(B,T,C)\n",
        "\n",
        "# let's see a single Head perform self-attention\n",
        "head_size = 16\n",
        "key = nn.Linear(C, head_size, bias=False)\n",
        "query = nn.Linear(C, head_size, bias=False)\n",
        "value = nn.Linear(C, head_size, bias=False)\n",
        "k = key(x)   # (B, T, 16)\n",
        "q = query(x) # (B, T, 16)\n",
        "wei =  q @ k.transpose(-2, -1) # (B, T, 16) @ (B, 16, T) ---> (B, T, T)\n",
        "\n",
        "tril = torch.tril(torch.ones(T, T))\n",
        "#wei = torch.zeros((T,T))\n",
        "wei = wei.masked_fill(tril == 0, float('-inf'))\n",
        "wei = F.softmax(wei, dim=-1)\n",
        "\n",
        "v = value(x)\n",
        "out = wei @ v\n",
        "#out = wei @ x\n",
        "\n",
        "out.shape"
      ]
    },
    {
      "cell_type": "code",
      "execution_count": null,
      "metadata": {
        "colab": {
          "base_uri": "https://localhost:8080/"
        },
        "id": "vT1hdtzXCjgL",
        "outputId": "1746d2bc-6de2-4ca0-9271-9aeb4b11cc38"
      },
      "outputs": [
        {
          "data": {
            "text/plain": [
              "tensor([[1.0000, 0.0000, 0.0000, 0.0000, 0.0000, 0.0000, 0.0000, 0.0000],\n",
              "        [0.1574, 0.8426, 0.0000, 0.0000, 0.0000, 0.0000, 0.0000, 0.0000],\n",
              "        [0.2088, 0.1646, 0.6266, 0.0000, 0.0000, 0.0000, 0.0000, 0.0000],\n",
              "        [0.5792, 0.1187, 0.1889, 0.1131, 0.0000, 0.0000, 0.0000, 0.0000],\n",
              "        [0.0294, 0.1052, 0.0469, 0.0276, 0.7909, 0.0000, 0.0000, 0.0000],\n",
              "        [0.0176, 0.2689, 0.0215, 0.0089, 0.6812, 0.0019, 0.0000, 0.0000],\n",
              "        [0.1691, 0.4066, 0.0438, 0.0416, 0.1048, 0.2012, 0.0329, 0.0000],\n",
              "        [0.0210, 0.0843, 0.0555, 0.2297, 0.0573, 0.0709, 0.2423, 0.2391]],\n",
              "       grad_fn=<SelectBackward0>)"
            ]
          },
          "execution_count": 23,
          "metadata": {},
          "output_type": "execute_result"
        }
      ],
      "source": [
        "wei[0]"
      ]
    },
    {
      "cell_type": "markdown",
      "metadata": {
        "id": "M5CvobiQ0pLr"
      },
      "source": [
        "Notes:\n",
        "- Attention is a **communication mechanism**. Can be seen as nodes in a directed graph looking at each other and aggregating information with a weighted sum from all nodes that point to them, with data-dependent weights.\n",
        "- There is no notion of space. Attention simply acts over a set of vectors. This is why we need to positionally encode tokens.\n",
        "- Each example across batch dimension is of course processed completely independently and never \"talk\" to each other\n",
        "- In an \"encoder\" attention block just delete the single line that does masking with `tril`, allowing all tokens to communicate. This block here is called a \"decoder\" attention block because it has triangular masking, and is usually used in autoregressive settings, like language modeling.\n",
        "- \"self-attention\" just means that the keys and values are produced from the same source as queries. In \"cross-attention\", the queries still get produced from x, but the keys and values come from some other, external source (e.g. an encoder module)\n",
        "- \"Scaled\" attention additional divides `wei` by 1/sqrt(head_size). This makes it so when input Q,K are unit variance, wei will be unit variance too and Softmax will stay diffuse and not saturate too much. Illustration below"
      ]
    },
    {
      "cell_type": "code",
      "execution_count": null,
      "metadata": {
        "id": "4SNbLq5z3oBw"
      },
      "outputs": [],
      "source": [
        "k = torch.randn(B,T,head_size)\n",
        "q = torch.randn(B,T,head_size)\n",
        "wei = q @ k.transpose(-2, -1) * head_size**-0.5"
      ]
    },
    {
      "cell_type": "code",
      "execution_count": null,
      "metadata": {
        "colab": {
          "base_uri": "https://localhost:8080/"
        },
        "id": "Nl6I9n9IRTSo",
        "outputId": "e5a6cb8c-085c-46a0-f564-0bf670a73833"
      },
      "outputs": [
        {
          "data": {
            "text/plain": [
              "tensor(1.0449)"
            ]
          },
          "execution_count": 25,
          "metadata": {},
          "output_type": "execute_result"
        }
      ],
      "source": [
        "k.var()"
      ]
    },
    {
      "cell_type": "code",
      "execution_count": null,
      "metadata": {
        "colab": {
          "base_uri": "https://localhost:8080/"
        },
        "id": "T1tQx7oeRvtc",
        "outputId": "c047e918-b6e6-4d9b-d8e1-69412887ff5d"
      },
      "outputs": [
        {
          "data": {
            "text/plain": [
              "tensor(1.0700)"
            ]
          },
          "execution_count": 26,
          "metadata": {},
          "output_type": "execute_result"
        }
      ],
      "source": [
        "q.var()"
      ]
    },
    {
      "cell_type": "code",
      "execution_count": null,
      "metadata": {
        "colab": {
          "base_uri": "https://localhost:8080/"
        },
        "id": "MLb_odHU3iKM",
        "outputId": "55f1d705-74b6-4d71-e620-205720ca613b"
      },
      "outputs": [
        {
          "data": {
            "text/plain": [
              "tensor(1.0918)"
            ]
          },
          "execution_count": 27,
          "metadata": {},
          "output_type": "execute_result"
        }
      ],
      "source": [
        "wei.var()"
      ]
    },
    {
      "cell_type": "code",
      "execution_count": null,
      "metadata": {
        "colab": {
          "base_uri": "https://localhost:8080/"
        },
        "id": "JB82yzt44REI",
        "outputId": "aab40975-8e21-4dd9-9b22-08b19ba59137"
      },
      "outputs": [
        {
          "data": {
            "text/plain": [
              "tensor([0.1925, 0.1426, 0.2351, 0.1426, 0.2872])"
            ]
          },
          "execution_count": 28,
          "metadata": {},
          "output_type": "execute_result"
        }
      ],
      "source": [
        "torch.softmax(torch.tensor([0.1, -0.2, 0.3, -0.2, 0.5]), dim=-1)"
      ]
    },
    {
      "cell_type": "code",
      "execution_count": null,
      "metadata": {
        "colab": {
          "base_uri": "https://localhost:8080/"
        },
        "id": "Mpt8569BB9_f",
        "outputId": "ce9811a1-94ca-4c81-8ee8-ab42c14f3296"
      },
      "outputs": [
        {
          "data": {
            "text/plain": [
              "tensor([0.0326, 0.0030, 0.1615, 0.0030, 0.8000])"
            ]
          },
          "execution_count": 29,
          "metadata": {},
          "output_type": "execute_result"
        }
      ],
      "source": [
        "torch.softmax(torch.tensor([0.1, -0.2, 0.3, -0.2, 0.5])*8, dim=-1) # gets too peaky, converges to one-hot"
      ]
    },
    {
      "cell_type": "code",
      "execution_count": null,
      "metadata": {
        "colab": {
          "base_uri": "https://localhost:8080/"
        },
        "id": "2Num7sX9CKOH",
        "outputId": "7f262897-3376-4971-f5d0-11806cae2416"
      },
      "outputs": [
        {
          "data": {
            "text/plain": [
              "torch.Size([32, 100])"
            ]
          },
          "execution_count": 30,
          "metadata": {},
          "output_type": "execute_result"
        }
      ],
      "source": [
        "class LayerNorm1d: # (used to be BatchNorm1d)\n",
        "\n",
        "  def __init__(self, dim, eps=1e-5, momentum=0.1):\n",
        "    self.eps = eps\n",
        "    self.gamma = torch.ones(dim)\n",
        "    self.beta = torch.zeros(dim)\n",
        "\n",
        "  def __call__(self, x):\n",
        "    # calculate the forward pass\n",
        "    xmean = x.mean(1, keepdim=True) # batch mean\n",
        "    xvar = x.var(1, keepdim=True) # batch variance\n",
        "    xhat = (x - xmean) / torch.sqrt(xvar + self.eps) # normalize to unit variance\n",
        "    self.out = self.gamma * xhat + self.beta\n",
        "    return self.out\n",
        "\n",
        "  def parameters(self):\n",
        "    return [self.gamma, self.beta]\n",
        "\n",
        "torch.manual_seed(1337)\n",
        "module = LayerNorm1d(100)\n",
        "x = torch.randn(32, 100) # batch size 32 of 100-dimensional vectors\n",
        "x = module(x)\n",
        "x.shape"
      ]
    },
    {
      "cell_type": "code",
      "execution_count": null,
      "metadata": {
        "colab": {
          "base_uri": "https://localhost:8080/"
        },
        "id": "633T2cmnW1uk",
        "outputId": "7d724d8a-ed78-4bd7-b1eb-9d144ebea89a"
      },
      "outputs": [
        {
          "data": {
            "text/plain": [
              "(tensor(0.1469), tensor(0.8803))"
            ]
          },
          "execution_count": 31,
          "metadata": {},
          "output_type": "execute_result"
        }
      ],
      "source": [
        "x[:,0].mean(), x[:,0].std() # mean,std of one feature across all batch inputs"
      ]
    },
    {
      "cell_type": "code",
      "execution_count": null,
      "metadata": {
        "colab": {
          "base_uri": "https://localhost:8080/"
        },
        "id": "LN9cK9BoXCYb",
        "outputId": "bb730787-e22f-4902-9f1c-b1e29d8713df"
      },
      "outputs": [
        {
          "data": {
            "text/plain": [
              "(tensor(-9.5367e-09), tensor(1.0000))"
            ]
          },
          "execution_count": 32,
          "metadata": {},
          "output_type": "execute_result"
        }
      ],
      "source": [
        "x[0,:].mean(), x[0,:].std() # mean,std of a single input from the batch, of its features"
      ]
    },
    {
      "cell_type": "code",
      "execution_count": null,
      "metadata": {
        "id": "dRJH6wM_XFfU"
      },
      "outputs": [],
      "source": [
        "# French to English translation example:\n",
        "\n",
        "# <--------- ENCODE ------------------><--------------- DECODE ----------------->\n",
        "# les réseaux de neurones sont géniaux! <START> neural networks are awesome!<END>\n",
        "\n"
      ]
    },
    {
      "cell_type": "markdown",
      "metadata": {
        "id": "ZcvKeBXoZFOY"
      },
      "source": [
        "### Full finished code, for reference\n",
        "\n",
        "You may want to refer directly to the git repo instead though."
      ]
    },
    {
      "cell_type": "code",
      "execution_count": 46,
      "metadata": {
        "id": "hoelkOrFY8bN",
        "colab": {
          "base_uri": "https://localhost:8080/"
        },
        "outputId": "aacd0782-c922-4f35-af7d-fa565499a75c"
      },
      "outputs": [
        {
          "output_type": "stream",
          "name": "stdout",
          "text": [
            "0.423499 M parameters\n",
            "step 0: train loss 4.4681, val loss 4.4733\n",
            "step 100: train loss 2.4594, val loss 2.4926\n",
            "step 200: train loss 2.3389, val loss 2.3850\n",
            "step 300: train loss 2.1137, val loss 2.2197\n",
            "step 400: train loss 1.8334, val loss 2.0689\n",
            "step 500: train loss 1.6290, val loss 1.9849\n",
            "step 600: train loss 1.4585, val loss 1.9401\n",
            "step 700: train loss 1.3185, val loss 1.9381\n",
            "step 800: train loss 1.1837, val loss 1.9716\n",
            "step 900: train loss 1.0870, val loss 2.0119\n",
            "step 999: train loss 0.9766, val loss 2.0974\n",
            "\n",
            "\n",
            "Aht prakruti ansting the condic pacticalmence.\n",
            "VA\n",
            "Vata, imid, whill p apprinces its the balance it its the in mallerains the balance interratins wethere respiness, and lovein, and ch parkaphin up mark to the un this twen majold = Spail, 5AsIccoved very in very insonnectednectedness, and reflect and span, your building they peage all happyiness, it including body, hic applyin, and littical axises all the betherped flexibility, vata reggration, expance of likes ast under which icrucidation\n",
            "Salth Making\n",
            "\n",
            "Ayurveda:\n",
            "Vata––Vata and Aythel is trequent, and properties: By LicA (Your Mentary halth. They alted leach include, and to chapter fices any chanso typerced poor, and it old up toption.\n",
            "Vata, ard, sld tempers Pitta is (Bythinger, dry up suce jot likely. Speaking. Negin alth aggrained eyeven has and variable hat: When Mattenty\n",
            "These qualities ofter and Man.\n",
            "Pitta is alspon, a kapha, they how pran, your sensed haminatioly and from excess and principles in balance, and are obsmic hew and and we kapha? in they body hariet.\n",
            "These qualities orn vata remors. They abody’s metable, filing up by to vetable of balances newindy and losd veophyper insizyine, in everythere doshas in our these Pralay (eximuses all the formstated, or or likesty; A formatel bects on—is the playirs, dight or example and coppoptite help is the characterinterconnectinative and principleookine a cel hapting itall the clup, el sed by weather pitta lifestyf the us chear to litts any ways apholl. Vata, pitta, pitta, ever ligestive, than throwlIbod, so happetet chiloroces proportion of movemell. Pitta rakruti. Hean the principle of form, predominant and to appeties your lity predomina is disorder.. They all individual letwend lifesty and some, let, clative or creative dement contitutions, the aren bereepanation\n",
            "\n",
            "Ayhe parincinary, hollecially, and let, and salting maniMative and the balance princy of watth as goull prakruti and extent they the plaily creative esprefecentivelly decesity.\n",
            "These qualities the rat\n"
          ]
        }
      ],
      "source": [
        "import torch\n",
        "import torch.nn as nn\n",
        "from torch.nn import functional as F\n",
        "\n",
        "# hyperparameters\n",
        "batch_size = 32 # how many independent sequences will we process in parallel?\n",
        "block_size = 64 # what is the maximum context length for predictions?\n",
        "max_iters = 2000\n",
        "eval_interval = 100\n",
        "learning_rate = 1e-3\n",
        "device = 'cuda' if torch.cuda.is_available() else 'cpu'\n",
        "eval_iters = 200\n",
        "n_embd = 64\n",
        "n_head = 4\n",
        "n_layer = 4\n",
        "dropout = 0.0\n",
        "# ------------\n",
        "\n",
        "torch.manual_seed(1337)\n",
        "\n",
        "# wget https://raw.githubusercontent.com/karpathy/char-rnn/master/data/tinyshakespeare/input.txt\n",
        "with open('books copy 2.txt', 'r', encoding='utf-8') as f:\n",
        "    text = f.read()\n",
        "\n",
        "# here are all the unique characters that occur in this text\n",
        "chars = sorted(list(set(text)))\n",
        "vocab_size = len(chars)\n",
        "# create a mapping from characters to integers\n",
        "stoi = { ch:i for i,ch in enumerate(chars) }\n",
        "itos = { i:ch for i,ch in enumerate(chars) }\n",
        "encode = lambda s: [stoi[c] for c in s] # encoder: take a string, output a list of integers\n",
        "decode = lambda l: ''.join([itos[i] for i in l]) # decoder: take a list of integers, output a string\n",
        "\n",
        "# Train and test splits\n",
        "data = torch.tensor(encode(text), dtype=torch.long)\n",
        "n = int(0.9*len(data)) # first 90% will be train, rest val\n",
        "train_data = data[:n]\n",
        "val_data = data[n:]\n",
        "\n",
        "# data loading\n",
        "def get_batch(split):\n",
        "    # generate a small batch of data of inputs x and targets y\n",
        "    data = train_data if split == 'train' else val_data\n",
        "    ix = torch.randint(len(data) - block_size, (batch_size,))\n",
        "    x = torch.stack([data[i:i+block_size] for i in ix])\n",
        "    y = torch.stack([data[i+1:i+block_size+1] for i in ix])\n",
        "    x, y = x.to(device), y.to(device)\n",
        "    return x, y\n",
        "\n",
        "@torch.no_grad()\n",
        "def estimate_loss():\n",
        "    out = {}\n",
        "    model.eval()\n",
        "    for split in ['train', 'val']:\n",
        "        losses = torch.zeros(eval_iters)\n",
        "        for k in range(eval_iters):\n",
        "            X, Y = get_batch(split)\n",
        "            logits, loss = model(X, Y)\n",
        "            losses[k] = loss.item()\n",
        "        out[split] = losses.mean()\n",
        "    model.train()\n",
        "    return out\n",
        "\n",
        "class Head(nn.Module):\n",
        "    \"\"\" one head of self-attention \"\"\"\n",
        "\n",
        "    def __init__(self, head_size):\n",
        "        super().__init__()\n",
        "        self.key = nn.Linear(n_embd, head_size, bias=False)\n",
        "        self.query = nn.Linear(n_embd, head_size, bias=False)\n",
        "        self.value = nn.Linear(n_embd, head_size, bias=False)\n",
        "        self.register_buffer('tril', torch.tril(torch.ones(block_size, block_size)))\n",
        "\n",
        "        self.dropout = nn.Dropout(dropout)\n",
        "\n",
        "    def forward(self, x):\n",
        "        B,T,C = x.shape\n",
        "        k = self.key(x)   # (B,T,C)\n",
        "        q = self.query(x) # (B,T,C)\n",
        "        # compute attention scores (\"affinities\")\n",
        "        wei = q @ k.transpose(-2,-1) * C**-0.5 # (B, T, C) @ (B, C, T) -> (B, T, T)\n",
        "        wei = wei.masked_fill(self.tril[:T, :T] == 0, float('-inf')) # (B, T, T)\n",
        "        wei = F.softmax(wei, dim=-1) # (B, T, T)\n",
        "        wei = self.dropout(wei)\n",
        "        # perform the weighted aggregation of the values\n",
        "        v = self.value(x) # (B,T,C)\n",
        "        out = wei @ v # (B, T, T) @ (B, T, C) -> (B, T, C)\n",
        "        return out\n",
        "\n",
        "class MultiHeadAttention(nn.Module):\n",
        "    \"\"\" multiple heads of self-attention in parallel \"\"\"\n",
        "\n",
        "    def __init__(self, num_heads, head_size):\n",
        "        super().__init__()\n",
        "        self.heads = nn.ModuleList([Head(head_size) for _ in range(num_heads)])\n",
        "        self.proj = nn.Linear(n_embd, n_embd)\n",
        "        self.dropout = nn.Dropout(dropout)\n",
        "\n",
        "    def forward(self, x):\n",
        "        out = torch.cat([h(x) for h in self.heads], dim=-1)\n",
        "        out = self.dropout(self.proj(out))\n",
        "        return out\n",
        "\n",
        "class FeedFoward(nn.Module):\n",
        "    \"\"\" a simple linear layer followed by a non-linearity \"\"\"\n",
        "\n",
        "    def __init__(self, n_embd):\n",
        "        super().__init__()\n",
        "        self.net = nn.Sequential(\n",
        "            nn.Linear(n_embd, 4 * n_embd),\n",
        "            nn.ReLU(),\n",
        "            nn.Linear(4 * n_embd, n_embd),\n",
        "            nn.Dropout(dropout),\n",
        "        )\n",
        "\n",
        "    def forward(self, x):\n",
        "        return self.net(x)\n",
        "\n",
        "class Block(nn.Module):\n",
        "    \"\"\" Transformer block: communication followed by computation \"\"\"\n",
        "\n",
        "    def __init__(self, n_embd, n_head):\n",
        "        # n_embd: embedding dimension, n_head: the number of heads we'd like\n",
        "        super().__init__()\n",
        "        head_size = n_embd // n_head\n",
        "        self.sa = MultiHeadAttention(n_head, head_size)\n",
        "        self.ffwd = FeedFoward(n_embd)\n",
        "        self.ln1 = nn.LayerNorm(n_embd)\n",
        "        self.ln2 = nn.LayerNorm(n_embd)\n",
        "\n",
        "    def forward(self, x):\n",
        "        x = x + self.sa(self.ln1(x))\n",
        "        x = x + self.ffwd(self.ln2(x))\n",
        "        return x\n",
        "\n",
        "# super simple bigram model\n",
        "class BigramLanguageModel(nn.Module):\n",
        "\n",
        "    def __init__(self):\n",
        "        super().__init__()\n",
        "        # each token directly reads off the logits for the next token from a lookup table\n",
        "        self.token_embedding_table = nn.Embedding(vocab_size, n_embd)\n",
        "        self.position_embedding_table = nn.Embedding(block_size, n_embd)\n",
        "        self.blocks = nn.Sequential(*[Block(n_embd, n_head=n_head) for _ in range(n_layer)])\n",
        "        self.ln_f = nn.LayerNorm(n_embd) # final layer norm\n",
        "        self.lm_head = nn.Linear(n_embd, vocab_size)\n",
        "\n",
        "    def forward(self, idx, targets=None):\n",
        "        B, T = idx.shape\n",
        "\n",
        "        # idx and targets are both (B,T) tensor of integers\n",
        "        tok_emb = self.token_embedding_table(idx) # (B,T,C)\n",
        "        pos_emb = self.position_embedding_table(torch.arange(T, device=device)) # (T,C)\n",
        "        x = tok_emb + pos_emb # (B,T,C)\n",
        "        x = self.blocks(x) # (B,T,C)\n",
        "        x = self.ln_f(x) # (B,T,C)\n",
        "        logits = self.lm_head(x) # (B,T,vocab_size)\n",
        "\n",
        "        if targets is None:\n",
        "            loss = None\n",
        "        else:\n",
        "            B, T, C = logits.shape\n",
        "            logits = logits.view(B*T, C)\n",
        "            targets = targets.view(B*T)\n",
        "            loss = F.cross_entropy(logits, targets)\n",
        "\n",
        "        return logits, loss\n",
        "\n",
        "    def generate(self, idx, max_new_tokens):\n",
        "        # idx is (B, T) array of indices in the current context\n",
        "        for _ in range(max_new_tokens):\n",
        "            # crop idx to the last block_size tokens\n",
        "            idx_cond = idx[:, -block_size:]\n",
        "            # get the predictions\n",
        "            logits, loss = self(idx_cond)\n",
        "            # focus only on the last time step\n",
        "            logits = logits[:, -1, :] # becomes (B, C)\n",
        "            # apply softmax to get probabilities\n",
        "            probs = F.softmax(logits, dim=-1) # (B, C)\n",
        "            # sample from the distribution\n",
        "            idx_next = torch.multinomial(probs, num_samples=1) # (B, 1)\n",
        "            # append sampled index to the running sequence\n",
        "            idx = torch.cat((idx, idx_next), dim=1) # (B, T+1)\n",
        "        return idx\n",
        "\n",
        "model = BigramLanguageModel()\n",
        "m = model.to(device)\n",
        "# print the number of parameters in the model\n",
        "print(sum(p.numel() for p in m.parameters())/1e6, 'M parameters')\n",
        "\n",
        "# create a PyTorch optimizer\n",
        "optimizer = torch.optim.AdamW(model.parameters(), lr=learning_rate)\n",
        "\n",
        "for iter in range(max_iters):\n",
        "\n",
        "    # every once in a while evaluate the loss on train and val sets\n",
        "    if iter % eval_interval == 0 or iter == max_iters - 1:\n",
        "        losses = estimate_loss()\n",
        "        print(f\"step {iter}: train loss {losses['train']:.4f}, val loss {losses['val']:.4f}\")\n",
        "\n",
        "    # sample a batch of data\n",
        "    xb, yb = get_batch('train')\n",
        "\n",
        "    # evaluate the loss\n",
        "    logits, loss = model(xb, yb)\n",
        "    optimizer.zero_grad(set_to_none=True)\n",
        "    loss.backward()\n",
        "    optimizer.step()\n",
        "\n",
        "# generate from the model\n",
        "context = torch.zeros((1, 1), dtype=torch.long, device=device)\n",
        "print(decode(m.generate(context, max_new_tokens=2000)[0].tolist()))\n"
      ]
    },
    {
      "cell_type": "code",
      "execution_count": 47,
      "metadata": {
        "colab": {
          "base_uri": "https://localhost:8080/"
        },
        "id": "fjjvMifYZf7x",
        "outputId": "49c41123-e5ca-4ab7-820d-25ded1bc7cdb"
      },
      "outputs": [
        {
          "output_type": "stream",
          "name": "stdout",
          "text": [
            "Enter input text: vata\n",
            "Generated Text:\n",
            "vata can of beth which accurater in lack the variable qualititive Speace, and veince your life—time. Dreflmenew in all they weater gable are ember.\n",
            "Themparent, and everthron\n",
            "\n",
            "Condittly, Andyperactives and\n"
          ]
        }
      ],
      "source": [
        "class ModelAppCLI:\n",
        "    def __init__(self, model):\n",
        "        self.model = model\n",
        "\n",
        "    def generate_text(self, input_text):\n",
        "        input_indices = torch.tensor(encode(input_text), dtype=torch.long, device=device).unsqueeze(0)\n",
        "        generated_indices = self.model.generate(input_indices, max_new_tokens=200)[0].tolist()\n",
        "        generated_text = decode(generated_indices)\n",
        "        return generated_text\n",
        "\n",
        "# Initialize the frontend with the model\n",
        "app = ModelAppCLI(model)\n",
        "\n",
        "# Example usage\n",
        "input_text = input(\"Enter input text: \")\n",
        "generated_text = app.generate_text(input_text)\n",
        "print(\"Generated Text:\")\n",
        "print(generated_text)\n",
        "\n"
      ]
    },
    {
      "cell_type": "code",
      "execution_count": null,
      "metadata": {
        "id": "acxhF6EDjPGL"
      },
      "outputs": [],
      "source": []
    }
  ],
  "metadata": {
    "colab": {
      "provenance": []
    },
    "kernelspec": {
      "display_name": "Python 3",
      "name": "python3"
    },
    "language_info": {
      "name": "python"
    }
  },
  "nbformat": 4,
  "nbformat_minor": 0
}